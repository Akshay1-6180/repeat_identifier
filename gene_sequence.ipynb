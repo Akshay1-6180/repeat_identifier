{
  "cells": [
    {
      "cell_type": "code",
      "execution_count": 1,
      "metadata": {
        "colab": {
          "base_uri": "https://localhost:8080/"
        },
        "id": "YHqmqPWX6CJ8",
        "outputId": "2fcfb3eb-c1d9-4be7-f0b8-b9c64b21b7a3"
      },
      "outputs": [
        {
          "output_type": "stream",
          "name": "stdout",
          "text": [
            "Mounted at /gdrive\n"
          ]
        }
      ],
      "source": [
        "from google.colab import files\n",
        "from google.colab import drive\n",
        "drive.mount('/gdrive')"
      ]
    },
    {
      "cell_type": "code",
      "execution_count": 4,
      "metadata": {
        "colab": {
          "base_uri": "https://localhost:8080/"
        },
        "id": "3q6DsFL98dc5",
        "outputId": "657fd85e-48e0-4ef8-ce54-97f19ba292fb"
      },
      "outputs": [
        {
          "output_type": "stream",
          "name": "stdout",
          "text": [
            "/gdrive/My Drive/Colab Notebooks/GSOC\n"
          ]
        }
      ],
      "source": [
        "cd '/gdrive/My Drive/Colab Notebooks/GSOC'"
      ]
    },
    {
      "cell_type": "code",
      "execution_count": null,
      "metadata": {
        "colab": {
          "base_uri": "https://localhost:8080/"
        },
        "id": "2iPTGCIq61Ue",
        "outputId": "9784e213-8887-411c-a109-7fa0a40e6c3f"
      },
      "outputs": [
        {
          "name": "stdout",
          "output_type": "stream",
          "text": [
            "--2022-04-05 07:58:20--  http://ftp.ensembl.org/pub/release-105/fasta/drosophila_melanogaster/dna/Drosophila_melanogaster.BDGP6.32.dna_sm.primary_assembly.3L.fa.gz\n",
            "Resolving ftp.ensembl.org (ftp.ensembl.org)... 193.62.197.76\n",
            "Connecting to ftp.ensembl.org (ftp.ensembl.org)|193.62.197.76|:80... connected.\n",
            "HTTP request sent, awaiting response... 200 OK\n",
            "Length: 8894691 (8.5M) [application/x-gzip]\n",
            "Saving to: ‘Drosophila_melanogaster.BDGP6.32.dna_sm.primary_assembly.3L.fa.gz’\n",
            "\n",
            "Drosophila_melanoga 100%[===================>]   8.48M   175KB/s    in 48s     \n",
            "\n",
            "2022-04-05 07:59:09 (180 KB/s) - ‘Drosophila_melanogaster.BDGP6.32.dna_sm.primary_assembly.3L.fa.gz’ saved [8894691/8894691]\n",
            "\n"
          ]
        }
      ],
      "source": [
        "#!wget http://ftp.ensembl.org/pub/release-105/fasta/drosophila_melanogaster/dna/Drosophila_melanogaster.BDGP6.32.dna_sm.primary_assembly.3L.fa.gz"
      ]
    },
    {
      "cell_type": "code",
      "execution_count": 3,
      "metadata": {
        "colab": {
          "base_uri": "https://localhost:8080/"
        },
        "id": "Uz_Iv4oWvWt0",
        "outputId": "f3dce4a4-305b-4b1a-d990-f071ef3f58b4"
      },
      "outputs": [
        {
          "output_type": "stream",
          "name": "stdout",
          "text": [
            "\u001b[0m\u001b[01;34mdata\u001b[0m/\n",
            "Drosophila_melanogaster.BDGP6.32.dna_sm.primary_assembly.3L.fa\n",
            "gene_sequence.ipynb\n",
            "Homo_sapiens.GRCh38.dna_sm.chromosome.1.fa\n",
            "new.fa\n",
            "repeat_dataframe.csv\n",
            "seq_dict.pkl\n",
            "seq_words_dict.pkl\n"
          ]
        }
      ],
      "source": [
        "ls"
      ]
    },
    {
      "cell_type": "code",
      "execution_count": null,
      "metadata": {
        "id": "4X-gQRc98oUK"
      },
      "outputs": [],
      "source": [
        "#!gzip -d Drosophila_melanogaster.BDGP6.32.dna_sm.primary_assembly.3L.fa.gz"
      ]
    },
    {
      "cell_type": "code",
      "execution_count": 1,
      "metadata": {
        "colab": {
          "base_uri": "https://localhost:8080/"
        },
        "id": "KuVHJ4kS9sL4",
        "outputId": "8e47ca5e-5012-4ac3-8a57-3384fe8f8c0c"
      },
      "outputs": [
        {
          "output_type": "stream",
          "name": "stdout",
          "text": [
            "Requirement already satisfied: biopython in /usr/local/lib/python3.7/dist-packages (1.79)\n",
            "Requirement already satisfied: numpy in /usr/local/lib/python3.7/dist-packages (from biopython) (1.21.5)\n"
          ]
        }
      ],
      "source": [
        "!pip install biopython"
      ]
    },
    {
      "cell_type": "code",
      "source": [
        "from tqdm import tqdm\n",
        "from Bio import SeqIO\n",
        "from re import sub\n",
        "import pandas as pd"
      ],
      "metadata": {
        "id": "j1YWrzImFRQX"
      },
      "execution_count": 2,
      "outputs": []
    },
    {
      "cell_type": "markdown",
      "metadata": {
        "id": "8Dv1DXwLRUeD"
      },
      "source": [
        "# Getting the data"
      ]
    },
    {
      "cell_type": "code",
      "execution_count": null,
      "metadata": {
        "id": "GxSeT7G0JP0Q"
      },
      "outputs": [],
      "source": [
        "!sed 's/[Nn]//g' Drosophila_melanogaster.BDGP6.32.dna_sm.primary_assembly.3L.fa > new.fa"
      ]
    },
    {
      "cell_type": "code",
      "execution_count": null,
      "metadata": {
        "colab": {
          "base_uri": "https://localhost:8080/"
        },
        "id": "NpCN8GAF841s",
        "outputId": "c555ec23-e4c8-43c0-b77d-51d3e76a8e02"
      },
      "outputs": [
        {
          "name": "stdout",
          "output_type": "stream",
          "text": [
            "10000000 []\n",
            "20000000 []\n"
          ]
        }
      ],
      "source": [
        "#code to check if there are any N or n in file, N refers to un identified sequences\n",
        "fasta_sequences = SeqIO.parse(open(\"new.fa\"),'fasta')\n",
        "all_n_sequences = []\n",
        "for fasta in fasta_sequences:\n",
        "  count = 0\n",
        "  flag = 1\n",
        "  for i in fasta.seq:\n",
        "    if((i=='n' or i=='N') and flag==1):\n",
        "      all_n_sequences.append(count)\n",
        "      flag = 0\n",
        "    elif(i!='n' and i!='N'):\n",
        "      flag = 1\n",
        "    count+=1 \n",
        "    if(count%10000000==0):\n",
        "      print(count,all_n_sequences)"
      ]
    },
    {
      "cell_type": "code",
      "execution_count": null,
      "metadata": {
        "colab": {
          "base_uri": "https://localhost:8080/"
        },
        "id": "9BOCHtUbA41j",
        "outputId": "2736e5d2-ec66-468f-a4b1-c4924e8355a6"
      },
      "outputs": [
        {
          "name": "stdout",
          "output_type": "stream",
          "text": [
            "ACAACGAATTaaaaaaaGACACAAATTTTGACTAATAACTTCGGACGCTAACCCATTTTGAGGCATTCATAATTTACAAGGCTAATTCAATTACTATAGTAATATGATCCTTAAAAAGTTAGAAATATACTTGTTGCAAGGGCCTACTTAATTTTACCGaaaacaagagaaaatgctatggtcgagttccccgactgtaagatacccgttacgaagctagtgtgaatgcaaaGATATTTTGGaataaaaaaaataaaaaaaaaTTTTTTAATTGTTCAAAAGTGGCGTGACCGTTTTGTAGGTGTAAAGTGTTTTTGGTATACCTGTAGAAATTGGCAAGACAACCAATAAAACGAAGaaaaatcaaaaaaTTTGTTTTGTTTgcatggcaacatgagtcaagactcttgcgttgcgtctatgtttctaggatctgtaggcctaatctcaaccttctagcttttatagttcctgagatctcgacgttcatacggacggacagggccagatcgactcagctatgatcaagaacatatataCTTCATCGTTGGAAACACTGTCTTCTACTATTCAATGAATATACAATAGTATAACCTTATACTCCATGAGTAATGGGTATAAAAACATTCGATTATCGACAACCAAGTATTGCTTGATTTATTTGTCGGTTGTTGGACCTCAATGAAGCCGGCCAAAGGTCTATTCCGCATGTATACCACTCTCGCCTTAACGGATAATTAAGTTTCTCTCAGTCAAAAAGAGTACGCAAAAGGGAGGGGCAATGTGAAGTTTGTGTACATAAAGCGTAAAATTAAATTATCACCGCACTTAATAAATTATCCTGTAGTAAAGTGCGGCTGAGGTCATTGAACTCCGTATACCCGATGATACGTAGCAGATGTTGTCCCAGGTCGCTTACGACGTTATTCGACGAGCAGATTGACCCGACTGCCACAAAATATTATTTAATGAGCTGGAATGTCGCTTAATACATTAGAGC\n",
            "\n",
            "\n",
            "NNNNNNNNNNRRRRRRRNNNNNNNNNNNNNNNNNNNNNNNNNNNNNNNNNNNNNNNNNNNNNNNNNNNNNNNNNNNNNNNNNNNNNNNNNNNNNNNNNNNNNNNNNNNNNNNNNNNNNNNNNNNNNNNNNNNNNNNNNNNNNNNNNNNNNNNNNNNNNNRRRRRRRRRRRRRRRRRRRRRRRRRRRRRRRRRRRRRRRRRRRRRRRRRRRRRRRRRRRRRRRRRRRRRRRRRNNNNNNNNNNRRRRRRRRRRRRRRRRRRRRRNNNNNNNNNNNNNNNNNNNNNNNNNNNNNNNNNNNNNNNNNNNNNNNNNNNNNNNNNNNNNNNNNNNNNNNNNNNNNNNNNNNNNNNNNNNNNNNRRRRRRRRRRRRRNNNNNNNNNNNNRRRRRRRRRRRRRRRRRRRRRRRRRRRRRRRRRRRRRRRRRRRRRRRRRRRRRRRRRRRRRRRRRRRRRRRRRRRRRRRRRRRRRRRRRRRRRRRRRRRRRRRRRRRRRRRRRRRRRRRRRRRRRRRRRRRRRRRRRRRRRRRRRRRRRRRRRRRRNNNNNNNNNNNNNNNNNNNNNNNNNNNNNNNNNNNNNNNNNNNNNNNNNNNNNNNNNNNNNNNNNNNNNNNNNNNNNNNNNNNNNNNNNNNNNNNNNNNNNNNNNNNNNNNNNNNNNNNNNNNNNNNNNNNNNNNNNNNNNNNNNNNNNNNNNNNNNNNNNNNNNNNNNNNNNNNNNNNNNNNNNNNNNNNNNNNNNNNNNNNNNNNNNNNNNNNNNNNNNNNNNNNNNNNNNNNNNNNNNNNNNNNNNNNNNNNNNNNNNNNNNNNNNNNNNNNNNNNNNNNNNNNNNNNNNNNNNNNNNNNNNNNNNNNNNNNNNNNNNNNNNNNNNNNNNNNNNNNNNNNNNNNNNNNNNNNNNNNNNNNNNNNNNNNNNNNNNNNNNNNNNNNNNNNNNNNNNNNNNNNNNNNNNNNNNNNNNNNNNNNNNNNNNNNNNNNNNNNNNNNNNNNNNNNNNNNNNNNNN\n"
          ]
        }
      ],
      "source": [
        "fasta_sequences = SeqIO.parse(open(\"new.fa\"),'fasta')\n",
        "all_n_sequences = []\n",
        "for fasta in fasta_sequences:\n",
        "  print(fasta.seq[100000:101000])\n",
        "  print(\"\\n\")\n",
        "  seq = fasta.seq[100000:101000]\n",
        "  seq_lower = sub(\"[atgc]\", 'R', str(seq))\n",
        "  seq_upper = sub(\"[ATGC]\", 'N', seq_lower)\n",
        "  print(seq_upper)\n",
        "  break"
      ]
    },
    {
      "cell_type": "code",
      "execution_count": null,
      "metadata": {
        "colab": {
          "base_uri": "https://localhost:8080/"
        },
        "id": "SB4FUVsWW-NY",
        "outputId": "55d1191f-507b-454d-8d2c-c7466e9aaafb"
      },
      "outputs": [
        {
          "data": {
            "text/plain": [
              "27992067"
            ]
          },
          "execution_count": 27,
          "metadata": {},
          "output_type": "execute_result"
        }
      ],
      "source": [
        "len(fasta)"
      ]
    },
    {
      "cell_type": "markdown",
      "metadata": {
        "id": "gh9_aXFMazH7"
      },
      "source": [
        "First, the genome\n",
        "needs to be cut into subsequences, which together with their conserved protein domain infor- mation are used as input to the machine learning model. In our approach, we use a sliding window to generate all subsequences ofa particular length (1000 nucleotides in our tests) with an overlapping between them that avoids important regions potentially being cut (1,00 nucleotides in our tests)."
      ]
    },
    {
      "cell_type": "code",
      "execution_count": null,
      "metadata": {
        "colab": {
          "base_uri": "https://localhost:8080/"
        },
        "id": "5W2dALgvPgrD",
        "outputId": "19ca8bdf-b44c-4552-e9a8-b381e9057505"
      },
      "outputs": [
        {
          "name": "stderr",
          "output_type": "stream",
          "text": [
            "100%|██████████| 27992/27992 [00:03<00:00, 8501.30it/s]\n"
          ]
        }
      ],
      "source": [
        "fasta_sequences = SeqIO.parse(open(\"new.fa\"),'fasta')\n",
        "all_n_sequences = []\n",
        "seq_dict = {}\n",
        "seq_dict['Sequence']=[]\n",
        "seq_dict['Translated']=[]\n",
        "for fasta in fasta_sequences:\n",
        "  for i in tqdm(range(0, len(fasta)-1000, 1000)):\n",
        "    if(i==0):\n",
        "      seq = fasta.seq[i:i+1000]\n",
        "    else:\n",
        "      seq = fasta.seq[i-100:i+900]\n",
        "    seq_dict['Sequence'].append(str(seq))\n",
        "    seq_lower = sub(\"[atgc]\", 'R', str(seq))\n",
        "    seq_upper = sub(\"[ATGC]\", 'N', seq_lower)\n",
        "    seq_dict['Translated'].append(seq_upper)"
      ]
    },
    {
      "cell_type": "code",
      "execution_count": null,
      "metadata": {
        "id": "-2bYjTZXWqHp"
      },
      "outputs": [],
      "source": [
        "import pickle\n",
        "with open('seq_dict.pkl', 'wb') as f:\n",
        "    pickle.dump(seq_dict, f)"
      ]
    },
    {
      "cell_type": "code",
      "execution_count": null,
      "metadata": {
        "colab": {
          "base_uri": "https://localhost:8080/",
          "height": 206
        },
        "id": "29BDeg5MQy3W",
        "outputId": "9259d2ef-9162-403d-e86b-31fa45ae1d03"
      },
      "outputs": [
        {
          "data": {
            "text/html": [
              "\n",
              "  <div id=\"df-679f5432-589e-42f8-8c50-747fe485790d\">\n",
              "    <div class=\"colab-df-container\">\n",
              "      <div>\n",
              "<style scoped>\n",
              "    .dataframe tbody tr th:only-of-type {\n",
              "        vertical-align: middle;\n",
              "    }\n",
              "\n",
              "    .dataframe tbody tr th {\n",
              "        vertical-align: top;\n",
              "    }\n",
              "\n",
              "    .dataframe thead th {\n",
              "        text-align: right;\n",
              "    }\n",
              "</style>\n",
              "<table border=\"1\" class=\"dataframe\">\n",
              "  <thead>\n",
              "    <tr style=\"text-align: right;\">\n",
              "      <th></th>\n",
              "      <th>Sequence</th>\n",
              "      <th>Translated</th>\n",
              "    </tr>\n",
              "  </thead>\n",
              "  <tbody>\n",
              "    <tr>\n",
              "      <th>0</th>\n",
              "      <td>tagggagaaatatgatcgcgtatgcgagagtagtgccaacatattg...</td>\n",
              "      <td>RRRRRRRRRRRRRRRRRRRRRRRRRRRRRRRRRRRRRRRRRRRRRR...</td>\n",
              "    </tr>\n",
              "    <tr>\n",
              "      <th>1</th>\n",
              "      <td>tttctctcccatattatagggagaaatatgatcgcgtatgcgagag...</td>\n",
              "      <td>RRRRRRRRRRRRRRRRRRRRRRRRRRRRRRRRRRRRRRRRRRRRRR...</td>\n",
              "    </tr>\n",
              "    <tr>\n",
              "      <th>2</th>\n",
              "      <td>ccaaaatggtggcggatgaacgagatgataatatattcaagttgcc...</td>\n",
              "      <td>RRRRRRRRRRRRRRRRRRRRRRRRRRRRRRRRRRRRRRRRRRRRRR...</td>\n",
              "    </tr>\n",
              "    <tr>\n",
              "      <th>3</th>\n",
              "      <td>atatatgatcgcgtatgcgagagtagtgccaacatattgtgctaat...</td>\n",
              "      <td>RRRRRRRRRRRRRRRRRRRRRRRRRRRRRRRRRRRRRRRRRRRRRR...</td>\n",
              "    </tr>\n",
              "    <tr>\n",
              "      <th>4</th>\n",
              "      <td>caaaaagacaatacacgacagagagagagagcagcggagatattta...</td>\n",
              "      <td>RRRRRRRRRRRRRRRRRRRRRRRRRRRRRRRRRRRRRRRRRRRRRR...</td>\n",
              "    </tr>\n",
              "  </tbody>\n",
              "</table>\n",
              "</div>\n",
              "      <button class=\"colab-df-convert\" onclick=\"convertToInteractive('df-679f5432-589e-42f8-8c50-747fe485790d')\"\n",
              "              title=\"Convert this dataframe to an interactive table.\"\n",
              "              style=\"display:none;\">\n",
              "        \n",
              "  <svg xmlns=\"http://www.w3.org/2000/svg\" height=\"24px\"viewBox=\"0 0 24 24\"\n",
              "       width=\"24px\">\n",
              "    <path d=\"M0 0h24v24H0V0z\" fill=\"none\"/>\n",
              "    <path d=\"M18.56 5.44l.94 2.06.94-2.06 2.06-.94-2.06-.94-.94-2.06-.94 2.06-2.06.94zm-11 1L8.5 8.5l.94-2.06 2.06-.94-2.06-.94L8.5 2.5l-.94 2.06-2.06.94zm10 10l.94 2.06.94-2.06 2.06-.94-2.06-.94-.94-2.06-.94 2.06-2.06.94z\"/><path d=\"M17.41 7.96l-1.37-1.37c-.4-.4-.92-.59-1.43-.59-.52 0-1.04.2-1.43.59L10.3 9.45l-7.72 7.72c-.78.78-.78 2.05 0 2.83L4 21.41c.39.39.9.59 1.41.59.51 0 1.02-.2 1.41-.59l7.78-7.78 2.81-2.81c.8-.78.8-2.07 0-2.86zM5.41 20L4 18.59l7.72-7.72 1.47 1.35L5.41 20z\"/>\n",
              "  </svg>\n",
              "      </button>\n",
              "      \n",
              "  <style>\n",
              "    .colab-df-container {\n",
              "      display:flex;\n",
              "      flex-wrap:wrap;\n",
              "      gap: 12px;\n",
              "    }\n",
              "\n",
              "    .colab-df-convert {\n",
              "      background-color: #E8F0FE;\n",
              "      border: none;\n",
              "      border-radius: 50%;\n",
              "      cursor: pointer;\n",
              "      display: none;\n",
              "      fill: #1967D2;\n",
              "      height: 32px;\n",
              "      padding: 0 0 0 0;\n",
              "      width: 32px;\n",
              "    }\n",
              "\n",
              "    .colab-df-convert:hover {\n",
              "      background-color: #E2EBFA;\n",
              "      box-shadow: 0px 1px 2px rgba(60, 64, 67, 0.3), 0px 1px 3px 1px rgba(60, 64, 67, 0.15);\n",
              "      fill: #174EA6;\n",
              "    }\n",
              "\n",
              "    [theme=dark] .colab-df-convert {\n",
              "      background-color: #3B4455;\n",
              "      fill: #D2E3FC;\n",
              "    }\n",
              "\n",
              "    [theme=dark] .colab-df-convert:hover {\n",
              "      background-color: #434B5C;\n",
              "      box-shadow: 0px 1px 3px 1px rgba(0, 0, 0, 0.15);\n",
              "      filter: drop-shadow(0px 1px 2px rgba(0, 0, 0, 0.3));\n",
              "      fill: #FFFFFF;\n",
              "    }\n",
              "  </style>\n",
              "\n",
              "      <script>\n",
              "        const buttonEl =\n",
              "          document.querySelector('#df-679f5432-589e-42f8-8c50-747fe485790d button.colab-df-convert');\n",
              "        buttonEl.style.display =\n",
              "          google.colab.kernel.accessAllowed ? 'block' : 'none';\n",
              "\n",
              "        async function convertToInteractive(key) {\n",
              "          const element = document.querySelector('#df-679f5432-589e-42f8-8c50-747fe485790d');\n",
              "          const dataTable =\n",
              "            await google.colab.kernel.invokeFunction('convertToInteractive',\n",
              "                                                     [key], {});\n",
              "          if (!dataTable) return;\n",
              "\n",
              "          const docLinkHtml = 'Like what you see? Visit the ' +\n",
              "            '<a target=\"_blank\" href=https://colab.research.google.com/notebooks/data_table.ipynb>data table notebook</a>'\n",
              "            + ' to learn more about interactive tables.';\n",
              "          element.innerHTML = '';\n",
              "          dataTable['output_type'] = 'display_data';\n",
              "          await google.colab.output.renderOutput(dataTable, element);\n",
              "          const docLink = document.createElement('div');\n",
              "          docLink.innerHTML = docLinkHtml;\n",
              "          element.appendChild(docLink);\n",
              "        }\n",
              "      </script>\n",
              "    </div>\n",
              "  </div>\n",
              "  "
            ],
            "text/plain": [
              "                                            Sequence  \\\n",
              "0  tagggagaaatatgatcgcgtatgcgagagtagtgccaacatattg...   \n",
              "1  tttctctcccatattatagggagaaatatgatcgcgtatgcgagag...   \n",
              "2  ccaaaatggtggcggatgaacgagatgataatatattcaagttgcc...   \n",
              "3  atatatgatcgcgtatgcgagagtagtgccaacatattgtgctaat...   \n",
              "4  caaaaagacaatacacgacagagagagagagcagcggagatattta...   \n",
              "\n",
              "                                          Translated  \n",
              "0  RRRRRRRRRRRRRRRRRRRRRRRRRRRRRRRRRRRRRRRRRRRRRR...  \n",
              "1  RRRRRRRRRRRRRRRRRRRRRRRRRRRRRRRRRRRRRRRRRRRRRR...  \n",
              "2  RRRRRRRRRRRRRRRRRRRRRRRRRRRRRRRRRRRRRRRRRRRRRR...  \n",
              "3  RRRRRRRRRRRRRRRRRRRRRRRRRRRRRRRRRRRRRRRRRRRRRR...  \n",
              "4  RRRRRRRRRRRRRRRRRRRRRRRRRRRRRRRRRRRRRRRRRRRRRR...  "
            ]
          },
          "execution_count": 30,
          "metadata": {},
          "output_type": "execute_result"
        }
      ],
      "source": [
        "repeat_df = pd.DataFrame.from_dict(seq_dict)\n",
        "repeat_df.head()"
      ]
    },
    {
      "cell_type": "code",
      "execution_count": null,
      "metadata": {
        "id": "Krn31xkRRGbn"
      },
      "outputs": [],
      "source": [
        "repeat_df.to_csv('repeat_dataframe.csv')"
      ]
    },
    {
      "cell_type": "markdown",
      "metadata": {
        "id": "Z7IykLkoRXe_"
      },
      "source": [
        "#Translating"
      ]
    },
    {
      "cell_type": "code",
      "execution_count": null,
      "metadata": {
        "colab": {
          "base_uri": "https://localhost:8080/",
          "height": 206
        },
        "id": "rpzFH7jTRIDV",
        "outputId": "cdb7614c-502d-4070-dc29-61be947bf212"
      },
      "outputs": [
        {
          "output_type": "execute_result",
          "data": {
            "text/plain": [
              "                                            Sequence  \\\n",
              "0  tagggagaaatatgatcgcgtatgcgagagtagtgccaacatattg...   \n",
              "1  tttctctcccatattatagggagaaatatgatcgcgtatgcgagag...   \n",
              "2  ccaaaatggtggcggatgaacgagatgataatatattcaagttgcc...   \n",
              "3  atatatgatcgcgtatgcgagagtagtgccaacatattgtgctaat...   \n",
              "4  caaaaagacaatacacgacagagagagagagcagcggagatattta...   \n",
              "\n",
              "                                          Translated  \\\n",
              "0  RRRRRRRRRRRRRRRRRRRRRRRRRRRRRRRRRRRRRRRRRRRRRR...   \n",
              "1  RRRRRRRRRRRRRRRRRRRRRRRRRRRRRRRRRRRRRRRRRRRRRR...   \n",
              "2  RRRRRRRRRRRRRRRRRRRRRRRRRRRRRRRRRRRRRRRRRRRRRR...   \n",
              "3  RRRRRRRRRRRRRRRRRRRRRRRRRRRRRRRRRRRRRRRRRRRRRR...   \n",
              "4  RRRRRRRRRRRRRRRRRRRRRRRRRRRRRRRRRRRRRRRRRRRRRR...   \n",
              "\n",
              "                                  Sequence_words_new  \\\n",
              "0  tagg aggg ggga ggag gaga agaa gaaa aaat aata a...   \n",
              "1  tttc ttct tctc ctct tctc ctcc tccc ccca ccat c...   \n",
              "2  ccaa caaa aaaa aaat aatg atgg tggt ggtg gtgg t...   \n",
              "3  atat tata atat tatg atga tgat gatc atcg tcgc c...   \n",
              "4  caaa aaaa aaaa aaag aaga agac gaca acaa caat a...   \n",
              "\n",
              "                                Translated_words_new  \n",
              "0  rrrr rrrr rrrr rrrr rrrr rrrr rrrr rrrr rrrr r...  \n",
              "1  rrrr rrrr rrrr rrrr rrrr rrrr rrrr rrrr rrrr r...  \n",
              "2  rrrr rrrr rrrr rrrr rrrr rrrr rrrr rrrr rrrr r...  \n",
              "3  rrrr rrrr rrrr rrrr rrrr rrrr rrrr rrrr rrrr r...  \n",
              "4  rrrr rrrr rrrr rrrr rrrr rrrr rrrr rrrr rrrr r...  "
            ],
            "text/html": [
              "\n",
              "  <div id=\"df-bc28ca58-d09b-473e-a88c-a3fde9e8c36d\">\n",
              "    <div class=\"colab-df-container\">\n",
              "      <div>\n",
              "<style scoped>\n",
              "    .dataframe tbody tr th:only-of-type {\n",
              "        vertical-align: middle;\n",
              "    }\n",
              "\n",
              "    .dataframe tbody tr th {\n",
              "        vertical-align: top;\n",
              "    }\n",
              "\n",
              "    .dataframe thead th {\n",
              "        text-align: right;\n",
              "    }\n",
              "</style>\n",
              "<table border=\"1\" class=\"dataframe\">\n",
              "  <thead>\n",
              "    <tr style=\"text-align: right;\">\n",
              "      <th></th>\n",
              "      <th>Sequence</th>\n",
              "      <th>Translated</th>\n",
              "      <th>Sequence_words_new</th>\n",
              "      <th>Translated_words_new</th>\n",
              "    </tr>\n",
              "  </thead>\n",
              "  <tbody>\n",
              "    <tr>\n",
              "      <th>0</th>\n",
              "      <td>tagggagaaatatgatcgcgtatgcgagagtagtgccaacatattg...</td>\n",
              "      <td>RRRRRRRRRRRRRRRRRRRRRRRRRRRRRRRRRRRRRRRRRRRRRR...</td>\n",
              "      <td>tagg aggg ggga ggag gaga agaa gaaa aaat aata a...</td>\n",
              "      <td>rrrr rrrr rrrr rrrr rrrr rrrr rrrr rrrr rrrr r...</td>\n",
              "    </tr>\n",
              "    <tr>\n",
              "      <th>1</th>\n",
              "      <td>tttctctcccatattatagggagaaatatgatcgcgtatgcgagag...</td>\n",
              "      <td>RRRRRRRRRRRRRRRRRRRRRRRRRRRRRRRRRRRRRRRRRRRRRR...</td>\n",
              "      <td>tttc ttct tctc ctct tctc ctcc tccc ccca ccat c...</td>\n",
              "      <td>rrrr rrrr rrrr rrrr rrrr rrrr rrrr rrrr rrrr r...</td>\n",
              "    </tr>\n",
              "    <tr>\n",
              "      <th>2</th>\n",
              "      <td>ccaaaatggtggcggatgaacgagatgataatatattcaagttgcc...</td>\n",
              "      <td>RRRRRRRRRRRRRRRRRRRRRRRRRRRRRRRRRRRRRRRRRRRRRR...</td>\n",
              "      <td>ccaa caaa aaaa aaat aatg atgg tggt ggtg gtgg t...</td>\n",
              "      <td>rrrr rrrr rrrr rrrr rrrr rrrr rrrr rrrr rrrr r...</td>\n",
              "    </tr>\n",
              "    <tr>\n",
              "      <th>3</th>\n",
              "      <td>atatatgatcgcgtatgcgagagtagtgccaacatattgtgctaat...</td>\n",
              "      <td>RRRRRRRRRRRRRRRRRRRRRRRRRRRRRRRRRRRRRRRRRRRRRR...</td>\n",
              "      <td>atat tata atat tatg atga tgat gatc atcg tcgc c...</td>\n",
              "      <td>rrrr rrrr rrrr rrrr rrrr rrrr rrrr rrrr rrrr r...</td>\n",
              "    </tr>\n",
              "    <tr>\n",
              "      <th>4</th>\n",
              "      <td>caaaaagacaatacacgacagagagagagagcagcggagatattta...</td>\n",
              "      <td>RRRRRRRRRRRRRRRRRRRRRRRRRRRRRRRRRRRRRRRRRRRRRR...</td>\n",
              "      <td>caaa aaaa aaaa aaag aaga agac gaca acaa caat a...</td>\n",
              "      <td>rrrr rrrr rrrr rrrr rrrr rrrr rrrr rrrr rrrr r...</td>\n",
              "    </tr>\n",
              "  </tbody>\n",
              "</table>\n",
              "</div>\n",
              "      <button class=\"colab-df-convert\" onclick=\"convertToInteractive('df-bc28ca58-d09b-473e-a88c-a3fde9e8c36d')\"\n",
              "              title=\"Convert this dataframe to an interactive table.\"\n",
              "              style=\"display:none;\">\n",
              "        \n",
              "  <svg xmlns=\"http://www.w3.org/2000/svg\" height=\"24px\"viewBox=\"0 0 24 24\"\n",
              "       width=\"24px\">\n",
              "    <path d=\"M0 0h24v24H0V0z\" fill=\"none\"/>\n",
              "    <path d=\"M18.56 5.44l.94 2.06.94-2.06 2.06-.94-2.06-.94-.94-2.06-.94 2.06-2.06.94zm-11 1L8.5 8.5l.94-2.06 2.06-.94-2.06-.94L8.5 2.5l-.94 2.06-2.06.94zm10 10l.94 2.06.94-2.06 2.06-.94-2.06-.94-.94-2.06-.94 2.06-2.06.94z\"/><path d=\"M17.41 7.96l-1.37-1.37c-.4-.4-.92-.59-1.43-.59-.52 0-1.04.2-1.43.59L10.3 9.45l-7.72 7.72c-.78.78-.78 2.05 0 2.83L4 21.41c.39.39.9.59 1.41.59.51 0 1.02-.2 1.41-.59l7.78-7.78 2.81-2.81c.8-.78.8-2.07 0-2.86zM5.41 20L4 18.59l7.72-7.72 1.47 1.35L5.41 20z\"/>\n",
              "  </svg>\n",
              "      </button>\n",
              "      \n",
              "  <style>\n",
              "    .colab-df-container {\n",
              "      display:flex;\n",
              "      flex-wrap:wrap;\n",
              "      gap: 12px;\n",
              "    }\n",
              "\n",
              "    .colab-df-convert {\n",
              "      background-color: #E8F0FE;\n",
              "      border: none;\n",
              "      border-radius: 50%;\n",
              "      cursor: pointer;\n",
              "      display: none;\n",
              "      fill: #1967D2;\n",
              "      height: 32px;\n",
              "      padding: 0 0 0 0;\n",
              "      width: 32px;\n",
              "    }\n",
              "\n",
              "    .colab-df-convert:hover {\n",
              "      background-color: #E2EBFA;\n",
              "      box-shadow: 0px 1px 2px rgba(60, 64, 67, 0.3), 0px 1px 3px 1px rgba(60, 64, 67, 0.15);\n",
              "      fill: #174EA6;\n",
              "    }\n",
              "\n",
              "    [theme=dark] .colab-df-convert {\n",
              "      background-color: #3B4455;\n",
              "      fill: #D2E3FC;\n",
              "    }\n",
              "\n",
              "    [theme=dark] .colab-df-convert:hover {\n",
              "      background-color: #434B5C;\n",
              "      box-shadow: 0px 1px 3px 1px rgba(0, 0, 0, 0.15);\n",
              "      filter: drop-shadow(0px 1px 2px rgba(0, 0, 0, 0.3));\n",
              "      fill: #FFFFFF;\n",
              "    }\n",
              "  </style>\n",
              "\n",
              "      <script>\n",
              "        const buttonEl =\n",
              "          document.querySelector('#df-bc28ca58-d09b-473e-a88c-a3fde9e8c36d button.colab-df-convert');\n",
              "        buttonEl.style.display =\n",
              "          google.colab.kernel.accessAllowed ? 'block' : 'none';\n",
              "\n",
              "        async function convertToInteractive(key) {\n",
              "          const element = document.querySelector('#df-bc28ca58-d09b-473e-a88c-a3fde9e8c36d');\n",
              "          const dataTable =\n",
              "            await google.colab.kernel.invokeFunction('convertToInteractive',\n",
              "                                                     [key], {});\n",
              "          if (!dataTable) return;\n",
              "\n",
              "          const docLinkHtml = 'Like what you see? Visit the ' +\n",
              "            '<a target=\"_blank\" href=https://colab.research.google.com/notebooks/data_table.ipynb>data table notebook</a>'\n",
              "            + ' to learn more about interactive tables.';\n",
              "          element.innerHTML = '';\n",
              "          dataTable['output_type'] = 'display_data';\n",
              "          await google.colab.output.renderOutput(dataTable, element);\n",
              "          const docLink = document.createElement('div');\n",
              "          docLink.innerHTML = docLinkHtml;\n",
              "          element.appendChild(docLink);\n",
              "        }\n",
              "      </script>\n",
              "    </div>\n",
              "  </div>\n",
              "  "
            ]
          },
          "metadata": {},
          "execution_count": 6
        }
      ],
      "source": [
        "repeat_df = pd.read_csv(\"repeat_dataframe.csv\")\n",
        "repeat_df.drop('Unnamed: 0',axis='columns', inplace=True)\n",
        "repeat_df.head()"
      ]
    },
    {
      "cell_type": "code",
      "execution_count": null,
      "metadata": {
        "id": "Qz7uhWJdSjCe"
      },
      "outputs": [],
      "source": [
        "counter_R = 0\n",
        "counter_N = 0\n",
        "ratio = 0\n",
        "for rep in repeat_df['Translated']:\n",
        "  counter_R += rep.count('R')\n",
        "  counter_N += rep.count('N')"
      ]
    },
    {
      "cell_type": "code",
      "execution_count": null,
      "metadata": {
        "colab": {
          "base_uri": "https://localhost:8080/"
        },
        "id": "ldBhF8cRT2nO",
        "outputId": "1730114e-871c-43b8-ddc8-86a779bd4063"
      },
      "outputs": [
        {
          "output_type": "execute_result",
          "data": {
            "text/plain": [
              "0.27673727399624787"
            ]
          },
          "metadata": {},
          "execution_count": 8
        }
      ],
      "source": [
        "counter_R/counter_N"
      ]
    },
    {
      "cell_type": "code",
      "source": [
        "# function to convert sequence strings into k-mer words, default size = 4 (hexamer words)\n",
        "def getKmers(sequence, size=4):\n",
        "    return [sequence[x:x+size].lower() for x in range(len(sequence) - size + 1)]"
      ],
      "metadata": {
        "id": "NixuVkmvxkL-"
      },
      "execution_count": null,
      "outputs": []
    },
    {
      "cell_type": "code",
      "source": [
        "dict_words = {}\n",
        "dict_words['Sequence_words'] = []\n",
        "dict_words['Translated_words'] = []\n",
        "for i in tqdm(range(len(repeat_df))):\n",
        "  dict_words['Sequence_words'].append(getKmers(repeat_df['Sequence'][i]))\n",
        "  dict_words['Translated_words'].append(getKmers(repeat_df['Translated'][i]))"
      ],
      "metadata": {
        "colab": {
          "base_uri": "https://localhost:8080/"
        },
        "id": "L8Z5EeJbxlEg",
        "outputId": "4786024b-8de5-4d11-8364-71801e8b9aba"
      },
      "execution_count": null,
      "outputs": [
        {
          "output_type": "stream",
          "name": "stderr",
          "text": [
            "100%|██████████| 27992/27992 [00:20<00:00, 1373.07it/s]\n"
          ]
        }
      ]
    },
    {
      "cell_type": "code",
      "source": [
        "repeat_df['Sequence_words'] = dict_words['Sequence_words']\n",
        "repeat_df['Translated_words'] = dict_words['Translated_words']"
      ],
      "metadata": {
        "id": "qZvh8tCixmco"
      },
      "execution_count": null,
      "outputs": []
    },
    {
      "cell_type": "code",
      "source": [
        "len(getKmers(repeat_df['Sequence'][0]))"
      ],
      "metadata": {
        "colab": {
          "base_uri": "https://localhost:8080/"
        },
        "id": "JbXL9iNdbvNW",
        "outputId": "acd3fa5b-9b1c-431d-8e5f-00e3f175bca0"
      },
      "execution_count": null,
      "outputs": [
        {
          "output_type": "execute_result",
          "data": {
            "text/plain": [
              "997"
            ]
          },
          "metadata": {},
          "execution_count": 12
        }
      ]
    },
    {
      "cell_type": "code",
      "source": [
        "import pickle\n",
        "with open('seq_words_dict.pkl', 'wb') as f:\n",
        "    pickle.dump(dict_words, f)"
      ],
      "metadata": {
        "id": "Vair3MM1_TSx"
      },
      "execution_count": null,
      "outputs": []
    },
    {
      "cell_type": "code",
      "source": [
        "repeat_df['Sequence_words_new'] = [' '.join(x) for x in repeat_df['Sequence_words']]\n",
        "repeat_df['Translated_words_new'] = [' '.join(x) for x in repeat_df['Translated_words']]"
      ],
      "metadata": {
        "id": "_18l3wR9_7ct"
      },
      "execution_count": null,
      "outputs": []
    },
    {
      "cell_type": "code",
      "source": [
        "repeat_df.drop(['Sequence_words','Translated_words'], axis=1, inplace=True)"
      ],
      "metadata": {
        "id": "90IFHFgSAQZ_"
      },
      "execution_count": null,
      "outputs": []
    },
    {
      "cell_type": "code",
      "source": [
        "repeat_df.to_csv('repeat_dataframe.csv')"
      ],
      "metadata": {
        "id": "5-6cennfxnnJ"
      },
      "execution_count": null,
      "outputs": []
    },
    {
      "cell_type": "markdown",
      "metadata": {
        "id": "EcBY-sLkZvgp"
      },
      "source": [
        "# LANGUAGE TRNSLATION WITH ATTENTION"
      ]
    },
    {
      "cell_type": "code",
      "source": [
        "with open('seq_words_dict.pkl', 'rb') as f:\n",
        "    dict_words = pickle.load(f)"
      ],
      "metadata": {
        "id": "W0mFPNM1_yQB"
      },
      "execution_count": null,
      "outputs": []
    },
    {
      "cell_type": "code",
      "source": [
        "repeat_df = pd.read_csv('repeat_dataframe.csv')"
      ],
      "metadata": {
        "id": "AsoRAxSPFVps"
      },
      "execution_count": 5,
      "outputs": []
    },
    {
      "cell_type": "code",
      "source": [
        "repeat_df"
      ],
      "metadata": {
        "colab": {
          "base_uri": "https://localhost:8080/",
          "height": 424
        },
        "id": "LTa8ZpVfSr0T",
        "outputId": "5dfac976-7dda-4667-d661-ab4fa1de30b0"
      },
      "execution_count": 6,
      "outputs": [
        {
          "output_type": "execute_result",
          "data": {
            "text/plain": [
              "       Unnamed: 0                                           Sequence  \\\n",
              "0               0  tagggagaaatatgatcgcgtatgcgagagtagtgccaacatattg...   \n",
              "1               1  tttctctcccatattatagggagaaatatgatcgcgtatgcgagag...   \n",
              "2               2  ccaaaatggtggcggatgaacgagatgataatatattcaagttgcc...   \n",
              "3               3  atatatgatcgcgtatgcgagagtagtgccaacatattgtgctaat...   \n",
              "4               4  caaaaagacaatacacgacagagagagagagcagcggagatattta...   \n",
              "...           ...                                                ...   \n",
              "27987       27987  tgaatacatgtagaacaacaggtcaagccttgttggccacggcctt...   \n",
              "27988       27988  atttgtggtttcggcagatattgaaaagatgtaccgacaaattaaa...   \n",
              "27989       27989  agtggtcaaagtaagatcaaatttataagaagaagaacggatgaca...   \n",
              "27990       27990  agaagatttattgctagacggggaaaatgttccaatatctattcaa...   \n",
              "27991       27991  aaatgttaacaaagggtaatgcgcttatacaaagtatgaggaaagt...   \n",
              "\n",
              "                                              Translated  \\\n",
              "0      RRRRRRRRRRRRRRRRRRRRRRRRRRRRRRRRRRRRRRRRRRRRRR...   \n",
              "1      RRRRRRRRRRRRRRRRRRRRRRRRRRRRRRRRRRRRRRRRRRRRRR...   \n",
              "2      RRRRRRRRRRRRRRRRRRRRRRRRRRRRRRRRRRRRRRRRRRRRRR...   \n",
              "3      RRRRRRRRRRRRRRRRRRRRRRRRRRRRRRRRRRRRRRRRRRRRRR...   \n",
              "4      RRRRRRRRRRRRRRRRRRRRRRRRRRRRRRRRRRRRRRRRRRRRRR...   \n",
              "...                                                  ...   \n",
              "27987  RRRRRRRRRRRRRRRRRRRRRRRRRRRRRRRRRRRRRRRRRRRRRR...   \n",
              "27988  RRRRRRRRRRRRRRRRRRRRRRRRRRRRRRRRRRRRRRRRRRRRRR...   \n",
              "27989  RRRRRRRRRRRRRRRRRRRRRRRRRRRRRRRRRRRRRRRRRRRRRR...   \n",
              "27990  RRRRRRRRRRRRRRRRRRRRRRRRRRRRRRRRRRRRRRRRRRRRRR...   \n",
              "27991  RRRRRRRRRRRRRRRRRRRRRRRRRRRRRRRRRRRRRRRRRRRRRR...   \n",
              "\n",
              "                                      Sequence_words_new  \\\n",
              "0      tagg aggg ggga ggag gaga agaa gaaa aaat aata a...   \n",
              "1      tttc ttct tctc ctct tctc ctcc tccc ccca ccat c...   \n",
              "2      ccaa caaa aaaa aaat aatg atgg tggt ggtg gtgg t...   \n",
              "3      atat tata atat tatg atga tgat gatc atcg tcgc c...   \n",
              "4      caaa aaaa aaaa aaag aaga agac gaca acaa caat a...   \n",
              "...                                                  ...   \n",
              "27987  tgaa gaat aata atac taca acat catg atgt tgta g...   \n",
              "27988  attt tttg ttgt tgtg gtgg tggt ggtt gttt tttc t...   \n",
              "27989  agtg gtgg tggt ggtc gtca tcaa caaa aaag aagt a...   \n",
              "27990  agaa gaag aaga agat gatt attt ttta ttat tatt a...   \n",
              "27991  aaat aatg atgt tgtt gtta ttaa taac aaca acaa c...   \n",
              "\n",
              "                                    Translated_words_new  \n",
              "0      rrrr rrrr rrrr rrrr rrrr rrrr rrrr rrrr rrrr r...  \n",
              "1      rrrr rrrr rrrr rrrr rrrr rrrr rrrr rrrr rrrr r...  \n",
              "2      rrrr rrrr rrrr rrrr rrrr rrrr rrrr rrrr rrrr r...  \n",
              "3      rrrr rrrr rrrr rrrr rrrr rrrr rrrr rrrr rrrr r...  \n",
              "4      rrrr rrrr rrrr rrrr rrrr rrrr rrrr rrrr rrrr r...  \n",
              "...                                                  ...  \n",
              "27987  rrrr rrrr rrrr rrrr rrrr rrrr rrrr rrrr rrrr r...  \n",
              "27988  rrrr rrrr rrrr rrrr rrrr rrrr rrrr rrrr rrrr r...  \n",
              "27989  rrrr rrrr rrrr rrrr rrrr rrrr rrrr rrrr rrrr r...  \n",
              "27990  rrrr rrrr rrrr rrrr rrrr rrrr rrrr rrrr rrrr r...  \n",
              "27991  rrrr rrrr rrrr rrrr rrrr rrrr rrrr rrrr rrrr r...  \n",
              "\n",
              "[27992 rows x 5 columns]"
            ],
            "text/html": [
              "\n",
              "  <div id=\"df-7878c723-f0ec-4819-b67e-32c51e611e5e\">\n",
              "    <div class=\"colab-df-container\">\n",
              "      <div>\n",
              "<style scoped>\n",
              "    .dataframe tbody tr th:only-of-type {\n",
              "        vertical-align: middle;\n",
              "    }\n",
              "\n",
              "    .dataframe tbody tr th {\n",
              "        vertical-align: top;\n",
              "    }\n",
              "\n",
              "    .dataframe thead th {\n",
              "        text-align: right;\n",
              "    }\n",
              "</style>\n",
              "<table border=\"1\" class=\"dataframe\">\n",
              "  <thead>\n",
              "    <tr style=\"text-align: right;\">\n",
              "      <th></th>\n",
              "      <th>Unnamed: 0</th>\n",
              "      <th>Sequence</th>\n",
              "      <th>Translated</th>\n",
              "      <th>Sequence_words_new</th>\n",
              "      <th>Translated_words_new</th>\n",
              "    </tr>\n",
              "  </thead>\n",
              "  <tbody>\n",
              "    <tr>\n",
              "      <th>0</th>\n",
              "      <td>0</td>\n",
              "      <td>tagggagaaatatgatcgcgtatgcgagagtagtgccaacatattg...</td>\n",
              "      <td>RRRRRRRRRRRRRRRRRRRRRRRRRRRRRRRRRRRRRRRRRRRRRR...</td>\n",
              "      <td>tagg aggg ggga ggag gaga agaa gaaa aaat aata a...</td>\n",
              "      <td>rrrr rrrr rrrr rrrr rrrr rrrr rrrr rrrr rrrr r...</td>\n",
              "    </tr>\n",
              "    <tr>\n",
              "      <th>1</th>\n",
              "      <td>1</td>\n",
              "      <td>tttctctcccatattatagggagaaatatgatcgcgtatgcgagag...</td>\n",
              "      <td>RRRRRRRRRRRRRRRRRRRRRRRRRRRRRRRRRRRRRRRRRRRRRR...</td>\n",
              "      <td>tttc ttct tctc ctct tctc ctcc tccc ccca ccat c...</td>\n",
              "      <td>rrrr rrrr rrrr rrrr rrrr rrrr rrrr rrrr rrrr r...</td>\n",
              "    </tr>\n",
              "    <tr>\n",
              "      <th>2</th>\n",
              "      <td>2</td>\n",
              "      <td>ccaaaatggtggcggatgaacgagatgataatatattcaagttgcc...</td>\n",
              "      <td>RRRRRRRRRRRRRRRRRRRRRRRRRRRRRRRRRRRRRRRRRRRRRR...</td>\n",
              "      <td>ccaa caaa aaaa aaat aatg atgg tggt ggtg gtgg t...</td>\n",
              "      <td>rrrr rrrr rrrr rrrr rrrr rrrr rrrr rrrr rrrr r...</td>\n",
              "    </tr>\n",
              "    <tr>\n",
              "      <th>3</th>\n",
              "      <td>3</td>\n",
              "      <td>atatatgatcgcgtatgcgagagtagtgccaacatattgtgctaat...</td>\n",
              "      <td>RRRRRRRRRRRRRRRRRRRRRRRRRRRRRRRRRRRRRRRRRRRRRR...</td>\n",
              "      <td>atat tata atat tatg atga tgat gatc atcg tcgc c...</td>\n",
              "      <td>rrrr rrrr rrrr rrrr rrrr rrrr rrrr rrrr rrrr r...</td>\n",
              "    </tr>\n",
              "    <tr>\n",
              "      <th>4</th>\n",
              "      <td>4</td>\n",
              "      <td>caaaaagacaatacacgacagagagagagagcagcggagatattta...</td>\n",
              "      <td>RRRRRRRRRRRRRRRRRRRRRRRRRRRRRRRRRRRRRRRRRRRRRR...</td>\n",
              "      <td>caaa aaaa aaaa aaag aaga agac gaca acaa caat a...</td>\n",
              "      <td>rrrr rrrr rrrr rrrr rrrr rrrr rrrr rrrr rrrr r...</td>\n",
              "    </tr>\n",
              "    <tr>\n",
              "      <th>...</th>\n",
              "      <td>...</td>\n",
              "      <td>...</td>\n",
              "      <td>...</td>\n",
              "      <td>...</td>\n",
              "      <td>...</td>\n",
              "    </tr>\n",
              "    <tr>\n",
              "      <th>27987</th>\n",
              "      <td>27987</td>\n",
              "      <td>tgaatacatgtagaacaacaggtcaagccttgttggccacggcctt...</td>\n",
              "      <td>RRRRRRRRRRRRRRRRRRRRRRRRRRRRRRRRRRRRRRRRRRRRRR...</td>\n",
              "      <td>tgaa gaat aata atac taca acat catg atgt tgta g...</td>\n",
              "      <td>rrrr rrrr rrrr rrrr rrrr rrrr rrrr rrrr rrrr r...</td>\n",
              "    </tr>\n",
              "    <tr>\n",
              "      <th>27988</th>\n",
              "      <td>27988</td>\n",
              "      <td>atttgtggtttcggcagatattgaaaagatgtaccgacaaattaaa...</td>\n",
              "      <td>RRRRRRRRRRRRRRRRRRRRRRRRRRRRRRRRRRRRRRRRRRRRRR...</td>\n",
              "      <td>attt tttg ttgt tgtg gtgg tggt ggtt gttt tttc t...</td>\n",
              "      <td>rrrr rrrr rrrr rrrr rrrr rrrr rrrr rrrr rrrr r...</td>\n",
              "    </tr>\n",
              "    <tr>\n",
              "      <th>27989</th>\n",
              "      <td>27989</td>\n",
              "      <td>agtggtcaaagtaagatcaaatttataagaagaagaacggatgaca...</td>\n",
              "      <td>RRRRRRRRRRRRRRRRRRRRRRRRRRRRRRRRRRRRRRRRRRRRRR...</td>\n",
              "      <td>agtg gtgg tggt ggtc gtca tcaa caaa aaag aagt a...</td>\n",
              "      <td>rrrr rrrr rrrr rrrr rrrr rrrr rrrr rrrr rrrr r...</td>\n",
              "    </tr>\n",
              "    <tr>\n",
              "      <th>27990</th>\n",
              "      <td>27990</td>\n",
              "      <td>agaagatttattgctagacggggaaaatgttccaatatctattcaa...</td>\n",
              "      <td>RRRRRRRRRRRRRRRRRRRRRRRRRRRRRRRRRRRRRRRRRRRRRR...</td>\n",
              "      <td>agaa gaag aaga agat gatt attt ttta ttat tatt a...</td>\n",
              "      <td>rrrr rrrr rrrr rrrr rrrr rrrr rrrr rrrr rrrr r...</td>\n",
              "    </tr>\n",
              "    <tr>\n",
              "      <th>27991</th>\n",
              "      <td>27991</td>\n",
              "      <td>aaatgttaacaaagggtaatgcgcttatacaaagtatgaggaaagt...</td>\n",
              "      <td>RRRRRRRRRRRRRRRRRRRRRRRRRRRRRRRRRRRRRRRRRRRRRR...</td>\n",
              "      <td>aaat aatg atgt tgtt gtta ttaa taac aaca acaa c...</td>\n",
              "      <td>rrrr rrrr rrrr rrrr rrrr rrrr rrrr rrrr rrrr r...</td>\n",
              "    </tr>\n",
              "  </tbody>\n",
              "</table>\n",
              "<p>27992 rows × 5 columns</p>\n",
              "</div>\n",
              "      <button class=\"colab-df-convert\" onclick=\"convertToInteractive('df-7878c723-f0ec-4819-b67e-32c51e611e5e')\"\n",
              "              title=\"Convert this dataframe to an interactive table.\"\n",
              "              style=\"display:none;\">\n",
              "        \n",
              "  <svg xmlns=\"http://www.w3.org/2000/svg\" height=\"24px\"viewBox=\"0 0 24 24\"\n",
              "       width=\"24px\">\n",
              "    <path d=\"M0 0h24v24H0V0z\" fill=\"none\"/>\n",
              "    <path d=\"M18.56 5.44l.94 2.06.94-2.06 2.06-.94-2.06-.94-.94-2.06-.94 2.06-2.06.94zm-11 1L8.5 8.5l.94-2.06 2.06-.94-2.06-.94L8.5 2.5l-.94 2.06-2.06.94zm10 10l.94 2.06.94-2.06 2.06-.94-2.06-.94-.94-2.06-.94 2.06-2.06.94z\"/><path d=\"M17.41 7.96l-1.37-1.37c-.4-.4-.92-.59-1.43-.59-.52 0-1.04.2-1.43.59L10.3 9.45l-7.72 7.72c-.78.78-.78 2.05 0 2.83L4 21.41c.39.39.9.59 1.41.59.51 0 1.02-.2 1.41-.59l7.78-7.78 2.81-2.81c.8-.78.8-2.07 0-2.86zM5.41 20L4 18.59l7.72-7.72 1.47 1.35L5.41 20z\"/>\n",
              "  </svg>\n",
              "      </button>\n",
              "      \n",
              "  <style>\n",
              "    .colab-df-container {\n",
              "      display:flex;\n",
              "      flex-wrap:wrap;\n",
              "      gap: 12px;\n",
              "    }\n",
              "\n",
              "    .colab-df-convert {\n",
              "      background-color: #E8F0FE;\n",
              "      border: none;\n",
              "      border-radius: 50%;\n",
              "      cursor: pointer;\n",
              "      display: none;\n",
              "      fill: #1967D2;\n",
              "      height: 32px;\n",
              "      padding: 0 0 0 0;\n",
              "      width: 32px;\n",
              "    }\n",
              "\n",
              "    .colab-df-convert:hover {\n",
              "      background-color: #E2EBFA;\n",
              "      box-shadow: 0px 1px 2px rgba(60, 64, 67, 0.3), 0px 1px 3px 1px rgba(60, 64, 67, 0.15);\n",
              "      fill: #174EA6;\n",
              "    }\n",
              "\n",
              "    [theme=dark] .colab-df-convert {\n",
              "      background-color: #3B4455;\n",
              "      fill: #D2E3FC;\n",
              "    }\n",
              "\n",
              "    [theme=dark] .colab-df-convert:hover {\n",
              "      background-color: #434B5C;\n",
              "      box-shadow: 0px 1px 3px 1px rgba(0, 0, 0, 0.15);\n",
              "      filter: drop-shadow(0px 1px 2px rgba(0, 0, 0, 0.3));\n",
              "      fill: #FFFFFF;\n",
              "    }\n",
              "  </style>\n",
              "\n",
              "      <script>\n",
              "        const buttonEl =\n",
              "          document.querySelector('#df-7878c723-f0ec-4819-b67e-32c51e611e5e button.colab-df-convert');\n",
              "        buttonEl.style.display =\n",
              "          google.colab.kernel.accessAllowed ? 'block' : 'none';\n",
              "\n",
              "        async function convertToInteractive(key) {\n",
              "          const element = document.querySelector('#df-7878c723-f0ec-4819-b67e-32c51e611e5e');\n",
              "          const dataTable =\n",
              "            await google.colab.kernel.invokeFunction('convertToInteractive',\n",
              "                                                     [key], {});\n",
              "          if (!dataTable) return;\n",
              "\n",
              "          const docLinkHtml = 'Like what you see? Visit the ' +\n",
              "            '<a target=\"_blank\" href=https://colab.research.google.com/notebooks/data_table.ipynb>data table notebook</a>'\n",
              "            + ' to learn more about interactive tables.';\n",
              "          element.innerHTML = '';\n",
              "          dataTable['output_type'] = 'display_data';\n",
              "          await google.colab.output.renderOutput(dataTable, element);\n",
              "          const docLink = document.createElement('div');\n",
              "          docLink.innerHTML = docLinkHtml;\n",
              "          element.appendChild(docLink);\n",
              "        }\n",
              "      </script>\n",
              "    </div>\n",
              "  </div>\n",
              "  "
            ]
          },
          "metadata": {},
          "execution_count": 6
        }
      ]
    },
    {
      "cell_type": "code",
      "source": [
        "len(repeat_df['Sequence_words_new'][0].split())"
      ],
      "metadata": {
        "colab": {
          "base_uri": "https://localhost:8080/"
        },
        "id": "MVAVBcv-AflP",
        "outputId": "a63a32cd-7ebc-4d54-b9b8-6eabe5b9163d"
      },
      "execution_count": 7,
      "outputs": [
        {
          "output_type": "execute_result",
          "data": {
            "text/plain": [
              "997"
            ]
          },
          "metadata": {},
          "execution_count": 7
        }
      ]
    },
    {
      "cell_type": "code",
      "execution_count": 8,
      "metadata": {
        "id": "ykYS8bsXZyFO"
      },
      "outputs": [],
      "source": [
        "from __future__ import unicode_literals, print_function, division\n",
        "from io import open\n",
        "import unicodedata\n",
        "import string\n",
        "import re\n",
        "import random\n",
        "\n",
        "import torch\n",
        "import torch.nn as nn\n",
        "from torch import optim\n",
        "import torch.nn.functional as F\n",
        "\n",
        "device = torch.device(\"cuda\" if torch.cuda.is_available() else \"cpu\")"
      ]
    },
    {
      "cell_type": "code",
      "source": [
        "SOS_token = 0\n",
        "EOS_token = 1\n",
        "\n",
        "\n",
        "class Lang:\n",
        "    def __init__(self, name):\n",
        "        self.name = name\n",
        "        self.word2index = {}\n",
        "        self.word2count = {}\n",
        "        self.index2word = {0: \"SOS\", 1: \"EOS\"}\n",
        "        self.n_words = 2  # Count SOS and EOS\n",
        "\n",
        "    def addSentence(self, sentence):\n",
        "        for word in sentence.split(' '):\n",
        "            self.addWord(word)\n",
        "\n",
        "    def addWord(self, word):\n",
        "        if word not in self.word2index:\n",
        "            self.word2index[word] = self.n_words\n",
        "            self.word2count[word] = 1\n",
        "            self.index2word[self.n_words] = word\n",
        "            self.n_words += 1\n",
        "        else:\n",
        "            self.word2count[word] += 1"
      ],
      "metadata": {
        "id": "9pQFnquiIhVK"
      },
      "execution_count": 9,
      "outputs": []
    },
    {
      "cell_type": "code",
      "source": [
        "def readLangs(lang_1, lang_2, reverse=False):\n",
        "    print(\"Reading lines...\")\n",
        "    lang1 = 'seq'\n",
        "    lang2 = 'rep'\n",
        "    # Read the file and split into lines\n",
        "    pairs = []\n",
        "    for i in range(len(lang_1)):\n",
        "      pairs.append([lang_1[i],lang_2[i]])\n",
        "    # Reverse pairs, make Lang instances\n",
        "\n",
        "    input_lang = Lang(lang1)\n",
        "    output_lang = Lang(lang2)\n",
        "\n",
        "    return input_lang, output_lang, pairs"
      ],
      "metadata": {
        "id": "cw9pUz0cQQCW"
      },
      "execution_count": 10,
      "outputs": []
    },
    {
      "cell_type": "code",
      "source": [
        "import ast\n",
        "input_lang, output_lang, pairs = readLangs(repeat_df['Sequence_words_new'],repeat_df['Translated_words_new'])"
      ],
      "metadata": {
        "colab": {
          "base_uri": "https://localhost:8080/"
        },
        "id": "m56ajwwqRXSF",
        "outputId": "910121d7-dae6-4a46-ba9d-3b48d4c65ca9"
      },
      "execution_count": 11,
      "outputs": [
        {
          "output_type": "stream",
          "name": "stdout",
          "text": [
            "Reading lines...\n"
          ]
        }
      ]
    },
    {
      "cell_type": "code",
      "source": [
        "MAX_LENGTH = 1000\n",
        "def filterPair(p):\n",
        "    return len(p[0].split(' ')) < MAX_LENGTH and len(p[1].split(' ')) < MAX_LENGTH \n",
        "\n",
        "def filterPairs(pairs):\n",
        "    return [pair for pair in pairs if filterPair(pair)]"
      ],
      "metadata": {
        "id": "gB8UvHCPUFgy"
      },
      "execution_count": 12,
      "outputs": []
    },
    {
      "cell_type": "code",
      "source": [
        "def prepareData(lang1, lang2, reverse=False):\n",
        "    input_lang, output_lang, pairs = readLangs(lang1, lang2, reverse)\n",
        "    print(\"Read %s sentence pairs\" % len(pairs))\n",
        "    pairs = filterPairs(pairs)\n",
        "    print(\"Trimmed to %s sentence pairs\" % len(pairs))\n",
        "    print(\"Counting words...\")\n",
        "    for pair in pairs:\n",
        "        input_lang.addSentence(pair[0])\n",
        "        output_lang.addSentence(pair[1])\n",
        "    print(\"Counted words:\")\n",
        "    print(input_lang.name, input_lang.n_words)\n",
        "    print(output_lang.name, output_lang.n_words)\n",
        "    return input_lang, output_lang, pairs\n",
        "\n",
        "\n",
        "input_lang, output_lang, pairs = prepareData(repeat_df['Sequence_words_new'],repeat_df['Translated_words_new'], True)\n",
        "print(random.choice(pairs))"
      ],
      "metadata": {
        "colab": {
          "base_uri": "https://localhost:8080/"
        },
        "id": "NgvIkHfCRMO2",
        "outputId": "7cd21aa8-bc1c-4cbb-b615-ec8fdb32e220"
      },
      "execution_count": 13,
      "outputs": [
        {
          "output_type": "stream",
          "name": "stdout",
          "text": [
            "Reading lines...\n",
            "Read 27992 sentence pairs\n",
            "Trimmed to 27992 sentence pairs\n",
            "Counting words...\n",
            "Counted words:\n",
            "seq 258\n",
            "rep 13\n",
            "['ttga tgac gaca acac cact actt cttt tttc ttct tctt cttt tttt tttc ttct tctg ctgt tgta gtat tatg atgt tgtt gttt tttt tttt tttt tttt tttt tttt tttc ttcg tcgt cgtg gtgt tgtg gtgt tgtg gtgt tgtg gtgt tgtg gtgt tgtg gtgt tgtg gtgt tgtg gtgc tgct gctg ctgt tgtg gtgc tgcc gccc ccca ccaa caac aacc accg ccga cgag gagt agtg gtgt tgtg gtgc tgcg gcgg cggc ggca gcac cact actt ctta ttaa taac aaca acat catg atga tgaa gaaa aaat aatt atta ttaa taag aagt agta gtaa taaa aaat aatt atta ttaa taag aagt agta gtaa taaa aaaa aaaa aaat aata atat tatt attt tttt ttta ttaa taat aatt attc ttca tcaa caat aatt atta ttag taga agaa gaaa aaac aacc acct cctc ctcg tcgc cgca gcaa caac aacc accc ccca ccag caga agag gagt agtg gtgc tgct gcta ctaa taaa aaat aatg atgt tgtg gtgg tgga ggaa gaat aatt attt tttc ttct tctc ctct tctt cttt tttg ttgt tgtc gtca tcat catt attg ttgc tgca gcag cagt agtt gttg ttga tgaa gaag aagg aggt ggta gtag tagc agct gctc ctcc tccg ccgt cgtg gtgg tgga ggag gagg agga ggaa gaaa aaaa aaac aaca acag cagc agcc gccc cccc ccca ccaa caag aaga agat gatt attt tttc ttcg tcga cgaa gaaa aaaa aaac aaca acaa caac aacg acga cgaa gaaa aaaa aaat aatg atgg tggt ggtc gtct tctt cttc ttcg tcga cgac gact actg ctgc tgcg gcgg cgga ggag gagt agtc gtct tctg ctgg tggt ggtg gtgt tgtg gtgc tgca gcaa caaa aaag aagt agta gtat tatt attt tttg ttgc tgct gctt cttt tttg ttgc tgca gcat cata atat tatt attc ttca tcaa caat aatt attt tttt ttta ttat tata atat tatt attt tttt tttt tttc ttcg tcgt cgta gtaa taag aagt agta gtac taca acag caga agat gatg atga tgaa gaag aagt agta gtaa taat aatg atgt tgtg gtgg tggg ggga ggaa gaag aagg aggg gggg gggg gggt ggtt gttt ttta ttat tatt atta ttat tatg atgc tgct gcta ctat tata atat tatg atgc tgca gcac cacc acca ccag cagg aggt ggta gtaa taat aatg atgc tgca gcat cata atat tatg atgg tggg gggt ggta gtaa taac aacg acgc cgca gcat cata atag taga agag gagg aggt ggtg gtgc tgcg gcgt cgtt gttc ttca tcat catg atgt tgtc gtca tcat catc atcc tccg ccga cgat gatg atgg tggt ggta gtat tatc atcc tccc ccca ccat catg atgc tgcc gcca ccac caca acat catc atcg tcgc cgcc gccc ccca ccat catc atcc tcca ccat catc atcc tcca ccaa caaa aaat aatt attc ttcc tcca ccat catt attg ttgc tgca gcaa caac aact actc ctca tcaa caat aatc atca tcaa caag aagc agca gcaa caaa aaat aatc atct tctc ctct tctg ctgc tgcg gcgc cgca gcat catg atgc tgcg gcgc cgct gctg ctgg tggt ggtg gtgc tgct gctt cttt tttt tttt tttg ttgc tgca gcat catt attt tttt tttc ttcc tccc cccg ccgc cgca gcat catt attt tttt tttc ttca tcaa caac aact actt cttg ttgg tggc ggcg gcgg cggt ggtg gtgg tggc ggcg gcgg cggt ggtt gttc ttca tcat catt attg ttga tgac gact actt cttt tttc ttca tcag cagc agcc gcca ccaa caac aaca acat catc atcg tcgt cgtc gtca tcat catc atca tcat catc atca tcat catc atca tcat cata ataa taat aatc atca tcat catc atca tcat catt atta ttac tacc acca ccat catc atca tcat catg atgt tgtt gttg ttga tgat gatt attg ttgc tgcc gcca ccaa caaa aaac aacg acgt cgtc gtca tcat catc atca tcat catc atcg tcgg cggc ggca gcat catt attt tttt tttc ttca tcaa caaa aaat aatg atgc tgca gcaa caat aatc atca tcaa caag aaga agat gatg atgg tggg gggc ggca gcag cagg aggc ggca gcaa caac aacg acgt cgtc gtca tcat cata ataa taat aata ataa taat aata ataa taac aaca acaa caac aaca acaa caat aatc atca tcat catc atca tcaa caaa aaac aact actg ctgc tgcg gcgt cgtt gttt tttg ttgc tgca gcat catg atgt tgtc gtcc tcca ccag cagc agcg gcgg cggg gggg gggg gggg ggga ggaa gaac aact acta ctat tatg atgt tgtt gttg ttgt tgtg gtgt tgtt gttt ttta ttaa taat aatg atgc tgct gctt cttt ttta ttat tatg atgt tgtt gttt tttc ttca tcag cagt agtg gtgt tgta gtac taca acac caca acac caca acat cata ataa taaa aaat aatg atga tgac gacc acca ccac cact acta ctac tacc acca ccac cact acta ctac taca acac caca acac caca acat cata atat tata atac taca acat cata atat tata atat tata atat tatt attg ttgt tgtt gttt ttta ttaa taat aatg atgt tgtt gttt tttt tttt tttt tttt tttt tttt tttt ttta ttat tata atat tata atat tata atat tata atat tatt attt ttta ttat tata atat tatt attg ttgc tgca gcag cagg aggt ggtg gtgc tgct gcta ctag tagg aggc ggca gcac caca acaa caat aatt atta ttat tata atat tatt attc ttcg tcgg cgga ggag gagt agtc gtcg tcgg cgga ggac gact acta ctat tatg atgg tggc ggct gctg ctgg tggc ggcc gccg ccgt cgtg gtgg tgga ggac gaca acaa caag aagc agca gcac cact actc ctcg tcgc cgct gctg ctga tgat gatt attg ttgc tgct gctc ctct tctc ctcc tcct cctc ctca tcaa caag aagt agtt gttg ttgg tggt ggtc gtcg tcga cgag gaga agag gagc agcg gcga cgag gagc agcg gcgc cgca gcat catt attg ttga tgag gagg aggt ggta gtaa taag aaga agac gacc acca ccaa caag aagt agtg gtga tgaa gaag aaga agac gacg acgg cggg gggg gggg gggt ggtt gttt tttc ttcc tccc cccc ccca ccaa caaa aaaa aaat aatc atcc tccc cccg ccgc cgcc gccc ccca ccaa caac aact actc ctcc tccg ccgg cggg gggt ggtg gtga tgaa gaaa aaag aagt agtg gtgt tgtt gttg ttgc tgcc gccg ccgc cgca gcag caga agaa gaaa aaac aaca acac cacc accc cccc cccc ccct cctt cttt tttt tttt tttt tttt ttta ttat tatg atgt tgtc gtcg tcga cgaa gaaa aaaa aaag aagg aggc ggcc gccc cccc ccca ccaa caag aaga agaa', 'rrrr rrrr rrrr rrrr rrrr rrrr rrrr rrrr rrrr rrrr rrrr rrrr rrrr rrrr rrrr rrrr rrrr rrrr rrrr rrrr rrrr rrrr rrrr rrrr rrrr rrrr rrrr rrrr rrrn rrnr rnrr nrrr rrrr rrrr rrrr rrrr rrrr rrrr rrrr rrrr rrrr rrrr rrrr rrrr rrrr rrrr rrrn rrnn rnnn nnnn nnnn nnnn nnnn nnnn nnnn nnnn nnnn nnnn nnnn nnnn nnnn nnnn nnnn nnnn nnnn nnnn nnnn nnnn nnnn nnnn nnnn nnnn nnnn nnnn nnnn nnnn nnnn nnnn nnnn nnnr nnrr nrrr rrrr rrrr rrrr rrrr rrrr rrrr rrrr rrrr rrrr rrrr rrrr rrrr rrrr rrrr rrrr rrrr rrrr rrrr rrrn rrnn rnnn nnnn nnnn nnnn nnnn nnnn nnnn nnnn nnnn nnnn nnnn nnnn nnnn nnnn nnnn nnnn nnnn nnnn nnnn nnnn nnnn nnnn nnnn nnnn nnnn nnnn nnnn nnnn nnnn nnnn nnnn nnnn nnnn nnnn nnnn nnnn nnnn nnnn nnnn nnnn nnnn nnnn nnnn nnnn nnnn nnnn nnnn nnnn nnnn nnnn nnnn nnnn nnnn nnnn nnnn nnnn nnnn nnnn nnnn nnnn nnnn nnnn nnnn nnnn nnnn nnnn nnnn nnnn nnnn nnnn nnnn nnnn nnnn nnnn nnnn nnnn nnnn nnnn nnnn nnnn nnnn nnnn nnnn nnnn nnnn nnnn nnnn nnnn nnnn nnnn nnnn nnnn nnnn nnnn nnnn nnnn nnnn nnnn nnnn nnnn nnnn nnnn nnnn nnnn nnnn nnnn nnnn nnnn nnnn nnnn nnnn nnnn nnnn nnnn nnnn nnnn nnnn nnnn nnnn nnnn nnnn nnnn nnnn nnnn nnnn nnnn nnnn nnnn nnnn nnnn nnnn nnnn nnnn nnnn nnnn nnnn nnnn nnnn nnnn nnnn nnnn nnnn nnnn nnnn nnnn nnnn nnnn nnnn nnnn nnnn nnnn nnnn nnnn nnnn nnnn nnnn nnnn nnnn nnnn nnnn nnnn nnnn nnnn nnnn nnnn nnnn nnnn nnnn nnnn nnnn nnnn nnnn nnnn nnnn nnnn nnnn nnnn nnnn nnnn nnnn nnnn nnnn nnnn nnnn nnnn nnnn nnnn nnnn nnnn nnnn nnnn nnnn nnnn nnnn nnnn nnnn nnnn nnnn nnnn nnnn nnnn nnnn nnnn nnnn nnnn nnnn nnnn nnnn nnnn nnnn nnnn nnnn nnnn nnnn nnnn nnnn nnnn nnnn nnnn nnnn nnnn nnnn nnnn nnnn nnnn nnnn nnnn nnnn nnnn nnnn nnnn nnnn nnnn nnnn nnnn nnnn nnnn nnnn nnnn nnnn nnnn nnnn nnnn nnnn nnnn nnnn nnnn nnnn nnnn nnnn nnnn nnnn nnnn nnnn nnnn nnnn nnnn nnnn nnnn nnnn nnnn nnnn nnnn nnnn nnnn nnnn nnnn nnnn nnnn nnnn nnnn nnnn nnnn nnnn nnnn nnnn nnnn nnnn nnnn nnnn nnnn nnnn nnnn nnnn nnnn nnnn nnnn nnnn nnnn nnnn nnnn nnnn nnnn nnnn nnnn nnnn nnnn nnnn nnnn nnnn nnnn nnnn nnnn nnnn nnnn nnnn nnnn nnnn nnnn nnnn nnnn nnnn nnnn nnnn nnnn nnnn nnnn nnnn nnnn nnnn nnnn nnnn nnnn nnnn nnnn nnnn nnnn nnnn nnnn nnnn nnnn nnnn nnnn nnnn nnnn nnnn nnnn nnnn nnnn nnnn nnnn nnnn nnnn nnnn nnnn nnnn nnnn nnnn nnnn nnnn nnnn nnnn nnnn nnnn nnnn nnnn nnnn nnnn nnnn nnnn nnnn nnnn nnnn nnnn nnnn nnnn nnnn nnnn nnnn nnnn nnnn nnnn nnnn nnnn nnnn nnnn nnnn nnnn nnnn nnnn nnnn nnnn nnnn nnnn nnnn nnnn nnnn nnnn nnnn nnnn nnnn nnnn nnnn nnnn nnnn nnnn nnnn nnnn nnnn nnnn nnnn nnnn nnnn nnnn nnnn nnnn nnnn nnnn nnnn nnnn nnnn nnnn nnnn nnnn nnnn nnnn nnnn nnnn nnnn nnnn nnnn nnnn nnnn nnnn nnnr nnrr nrrr rrrr rrrr rrrr rrrr rrrr rrrr rrrr rrrr rrrr rrrr rrrr rrrr rrrr rrrr rrrr rrrr rrrr rrrr rrrr rrrr rrrr rrrr rrrr rrrr rrrr rrrr rrrr rrrr rrrr rrrr rrrr rrrr rrrr rrrn rrnn rnnn nnnn nnnn nnnn nnnn nnnn nnnn nnnn nnnn nnnn nnnn nnnn nnnn nnnn nnnn nnnn nnnn nnnn nnnn nnnn nnnn nnnn nnnn nnnn nnnn nnnn nnnn nnnn nnnn nnnn nnnn nnnn nnnn nnnn nnnn nnnn nnnn nnnn nnnn nnnn nnnn nnnn nnnn nnnn nnnn nnnn nnnn nnnn nnnn nnnn nnnn nnnn nnnn nnnn nnnn nnnn nnnn nnnn nnnn nnnn nnnn nnnn nnnn nnnn nnnn nnnn nnnn nnnn nnnn nnnn nnnn nnnn nnnn nnnn nnnn nnnn nnnn nnnn nnnn nnnn nnnn nnnn nnnn nnnn nnnn nnnn nnnn nnnn nnnn nnnn nnnn nnnn nnnn nnnn nnnn nnnn nnnn nnnn nnnn nnnn nnnn nnnn nnnn nnnn nnnn nnnn nnnn nnnn nnnn nnnn nnnn nnnn nnnn nnnn nnnn nnnn nnnn nnnn nnnn nnnn nnnn nnnn nnnn nnnn nnnn nnnn nnnn nnnn nnnn nnnn nnnn nnnn nnnn nnnn nnnn nnnn nnnn nnnn nnnn nnnn nnnn nnnn nnnn nnnn nnnn nnnn nnnn nnnn nnnn nnnn nnnn nnnn nnnn nnnn nnnn nnnn nnnn nnnn nnnn nnnn nnnn nnnn nnnn nnnn nnnn nnnn nnnn nnnn nnnn nnnn nnnn nnnn nnnn nnnn nnnn nnnn nnnn nnnn nnnn nnnn nnnn nnnn nnnn nnnn nnnn nnnn nnnn nnnn nnnn nnnn nnnn nnnn nnnn nnnn nnnn nnnn nnnn nnnr nnrr nrrr rrrr rrrr rrrr rrrr rrrr rrrr rrrr rrrr rrrr rrrr rrrr rrrr rrrr rrrr rrrr rrrr rrrr rrrr rrrr rrrr rrrr rrrr rrrr rrrn rrnn rnnn nnnn nnnn nnnn nnnn nnnn nnnn nnnn nnnn nnnn nnnn nnnn nnnn nnnn nnnn nnnn nnnn nnnn nnnn nnnn nnnn nnnn nnnn nnnn nnnn nnnn nnnn nnnn nnnn nnnn nnnn nnnn nnnn nnnn nnnn nnnn nnnn nnnn nnnn nnnn nnnn nnnn nnnn nnnn nnnn nnnn nnnn nnnn nnnn nnnn nnnn nnnn nnnn nnnn nnnn nnnn nnnn nnnn nnnn nnnn nnnn nnnn nnnn nnnn nnnn nnnn nnnn nnnn nnnn nnnn nnnn nnnn nnnn nnnn nnnn nnnn nnnn nnnn nnnn nnnn nnnn nnnn nnnn nnnn nnnn nnnn nnnn nnnn nnnn nnnn nnnn nnnn nnnn nnnn nnnn nnnn nnnn nnnn nnnn nnnn nnnn nnnn nnnn nnnn nnnn nnnn nnnn nnnn nnnn nnnn nnnn nnnn nnnn nnnn nnnn nnnn nnnn nnnn nnnn nnnn nnnn nnnn nnnn nnnn nnnn nnnn nnnn nnnn nnnn nnnn nnnn nnnn nnnn nnnn nnnn nnnn nnnn nnnn nnnn nnnn nnnn nnnn nnnn nnnn nnnn nnnn nnnn nnnn nnnn nnnn nnnn nnnn nnnn nnnn nnnn nnnn nnnn nnnn nnnn nnnn nnnn nnnn nnnn nnnn nnnn nnnn nnnn nnnn nnnn nnnn nnnn nnnn nnnn nnnn nnnn nnnn nnnn nnnn nnnn nnnn nnnr nnrr nrrr rrrr rrrr rrrr rrrr rrrn rrnn rnnn nnnn nnnn nnnn nnnn nnnn nnnn nnnn nnnn nnnn nnnn nnnn nnnn nnnn nnnn nnnn nnnn nnnn nnnn']\n"
          ]
        }
      ]
    },
    {
      "cell_type": "markdown",
      "source": [
        "# MODELS"
      ],
      "metadata": {
        "id": "tc93bBOzWWdN"
      }
    },
    {
      "cell_type": "code",
      "source": [
        "class EncoderRNN(nn.Module):\n",
        "    def __init__(self, input_size, hidden_size):\n",
        "        super(EncoderRNN, self).__init__()\n",
        "        self.hidden_size = hidden_size\n",
        "\n",
        "        self.embedding = nn.Embedding(input_size, hidden_size)\n",
        "        self.gru = nn.GRU(hidden_size, hidden_size)\n",
        "\n",
        "    def forward(self, input, hidden):\n",
        "        embedded = self.embedding(input).view(1, 1, -1)\n",
        "        output = embedded\n",
        "        output, hidden = self.gru(output, hidden)\n",
        "        return output, hidden\n",
        "\n",
        "    def initHidden(self):\n",
        "        return torch.zeros(1, 1, self.hidden_size, device=device)"
      ],
      "metadata": {
        "id": "2TSXu8tbRx3u"
      },
      "execution_count": 14,
      "outputs": []
    },
    {
      "cell_type": "code",
      "source": [
        "class AttnDecoderRNN(nn.Module):\n",
        "    def __init__(self, hidden_size, output_size, dropout_p=0.1, max_length=MAX_LENGTH):\n",
        "        super(AttnDecoderRNN, self).__init__()\n",
        "        self.hidden_size = hidden_size\n",
        "        self.output_size = output_size\n",
        "        self.dropout_p = dropout_p\n",
        "        self.max_length = max_length\n",
        "\n",
        "        self.embedding = nn.Embedding(self.output_size, self.hidden_size)\n",
        "        self.attn = nn.Linear(self.hidden_size * 2, self.max_length)\n",
        "        self.attn_combine = nn.Linear(self.hidden_size * 2, self.hidden_size)\n",
        "        self.dropout = nn.Dropout(self.dropout_p)\n",
        "        self.gru = nn.GRU(self.hidden_size, self.hidden_size)\n",
        "        self.out = nn.Linear(self.hidden_size, self.output_size)\n",
        "\n",
        "    def forward(self, input, hidden, encoder_outputs):\n",
        "        embedded = self.embedding(input).view(1, 1, -1)\n",
        "        embedded = self.dropout(embedded)\n",
        "\n",
        "        attn_weights = F.softmax(\n",
        "            self.attn(torch.cat((embedded[0], hidden[0]), 1)), dim=1)\n",
        "        attn_applied = torch.bmm(attn_weights.unsqueeze(0),\n",
        "                                 encoder_outputs.unsqueeze(0))\n",
        "\n",
        "        output = torch.cat((embedded[0], attn_applied[0]), 1)\n",
        "        output = self.attn_combine(output).unsqueeze(0)\n",
        "\n",
        "        output = F.relu(output)\n",
        "        output, hidden = self.gru(output, hidden)\n",
        "\n",
        "        output = F.log_softmax(self.out(output[0]), dim=1)\n",
        "        return output, hidden, attn_weights\n",
        "\n",
        "    def initHidden(self):\n",
        "        return torch.zeros(1, 1, self.hidden_size, device=device)"
      ],
      "metadata": {
        "id": "nEubJ07qWX4s"
      },
      "execution_count": 15,
      "outputs": []
    },
    {
      "cell_type": "code",
      "source": [
        "def indexesFromSentence(lang, sentence):\n",
        "    return [lang.word2index[word] for word in sentence.split(' ')]\n",
        "\n",
        "\n",
        "def tensorFromSentence(lang, sentence):\n",
        "    indexes = indexesFromSentence(lang, sentence)\n",
        "    indexes.append(EOS_token)\n",
        "    return torch.tensor(indexes, dtype=torch.long, device=device).view(-1, 1)\n",
        "\n",
        "\n",
        "def tensorsFromPair(pair):\n",
        "    input_tensor = tensorFromSentence(input_lang, pair[0])\n",
        "    target_tensor = tensorFromSentence(output_lang, pair[1])\n",
        "    return (input_tensor, target_tensor)"
      ],
      "metadata": {
        "id": "Um50ZFHJWcv-"
      },
      "execution_count": 16,
      "outputs": []
    },
    {
      "cell_type": "code",
      "source": [
        "teacher_forcing_ratio = 0.5\n",
        "\n",
        "\n",
        "def train(input_tensor, target_tensor, encoder, decoder, encoder_optimizer, decoder_optimizer, criterion, max_length=MAX_LENGTH):\n",
        "    encoder_hidden = encoder.initHidden()\n",
        "\n",
        "    encoder_optimizer.zero_grad()\n",
        "    decoder_optimizer.zero_grad()\n",
        "\n",
        "    input_length = input_tensor.size(0)\n",
        "    target_length = target_tensor.size(0)\n",
        "\n",
        "    encoder_outputs = torch.zeros(max_length, encoder.hidden_size, device=device)\n",
        "\n",
        "    loss = 0\n",
        "\n",
        "    for ei in range(input_length):\n",
        "        encoder_output, encoder_hidden = encoder(\n",
        "            input_tensor[ei], encoder_hidden)\n",
        "        encoder_outputs[ei] = encoder_output[0, 0]\n",
        "\n",
        "    decoder_input = torch.tensor([[SOS_token]], device=device)\n",
        "\n",
        "    decoder_hidden = encoder_hidden\n",
        "\n",
        "    use_teacher_forcing = True if random.random() < teacher_forcing_ratio else False\n",
        "\n",
        "    if use_teacher_forcing:\n",
        "        # Teacher forcing: Feed the target as the next input\n",
        "        for di in range(target_length):\n",
        "            decoder_output, decoder_hidden, decoder_attention = decoder(\n",
        "                decoder_input, decoder_hidden, encoder_outputs)\n",
        "            loss += criterion(decoder_output, target_tensor[di])\n",
        "            decoder_input = target_tensor[di]  # Teacher forcing\n",
        "\n",
        "    else:\n",
        "        # Without teacher forcing: use its own predictions as the next input\n",
        "        for di in range(target_length):\n",
        "            decoder_output, decoder_hidden, decoder_attention = decoder(\n",
        "                decoder_input, decoder_hidden, encoder_outputs)\n",
        "            topv, topi = decoder_output.topk(1)\n",
        "            decoder_input = topi.squeeze().detach()  # detach from history as input\n",
        "\n",
        "            loss += criterion(decoder_output, target_tensor[di])\n",
        "            if decoder_input.item() == EOS_token:\n",
        "                break\n",
        "\n",
        "    loss.backward()\n",
        "\n",
        "    encoder_optimizer.step()\n",
        "    decoder_optimizer.step()\n",
        "\n",
        "    return loss.item() / target_length"
      ],
      "metadata": {
        "id": "3uLRcJfLWg-l"
      },
      "execution_count": 17,
      "outputs": []
    },
    {
      "cell_type": "code",
      "source": [
        "import time\n",
        "import math\n",
        "\n",
        "\n",
        "def asMinutes(s):\n",
        "    m = math.floor(s / 60)\n",
        "    s -= m * 60\n",
        "    return '%dm %ds' % (m, s)\n",
        "\n",
        "\n",
        "def timeSince(since, percent):\n",
        "    now = time.time()\n",
        "    s = now - since\n",
        "    es = s / (percent)\n",
        "    rs = es - s\n",
        "    return '%s (- %s)' % (asMinutes(s), asMinutes(rs))"
      ],
      "metadata": {
        "id": "Xrk70NPXWj6d"
      },
      "execution_count": 18,
      "outputs": []
    },
    {
      "cell_type": "code",
      "source": [
        "import matplotlib.pyplot as plt\n",
        "plt.switch_backend('agg')\n",
        "import matplotlib.ticker as ticker\n",
        "import numpy as np\n",
        "%matplotlib notebook\n",
        "%matplotlib inline\n",
        "\n",
        "def showPlot(points):\n",
        "\n",
        "    plt.figure()\n",
        "    fig, ax = plt.subplots()\n",
        "    # this locator puts ticks at regular intervals\n",
        "    loc = ticker.MultipleLocator(base=0.2)\n",
        "    ax.yaxis.set_major_locator(loc)\n",
        "    plt.plot(points)\n",
        "    plt.show()"
      ],
      "metadata": {
        "id": "grOecOxtWrfi"
      },
      "execution_count": 25,
      "outputs": []
    },
    {
      "cell_type": "code",
      "source": [
        "def evaluateRandomly(encoder, decoder, n=10):\n",
        "    for i in range(n):\n",
        "        pair = random.choice(pairs)\n",
        "        print('>', pair[0])\n",
        "        print('=', pair[1])\n",
        "        output_words, attentions = evaluate(encoder, decoder, pair[0])\n",
        "        output_sentence = ' '.join(output_words)\n",
        "        print('<', output_sentence)\n",
        "        print('')"
      ],
      "metadata": {
        "id": "-r6UM35MWwfK"
      },
      "execution_count": 20,
      "outputs": []
    },
    {
      "cell_type": "code",
      "source": [
        "def evaluate(encoder, decoder, sentence, max_length=MAX_LENGTH):\n",
        "    with torch.no_grad():\n",
        "        input_tensor = tensorFromSentence(input_lang, sentence)\n",
        "        input_length = input_tensor.size()[0]\n",
        "        encoder_hidden = encoder.initHidden()\n",
        "\n",
        "        encoder_outputs = torch.zeros(max_length, encoder.hidden_size, device=device)\n",
        "\n",
        "        for ei in range(input_length):\n",
        "            encoder_output, encoder_hidden = encoder(input_tensor[ei],\n",
        "                                                     encoder_hidden)\n",
        "            encoder_outputs[ei] += encoder_output[0, 0]\n",
        "\n",
        "        decoder_input = torch.tensor([[SOS_token]], device=device)  # SOS\n",
        "\n",
        "        decoder_hidden = encoder_hidden\n",
        "\n",
        "        decoded_words = []\n",
        "        decoder_attentions = torch.zeros(max_length, max_length)\n",
        "\n",
        "        for di in range(max_length):\n",
        "            decoder_output, decoder_hidden, decoder_attention = decoder(\n",
        "                decoder_input, decoder_hidden, encoder_outputs)\n",
        "            decoder_attentions[di] = decoder_attention.data\n",
        "            topv, topi = decoder_output.data.topk(1)\n",
        "            if topi.item() == EOS_token:\n",
        "                decoded_words.append('<EOS>')\n",
        "                break\n",
        "            else:\n",
        "                decoded_words.append(output_lang.index2word[topi.item()])\n",
        "\n",
        "            decoder_input = topi.squeeze().detach()\n",
        "\n",
        "        return decoded_words, decoder_attentions[:di + 1]"
      ],
      "metadata": {
        "id": "zB50sxMKWuP6"
      },
      "execution_count": 21,
      "outputs": []
    },
    {
      "cell_type": "code",
      "source": [
        "def trainIters(encoder, decoder, n_iters, print_every=1000, plot_every=100, learning_rate=0.01):\n",
        "    start = time.time()\n",
        "    plot_losses = []\n",
        "    print_loss_total = 0  # Reset every print_every\n",
        "    plot_loss_total = 0  # Reset every plot_every\n",
        "\n",
        "    encoder_optimizer = optim.SGD(encoder.parameters(), lr=learning_rate)\n",
        "    decoder_optimizer = optim.SGD(decoder.parameters(), lr=learning_rate)\n",
        "    training_pairs = [tensorsFromPair(random.choice(pairs))\n",
        "                      for i in range(n_iters)]\n",
        "    criterion = nn.NLLLoss()\n",
        "\n",
        "    for iter in tqdm(range(1, n_iters + 1)):\n",
        "        training_pair = training_pairs[iter - 1]\n",
        "        input_tensor = training_pair[0]\n",
        "        target_tensor = training_pair[1]\n",
        "\n",
        "        loss = train(input_tensor, target_tensor, encoder,\n",
        "                     decoder, encoder_optimizer, decoder_optimizer, criterion)\n",
        "        print_loss_total += loss\n",
        "        plot_loss_total += loss\n",
        "\n",
        "        if iter % print_every == 0:\n",
        "            print_loss_avg = print_loss_total / print_every\n",
        "            print_loss_total = 0\n",
        "            print('%s (%d %d%%) %.4f' % (timeSince(start, iter / n_iters),\n",
        "                                         iter, iter / n_iters * 100, print_loss_avg))\n",
        "\n",
        "        if iter % plot_every == 0:\n",
        "            plot_loss_avg = plot_loss_total / plot_every\n",
        "            plot_losses.append(plot_loss_avg)\n",
        "            plot_loss_total = 0\n",
        "\n",
        "    showPlot(plot_losses)"
      ],
      "metadata": {
        "id": "E3MCK5c7Wl5V"
      },
      "execution_count": 22,
      "outputs": []
    },
    {
      "cell_type": "code",
      "source": [
        "hidden_size = 256\n",
        "encoder1 = EncoderRNN(input_lang.n_words, hidden_size).to(device)\n",
        "attn_decoder1 = AttnDecoderRNN(hidden_size, output_lang.n_words, dropout_p=0.1).to(device)\n",
        "\n",
        "trainIters(encoder1, attn_decoder1, n_iters = 200, print_every=10, plot_every=10)"
      ],
      "metadata": {
        "colab": {
          "base_uri": "https://localhost:8080/",
          "height": 1000
        },
        "id": "sVNBO8lwWoru",
        "outputId": "8f4126b0-e18b-4b7e-d23e-787fec7002f2"
      },
      "execution_count": 32,
      "outputs": [
        {
          "output_type": "stream",
          "name": "stderr",
          "text": [
            "  5%|▌         | 10/200 [00:17<06:27,  2.04s/it]"
          ]
        },
        {
          "output_type": "stream",
          "name": "stdout",
          "text": [
            "0m 17s (- 5m 40s) (10 5%) 30.0153\n"
          ]
        },
        {
          "output_type": "stream",
          "name": "stderr",
          "text": [
            " 10%|█         | 20/200 [00:38<06:19,  2.11s/it]"
          ]
        },
        {
          "output_type": "stream",
          "name": "stdout",
          "text": [
            "0m 38s (- 5m 49s) (20 10%) 217.4097\n"
          ]
        },
        {
          "output_type": "stream",
          "name": "stderr",
          "text": [
            " 15%|█▌        | 30/200 [01:00<06:03,  2.14s/it]"
          ]
        },
        {
          "output_type": "stream",
          "name": "stdout",
          "text": [
            "1m 0s (- 5m 44s) (30 15%) 975.7907\n"
          ]
        },
        {
          "output_type": "stream",
          "name": "stderr",
          "text": [
            " 20%|██        | 40/200 [01:21<05:32,  2.08s/it]"
          ]
        },
        {
          "output_type": "stream",
          "name": "stdout",
          "text": [
            "1m 21s (- 5m 26s) (40 20%) 829.1342\n"
          ]
        },
        {
          "output_type": "stream",
          "name": "stderr",
          "text": [
            " 25%|██▌       | 50/200 [01:42<05:11,  2.08s/it]"
          ]
        },
        {
          "output_type": "stream",
          "name": "stdout",
          "text": [
            "1m 42s (- 5m 7s) (50 25%) 808.0141\n"
          ]
        },
        {
          "output_type": "stream",
          "name": "stderr",
          "text": [
            " 30%|███       | 60/200 [02:02<04:44,  2.03s/it]"
          ]
        },
        {
          "output_type": "stream",
          "name": "stdout",
          "text": [
            "2m 2s (- 4m 46s) (60 30%) 623.6958\n"
          ]
        },
        {
          "output_type": "stream",
          "name": "stderr",
          "text": [
            " 35%|███▌      | 70/200 [02:24<04:34,  2.11s/it]"
          ]
        },
        {
          "output_type": "stream",
          "name": "stdout",
          "text": [
            "2m 24s (- 4m 28s) (70 35%) 259.7534\n"
          ]
        },
        {
          "output_type": "stream",
          "name": "stderr",
          "text": [
            " 40%|████      | 80/200 [02:44<04:05,  2.05s/it]"
          ]
        },
        {
          "output_type": "stream",
          "name": "stdout",
          "text": [
            "2m 45s (- 4m 7s) (80 40%) 906.9289\n"
          ]
        },
        {
          "output_type": "stream",
          "name": "stderr",
          "text": [
            " 45%|████▌     | 90/200 [03:05<03:45,  2.05s/it]"
          ]
        },
        {
          "output_type": "stream",
          "name": "stdout",
          "text": [
            "3m 5s (- 3m 47s) (90 45%) 140.1808\n"
          ]
        },
        {
          "output_type": "stream",
          "name": "stderr",
          "text": [
            " 50%|█████     | 100/200 [03:26<03:26,  2.07s/it]"
          ]
        },
        {
          "output_type": "stream",
          "name": "stdout",
          "text": [
            "3m 26s (- 3m 26s) (100 50%) 145.1845\n"
          ]
        },
        {
          "output_type": "stream",
          "name": "stderr",
          "text": [
            " 55%|█████▌    | 110/200 [03:47<03:04,  2.05s/it]"
          ]
        },
        {
          "output_type": "stream",
          "name": "stdout",
          "text": [
            "3m 47s (- 3m 5s) (110 55%) 401.6543\n"
          ]
        },
        {
          "output_type": "stream",
          "name": "stderr",
          "text": [
            " 60%|██████    | 120/200 [04:07<02:46,  2.08s/it]"
          ]
        },
        {
          "output_type": "stream",
          "name": "stdout",
          "text": [
            "4m 7s (- 2m 45s) (120 60%) 168.4846\n"
          ]
        },
        {
          "output_type": "stream",
          "name": "stderr",
          "text": [
            " 65%|██████▌   | 130/200 [04:28<02:28,  2.13s/it]"
          ]
        },
        {
          "output_type": "stream",
          "name": "stdout",
          "text": [
            "4m 29s (- 2m 24s) (130 65%) 544.3780\n"
          ]
        },
        {
          "output_type": "stream",
          "name": "stderr",
          "text": [
            " 70%|███████   | 140/200 [04:49<02:05,  2.10s/it]"
          ]
        },
        {
          "output_type": "stream",
          "name": "stdout",
          "text": [
            "4m 50s (- 2m 4s) (140 70%) 1041.5784\n"
          ]
        },
        {
          "output_type": "stream",
          "name": "stderr",
          "text": [
            " 75%|███████▌  | 150/200 [05:10<01:45,  2.10s/it]"
          ]
        },
        {
          "output_type": "stream",
          "name": "stdout",
          "text": [
            "5m 11s (- 1m 43s) (150 75%) 505.5156\n"
          ]
        },
        {
          "output_type": "stream",
          "name": "stderr",
          "text": [
            " 80%|████████  | 160/200 [05:31<01:24,  2.11s/it]"
          ]
        },
        {
          "output_type": "stream",
          "name": "stdout",
          "text": [
            "5m 31s (- 1m 22s) (160 80%) 791.9645\n"
          ]
        },
        {
          "output_type": "stream",
          "name": "stderr",
          "text": [
            " 85%|████████▌ | 170/200 [05:52<01:02,  2.09s/it]"
          ]
        },
        {
          "output_type": "stream",
          "name": "stdout",
          "text": [
            "5m 52s (- 1m 2s) (170 85%) 592.3461\n"
          ]
        },
        {
          "output_type": "stream",
          "name": "stderr",
          "text": [
            " 90%|█████████ | 180/200 [06:13<00:41,  2.08s/it]"
          ]
        },
        {
          "output_type": "stream",
          "name": "stdout",
          "text": [
            "6m 13s (- 0m 41s) (180 90%) 865.0950\n"
          ]
        },
        {
          "output_type": "stream",
          "name": "stderr",
          "text": [
            " 95%|█████████▌| 190/200 [06:34<00:20,  2.05s/it]"
          ]
        },
        {
          "output_type": "stream",
          "name": "stdout",
          "text": [
            "6m 34s (- 0m 20s) (190 95%) 564.7923\n"
          ]
        },
        {
          "output_type": "stream",
          "name": "stderr",
          "text": [
            "100%|██████████| 200/200 [06:55<00:00,  2.08s/it]"
          ]
        },
        {
          "output_type": "stream",
          "name": "stdout",
          "text": [
            "6m 55s (- 0m 0s) (200 100%) 636.2840\n"
          ]
        },
        {
          "output_type": "stream",
          "name": "stderr",
          "text": [
            "\n"
          ]
        },
        {
          "output_type": "display_data",
          "data": {
            "text/plain": [
              "<Figure size 432x288 with 0 Axes>"
            ]
          },
          "metadata": {}
        },
        {
          "output_type": "stream",
          "name": "stderr",
          "text": [
            "Locator attempting to generate 5565 ticks ([-20.6, ..., 1092.2]), which exceeds Locator.MAXTICKS (1000).\n",
            "Locator attempting to generate 5565 ticks ([-20.6, ..., 1092.2]), which exceeds Locator.MAXTICKS (1000).\n",
            "Locator attempting to generate 5565 ticks ([-20.6, ..., 1092.2]), which exceeds Locator.MAXTICKS (1000).\n",
            "Locator attempting to generate 5565 ticks ([-20.6, ..., 1092.2]), which exceeds Locator.MAXTICKS (1000).\n",
            "Locator attempting to generate 5565 ticks ([-20.6, ..., 1092.2]), which exceeds Locator.MAXTICKS (1000).\n",
            "Locator attempting to generate 5565 ticks ([-20.6, ..., 1092.2]), which exceeds Locator.MAXTICKS (1000).\n",
            "Locator attempting to generate 5565 ticks ([-20.6, ..., 1092.2]), which exceeds Locator.MAXTICKS (1000).\n",
            "Locator attempting to generate 5565 ticks ([-20.6, ..., 1092.2]), which exceeds Locator.MAXTICKS (1000).\n",
            "Locator attempting to generate 5565 ticks ([-20.6, ..., 1092.2]), which exceeds Locator.MAXTICKS (1000).\n",
            "Locator attempting to generate 5565 ticks ([-20.6, ..., 1092.2]), which exceeds Locator.MAXTICKS (1000).\n",
            "Locator attempting to generate 5565 ticks ([-20.6, ..., 1092.2]), which exceeds Locator.MAXTICKS (1000).\n",
            "Locator attempting to generate 5565 ticks ([-20.6, ..., 1092.2]), which exceeds Locator.MAXTICKS (1000).\n",
            "Locator attempting to generate 5565 ticks ([-20.6, ..., 1092.2]), which exceeds Locator.MAXTICKS (1000).\n",
            "Locator attempting to generate 5565 ticks ([-20.6, ..., 1092.2]), which exceeds Locator.MAXTICKS (1000).\n",
            "Locator attempting to generate 5565 ticks ([-20.6, ..., 1092.2]), which exceeds Locator.MAXTICKS (1000).\n",
            "Locator attempting to generate 5565 ticks ([-20.6, ..., 1092.2]), which exceeds Locator.MAXTICKS (1000).\n",
            "Locator attempting to generate 5565 ticks ([-20.6, ..., 1092.2]), which exceeds Locator.MAXTICKS (1000).\n",
            "Locator attempting to generate 5565 ticks ([-20.6, ..., 1092.2]), which exceeds Locator.MAXTICKS (1000).\n",
            "Locator attempting to generate 5565 ticks ([-20.6, ..., 1092.2]), which exceeds Locator.MAXTICKS (1000).\n",
            "Locator attempting to generate 5565 ticks ([-20.6, ..., 1092.2]), which exceeds Locator.MAXTICKS (1000).\n",
            "Locator attempting to generate 5565 ticks ([-20.6, ..., 1092.2]), which exceeds Locator.MAXTICKS (1000).\n"
          ]
        },
        {
          "output_type": "display_data",
          "data": {
            "text/plain": [
              "<Figure size 432x288 with 1 Axes>"
            ],
            "image/png": "[encoded data removed]"
          },
          "metadata": {
            "needs_background": "light"
          }
        }
      ]
    },
    {
      "cell_type": "code",
      "source": [
        "len(repeat_df['Sequence'][0])"
      ],
      "metadata": {
        "id": "tLciBud1aoaB",
        "colab": {
          "base_uri": "https://localhost:8080/"
        },
        "outputId": "f99921b5-9f7c-471e-a804-60f28018cd51"
      },
      "execution_count": 30,
      "outputs": [
        {
          "output_type": "execute_result",
          "data": {
            "text/plain": [
              "1000"
            ]
          },
          "metadata": {},
          "execution_count": 30
        }
      ]
    },
    {
      "cell_type": "code",
      "source": [
        "evaluateRandomly(encoder1, attn_decoder1)"
      ],
      "metadata": {
        "id": "8yIj6LnkWqe-",
        "colab": {
          "base_uri": "https://localhost:8080/"
        },
        "outputId": "65d4878d-504c-4deb-eb75-2a75b5676f72"
      },
      "execution_count": 37,
      "outputs": [
        {
          "output_type": "stream",
          "name": "stdout",
          "text": [
            "> tggg gggc ggcc gcct cctc ctcg tcgt cgtc gtct tctg ctgc tgct gctc ctca tcaa caaa aaat aatg atgc tgcc gcca ccac cact actg ctgt tgta gtaa taaa aaac aaca acaa caat aatc atcc tccc ccct cctg ctgc tgcg gcgg cgga ggat gatg atgt tgtt gttc ttct tctc ctcc tccc ccca ccaa caag aagc agca gcag cagc agca gcag cagg agga ggag gagg aggc ggcg gcga cgaa gaat aatg atgt tgtt gttc ttct tctt ctta ttaa taac aact actt cttc ttcg tcgc cgcc gcca ccac cacc acct ccta ctat tatc atct tctg ctga tgaa gaag aagg aggc ggca gcat catt attc ttcg tcgc cgcc gcct cctt cttg ttga tgat gatt attt ttta ttat tatg atgt tgtc gtcc tcct cctg ctgc tgcc gccc cccg ccga cgaa gaaa aaac aacg acgg cgga ggac gact actg ctgg tgga ggac gacg acgg cggc ggca gcag caga agag gaga agaa gaag aaga agat gatc atcg tcga cgac gaca acat catg atgc tgct gctg ctgc tgct gctg ctgg tgga ggag gagg agga ggag gagg aggg gggc ggca gcac cacg acgg cgga ggat gatt attt ttta ttat tatt attt tttc ttcg tcgg cggg gggc ggcc gcca ccag cagc agct gctc ctcg tcgg cgga ggat gatg atgt tgtg gtga tgaa gaat aatc atca tcaa caag aagg aggg gggc ggca gcac cacg acga cgac gacg acga cgac gacc accc cccc cccg ccga cgac gacg acga cgaa gaac aaca acac caca acaa caaa aaac aact acta ctac tact actg ctgg tgga ggag gagc agcc gccg ccgg cgga ggag gaga agat gatc atct tcta ctac taca acac cacc acca ccaa caac aacg acga cgaa gaag aaga agag gaga agaa gaag aagc agcg gcgg cgga ggat gatc atca tcaa caag aaga agag gaga agaa gaaa aaat aatt attt tttc ttca tcaa caac aacc acct ccta ctag taga agaa gaag aagg aggc ggcc gcca ccac caca acac cacc acct cctt cttt ttta ttac tact actt cttt tttg ttgg tggc ggca gcat catt attg ttgg tgga ggaa gaac aacc accc cccc cccg ccgc cgct gcta ctat tatc atct tcta ctag tagg aggg gggg gggt ggta gtag tagg agga ggat gatc atca tcaa caaa aaag aagc agcc gccc cccc ccct cctg ctgg tgga ggac gacc acca ccag cagc agca gcag cagc agcc gccg ccgc cgcc gccg ccgc cgca gcat cata atat tatc atca tcat catc atca tcaa caaa aaaa aaaa aaat aatc atct tcta ctag tagg aggg ggga ggac gaca acaa caat aatt attt tttt ttta ttac taca acag caga agag gagt agtt gttt tttc ttct tctt cttc ttca tcaa caag aagt agtc gtcc tcca ccag cagc agcc gccg ccgc cgct gcta ctac tact actg ctgt tgtc gtct tctt cttc ttct tctt cttc ttct tctc ctca tcac cacc accc cccg ccga cgag gagt agtg gtgg tggg gggt ggtc gtca tcac cacc acct cctg ctgc tgct gctc ctca tcat catc atct tctg ctgg tggc ggcg gcgg cggc ggcg gcgt cgta gtag taga agac gacg acgg cggg gggt ggtt gttt tttt tttt tttt tttt tttc ttcg tcgt cgtc gtcc tcct cctt cttg ttga tgac gacg acgt cgtt gtta ttaa taag aagg aggg gggc ggca gcag caga agag gagc agca gcaa caaa aaag aagg agga ggac gacg acga cgac gacc acct cctg ctgg tggc ggca gcaa caac aacc accg ccgt cgta gtaa taaa aaag aagg agga ggat gata ataa taac aacg acgg cgga ggag gagt agtg gtgg tggc ggca gcaa caat aatg atgc tgct gctg ctgg tggt ggta gtat tatg atgc tgcc gcct cctg ctga tgaa gaag aagt agtc gtcc tcca ccat catt attg ttga tgat gata ataa taat aatg atgt tgtt gttg ttgt tgtc gtcc tcca ccat catc atct tctg ctgg tggc ggcc gcca ccag cagt agta gtaa taac aact actt cttg ttga tgag gagc agcg gcgg cgga ggaa gaat aatc atct tctc ctct tctc ctcc tccg ccgc cgcg gcga cgag gaga agat gatg atga tgag gagt agtt gttc ttca tcag cagc agca gcat catc atcc tccg ccgg cggg ggga ggaa gaac aact actg ctgg tggt ggtg gtgg tggt ggtt gttg ttgt tgtg gtgc tgcg gcgc cgcc gcct ccta ctag taga agag gaga agac gacc accc cccc cccg ccgg cgga ggat gatg atgg tgga ggac gacg acgc cgca gcat catc atct tcta ctat tata atat tatg atgc tgcg gcgc cgcg gcga cgac gaca acac cacc acca ccag cagc agcc gcca ccat catc atcg tcga cgat gatc atcc tcca ccat catc atcg tcga cgaa gaat aatt attc ttca tcaa caag aagg aggt ggtg gtgg tggt ggta gtaa taaa aaac aaca acaa caag aaga agag gagt agtt gtta ttat tatg atgc tgcc gcct ccta ctat tatc atct tctg ctga tgaa gaag aagg aggg gggc ggca gcac cact actc ctct tctg ctgc tgca gcac cacc acct ccta ctat tatc atcg tcgt cgtt gtta ttaa taaa aaac aaca acaa caaa aaag aaga agac gacg acga cgat gatc atcc tccg ccgg cggt ggtg gtga tgag gagg agga ggaa gaat aatc atcg tcgc cgca gcag cagt agta gtag tagc agcc gcct cctg ctga tgat gatg atgg tggt ggtg gtgg tggc ggcc gccg ccgt cgtg gtgg tggg gggc ggct gctc ctcg tcgg cggt ggtc gtcc tcct cctg ctgg tggc ggcc gcca ccag cagc agca gcaa caaa aaaa aaat aatc atcg tcga cgat gatc atca tcac cacc accc cccg ccgg cggc ggcc gcca ccaa caac aact actg ctgg tggg ggga ggac gaca acac cact acta ctaa taat aata atat tatg atgc tgct gctg ctgg tgga ggat gatc atcg tcgt cgtt gttt ttta ttaa taat aatc atca tcag cagc agct gcta ctat tatg atgg tgga ggag gagt agtg gtgg tgga ggaa gaat aatt attg ttgt tgtg gtgc tgca gcag caga agaa gaag aagt agtt gttg ttgc tgct gctg ctgg tggt ggtc gtcg tcgg cgga ggat gatt attg ttgc tgct gctt cttg ttga tgag gagg aggg ggga ggat gatc atcg tcga cgac gacg acga cgac gacc accc ccca ccat catt attg ttga tgac gacc acct cctg ctgg tgga ggac gaca acac cacc acct cctt cttt tttc ttcc tccg ccga cgac gacc accc ccca ccaa caac aact actt cttc ttcg tcga cgaa gaat aatg atgg tggg ggga ggac gaca acag cagt agtt gttt tttg ttgt\n",
            "= nnnn nnnn nnnn nnnn nnnn nnnn nnnn nnnn nnnn nnnn nnnn nnnn nnnn nnnn nnnn nnnn nnnn nnnn nnnn nnnn nnnn nnnn nnnn nnnn nnnn nnnn nnnn nnnn nnnn nnnn nnnn nnnn nnnn nnnn nnnn nnnn nnnn nnnn nnnn nnnn nnnn nnnn nnnn nnnn nnnn nnnn nnnn nnnn nnnn nnnn nnnn nnnn nnnn nnnn nnnn nnnn nnnn nnnn nnnn nnnn nnnn nnnn nnnn nnnn nnnn nnnn nnnn nnnn nnnn nnnn nnnn nnnn nnnn nnnn nnnn nnnn nnnn nnnn nnnn nnnn nnnn nnnn nnnn nnnn nnnn nnnn nnnn nnnn nnnn nnnn nnnn nnnn nnnn nnnn nnnn nnnn nnnn nnnn nnnn nnnn nnnn nnnn nnnn nnnn nnnn nnnn nnnn nnnn nnnn nnnn nnnn nnnn nnnn nnnn nnnn nnnn nnnn nnnn nnnn nnnn nnnn nnnn nnnn nnnn nnnn nnnn nnnn nnnn nnnn nnnn nnnn nnnn nnnn nnnn nnnn nnnn nnnn nnnn nnnn nnnn nnnn nnnn nnnn nnnn nnnn nnnn nnnn nnnn nnnn nnnn nnnn nnnn nnnn nnnn nnnn nnnn nnnn nnnn nnnn nnnn nnnn nnnn nnnn nnnn nnnn nnnn nnnn nnnn nnnn nnnn nnnn nnnn nnnn nnnn nnnn nnnn nnnn nnnn nnnn nnnn nnnn nnnn nnnn nnnn nnnn nnnn nnnn nnnn nnnn nnnn nnnn nnnn nnnn nnnn nnnn nnnn nnnn nnnn nnnn nnnn nnnn nnnn nnnn nnnn nnnn nnnn nnnn nnnn nnnn nnnn nnnn nnnn nnnn nnnn nnnn nnnn nnnn nnnn nnnn nnnn nnnn nnnn nnnn nnnn nnnn nnnn nnnn nnnn nnnn nnnn nnnn nnnn nnnn nnnn nnnn nnnn nnnn nnnn nnnn nnnn nnnn nnnn nnnn nnnn nnnn nnnn nnnn nnnn nnnn nnnn nnnn nnnn nnnn nnnn nnnn nnnn nnnn nnnn nnnn nnnn nnnn nnnn nnnn nnnn nnnn nnnn nnnn nnnn nnnn nnnn nnnn nnnn nnnn nnnn nnnn nnnn nnnn nnnn nnnn nnnn nnnn nnnn nnnn nnnn nnnn nnnn nnnn nnnn nnnn nnnn nnnn nnnn nnnn nnnn nnnn nnnn nnnn nnnn nnnn nnnn nnnn nnnn nnnn nnnn nnnn nnnn nnnn nnnn nnnn nnnn nnnn nnnn nnnn nnnn nnnn nnnn nnnn nnnn nnnn nnnn nnnn nnnn nnnn nnnn nnnn nnnn nnnn nnnn nnnn nnnn nnnn nnnn nnnn nnnn nnnn nnnn nnnn nnnn nnnn nnnn nnnn nnnn nnnn nnnn nnnn nnnn nnnn nnnn nnnn nnnn nnnn nnnn nnnn nnnn nnnn nnnn nnnn nnnn nnnn nnnn nnnn nnnn nnnn nnnn nnnn nnnn nnnn nnnn nnnn nnnn nnnn nnnn nnnn nnnn nnnn nnnn nnnn nnnn nnnn nnnn nnnn nnnn nnnn nnnn nnnn nnnn nnnn nnnn nnnn nnnn nnnn nnnn nnnn nnnn nnnn nnnn nnnn nnnn nnnn nnnn nnnn nnnn nnnn nnnn nnnn nnnn nnnn nnnn nnnn nnnn nnnn nnnn nnnn nnnn nnnn nnnn nnnn nnnn nnnn nnnn nnnn nnnn nnnn nnnn nnnn nnnn nnnn nnnn nnnn nnnn nnnn nnnn nnnn nnnn nnnn nnnn nnnn nnnn nnnn nnnn nnnn nnnn nnnn nnnn nnnn nnnn nnnn nnnn nnnn nnnn nnnn nnnn nnnn nnnn nnnn nnnn nnnn nnnn nnnn nnnn nnnn nnnn nnnn nnnn nnnn nnnn nnnn nnnn nnnn nnnn nnnn nnnn nnnn nnnn nnnn nnnn nnnn nnnn nnnn nnnn nnnr nnrr nrrr rrrr rrrr rrrr rrrr rrrn rrnn rnnn nnnn nnnn nnnn nnnn nnnn nnnn nnnn nnnn nnnn nnnn nnnn nnnn nnnn nnnn nnnn nnnn nnnn nnnn nnnn nnnn nnnn nnnn nnnn nnnn nnnn nnnn nnnn nnnn nnnn nnnn nnnn nnnn nnnn nnnn nnnn nnnn nnnn nnnn nnnn nnnn nnnn nnnn nnnn nnnn nnnn nnnn nnnn nnnn nnnn nnnn nnnn nnnn nnnn nnnn nnnn nnnn nnnn nnnn nnnn nnnn nnnn nnnn nnnn nnnn nnnn nnnn nnnn nnnn nnnn nnnn nnnn nnnn nnnn nnnn nnnn nnnn nnnn nnnn nnnn nnnn nnnn nnnn nnnn nnnn nnnn nnnn nnnn nnnn nnnn nnnn nnnn nnnn nnnn nnnn nnnn nnnn nnnn nnnn nnnn nnnn nnnn nnnn nnnn nnnn nnnn nnnn nnnn nnnn nnnn nnnn nnnn nnnn nnnn nnnn nnnn nnnn nnnn nnnn nnnn nnnn nnnn nnnn nnnn nnnn nnnn nnnn nnnn nnnn nnnn nnnn nnnn nnnn nnnn nnnn nnnn nnnn nnnn nnnn nnnn nnnn nnnn nnnn nnnn nnnn nnnn nnnn nnnn nnnn nnnn nnnn nnnn nnnn nnnn nnnn nnnn nnnn nnnn nnnn nnnn nnnn nnnn nnnn nnnn nnnn nnnn nnnn nnnn nnnn nnnn nnnn nnnn nnnn nnnn nnnn nnnn nnnn nnnn nnnn nnnn nnnn nnnn nnnn nnnn nnnn nnnn nnnn nnnn nnnn nnnn nnnn nnnn nnnn nnnn nnnn nnnn nnnn nnnn nnnn nnnn nnnn nnnn nnnn nnnn nnnn nnnn nnnn nnnn nnnn nnnn nnnn nnnn nnnn nnnn nnnn nnnn nnnn nnnn nnnn nnnn nnnn nnnn nnnn nnnn nnnn nnnn nnnn nnnn nnnn nnnn nnnn nnnn nnnn nnnn nnnn nnnn nnnn nnnn nnnn nnnn nnnn nnnn nnnn nnnn nnnn nnnn nnnn nnnn nnnn nnnn nnnn nnnn nnnn nnnn nnnn nnnn nnnn nnnn nnnn nnnn nnnn nnnn nnnn nnnn nnnn nnnn nnnn nnnn nnnn nnnn nnnn nnnn nnnn nnnn nnnn nnnn nnnn nnnn nnnn nnnn nnnn nnnn nnnn nnnn nnnn nnnn nnnn nnnn nnnn nnnn nnnn nnnn nnnn nnnn nnnn nnnn nnnn nnnn nnnn nnnn nnnn nnnn nnnn nnnn nnnn nnnn nnnn nnnn nnnn nnnn nnnn nnnn nnnn nnnn nnnn nnnn nnnn nnnn nnnn nnnn nnnn nnnn nnnn nnnn nnnn nnnn nnnn nnnn nnnn nnnn nnnn nnnn nnnn nnnn nnnn nnnn nnnn nnnn nnnn nnnn nnnn nnnn nnnn nnnn nnnn nnnn nnnn nnnn nnnn nnnn nnnn nnnn nnnn nnnn nnnn nnnn nnnn nnnn nnnn nnnn nnnn nnnn nnnn nnnn nnnn nnnn nnnn nnnn nnnn nnnn nnnn nnnn nnnn nnnn nnnn nnnn nnnn nnnn nnnn nnnn nnnn nnnn nnnn nnnn nnnn nnnn nnnn nnnn nnnn nnnn nnnn nnnn nnnn nnnn nnnn nnnn nnnn nnnn nnnn nnnn nnnn nnnn nnnn nnnn nnnn nnnn nnnn nnnn nnnn nnnn nnnn nnnn nnnn nnnn nnnn nnnn nnnn nnnn nnnn nnnn nnnn nnnn nnnn nnnn nnnn nnnn nnnn nnnn nnnn nnnn nnnn nnnn nnnn nnnn nnnn nnnn nnnn nnnn nnnn nnnn nnnn nnnn nnnn nnnn nnnn nnnn nnnn nnnn nnnn nnnn nnnn nnnn nnnn nnnn nnnn nnnn nnnn nnnn nnnn nnnn nnnn nnnn nnnn nnnn nnnn nnnn nnnn nnnn nnnn nnnn nnnn nnnn nnnn nnnn nnnn nnnn nnnn nnnn nnnn nnnn nnnn nnnn nnnn nnnn nnnn nnnn nnnn nnnn nnnn nnnn nnnn nnnn nnnn nnnn nnnn nnnn nnnn nnnn nnnn nnnn nnnn nnnn nnnn nnnn nnnn nnnn nnnn nnnn\n",
            "< nnnn nnnn nnnn nnnn nnnn nnnn nnnn nnnn nnnn nnnn nnnn nnnn nnnn nnnn nnnn nnnn nnnn nnnn nnnn nnnn nnnn nnnn nnnn nnnn nnnn nnnn nnnn nnnn nnnn nnnn nnnn nnnn nnnn nnnn nnnn nnnn nnnn nnnn nnnn nnnn nnnn nnnn nnnn nnnn nnnn nnnn nnnn nnnn nnnn nnnn nnnn nnnn nnnn nnnn nnnn nnnn nnnn nnnn nnnn nnnn nnnn nnnn nnnn nnnn nnnn nnnn nnnn nnnn nnnn nnnn nnnn nnnn nnnn nnnn nnnn nnnn nnnn nnnn nnnn nnnn nnnn nnnn nnnn nnnn nnnn nnnn nnnn nnnn nnnn nnnn nnnn nnnn nnnn nnnn nnnn nnnn nnnn nnnn nnnn nnnn nnnn nnnn nnnn nnnn nnnn nnnn nnnn nnnn nnnn nnnn nnnn nnnn nnnn nnnn nnnn nnnn nnnn nnnn nnnn nnnn nnnn nnnn nnnn nnnn nnnn nnnn nnnn nnnn nnnn nnnn nnnn nnnn nnnn nnnn nnnn nnnn nnnn nnnn nnnn nnnn nnnn nnnn nnnn nnnn nnnn nnnn nnnn nnnn nnnn nnnn nnnn nnnn nnnn nnnn nnnn nnnn nnnn nnnn nnnn nnnn nnnn nnnn nnnn nnnn nnnn nnnn nnnn nnnn nnnn nnnn nnnn nnnn nnnn nnnn nnnn nnnn nnnn nnnn nnnn nnnn nnnn nnnn nnnn nnnn nnnn nnnn nnnn nnnn nnnn nnnn nnnn nnnn nnnn nnnn nnnn nnnn nnnn nnnn nnnn nnnn nnnn nnnn nnnn nnnn nnnn nnnn nnnn nnnn nnnn nnnn nnnn nnnn nnnn nnnn nnnn nnnn nnnn nnnn nnnn nnnn nnnn nnnn nnnn nnnn nnnn nnnn nnnn nnnn nnnn nnnn nnnn nnnn nnnn nnnn nnnn nnnn nnnn nnnn nnnn nnnn nnnn nnnn nnnn nnnn nnnn nnnn nnnn nnnn nnnn nnnn nnnn nnnn nnnn nnnn nnnn nnnn nnnn nnnn nnnn nnnn nnnn nnnn nnnn nnnn nnnn nnnn nnnn nnnn nnnn nnnn nnnn nnnn nnnn nnnn nnnn nnnn nnnn nnnn nnnn nnnn nnnn nnnn nnnn nnnn nnnn nnnn nnnn nnnn nnnn nnnn nnnn nnnn nnnn nnnn nnnn nnnn nnnn nnnn nnnn nnnn nnnn nnnn nnnn nnnn nnnn nnnn nnnn nnnn nnnn nnnn nnnn nnnn nnnn nnnn nnnn nnnn nnnn nnnn nnnn nnnn nnnn nnnn nnnn nnnn nnnn nnnn nnnn nnnn nnnn nnnn nnnn nnnn nnnn nnnn nnnn nnnn nnnn nnnn nnnn nnnn nnnn nnnn nnnn nnnn nnnn nnnn nnnn nnnn nnnn nnnn nnnn nnnn nnnn nnnn nnnn nnnn nnnn nnnn nnnn nnnn nnnn nnnn nnnn nnnn nnnn nnnn nnnn nnnn nnnn nnnn nnnn nnnn nnnn nnnn nnnn nnnn nnnn nnnn nnnn nnnn nnnn nnnn nnnn nnnn nnnn nnnn nnnn nnnn nnnn nnnn nnnn nnnn nnnn nnnn nnnn nnnn nnnn nnnn nnnn nnnn nnnn nnnn nnnn nnnn nnnn nnnn nnnn nnnn nnnn nnnn nnnn nnnn nnnn nnnn nnnn nnnn nnnn nnnn nnnn nnnn nnnn nnnn nnnn nnnn nnnn nnnn nnnn nnnn nnnn nnnn nnnn nnnn nnnn nnnn nnnn nnnn nnnn nnnn nnnn nnnn nnnn nnnn nnnn nnnn nnnn nnnn nnnn nnnn nnnn nnnn nnnn nnnn nnnn nnnn nnnn nnnn nnnn nnnn nnnn nnnn nnnn nnnn nnnn nnnn nnnn nnnn nnnn nnnn nnnn nnnn nnnn nnnn nnnn nnnn nnnn nnnn nnnn nnnn nnnn nnnn nnnn nnnn nnnn nnnn nnnn nnnn nnnn nnnn nnnn nnnn nnnn nnnn nnnn nnnn nnnn nnnn nnnn nnnn nnnn nnnn nnnn nnnn nnnn nnnn nnnn nnnn nnnn nnnn nnnn nnnn nnnn nnnn nnnn nnnn nnnn nnnn nnnn nnnn nnnn nnnn nnnn nnnn nnnn nnnn nnnn nnnn nnnn nnnn nnnn nnnn nnnn nnnn nnnn nnnn nnnn nnnn nnnn nnnn nnnn nnnn nnnn nnnn nnnn nnnn nnnn nnnn nnnn nnnn nnnn nnnn nnnn nnnn nnnn nnnn nnnn nnnn nnnn nnnn nnnn nnnn nnnn nnnn nnnn nnnn nnnn nnnn nnnn nnnn nnnn nnnn nnnn nnnn nnnn nnnn nnnn nnnn nnnn nnnn nnnn nnnn nnnn nnnn nnnn nnnn nnnn nnnn nnnn nnnn nnnn nnnn nnnn nnnn nnnn nnnn nnnn nnnn nnnn nnnn nnnn nnnn nnnn nnnn nnnn nnnn nnnn nnnn nnnn nnnn nnnn nnnn nnnn nnnn nnnn nnnn nnnn nnnn nnnn nnnn nnnn nnnn nnnn nnnn nnnn nnnn nnnn nnnn nnnn nnnn nnnn nnnn nnnn nnnn nnnn nnnn nnnn nnnn nnnn nnnn nnnn nnnn nnnn nnnn nnnn nnnn nnnn nnnn nnnn nnnn nnnn nnnn nnnn nnnn nnnn nnnn nnnn nnnn nnnn nnnn nnnn nnnn nnnn nnnn nnnn nnnn nnnn nnnn nnnn nnnn nnnn nnnn nnnn nnnn nnnn nnnn nnnn nnnn nnnn nnnn nnnn nnnn nnnn nnnn nnnn nnnn nnnn nnnn nnnn nnnn nnnn nnnn nnnn nnnn nnnn nnnn nnnn nnnn nnnn nnnn nnnn nnnn nnnn nnnn nnnn nnnn nnnn nnnn nnnn nnnn nnnn nnnn nnnn nnnn nnnn nnnn nnnn nnnn nnnn nnnn nnnn nnnn nnnn nnnn nnnn nnnn nnnn nnnn nnnn nnnn nnnn nnnn nnnn nnnn nnnn nnnn nnnn nnnn nnnn nnnn nnnn nnnn nnnn nnnn nnnn nnnn nnnn nnnn nnnn nnnn nnnn nnnn nnnn nnnn nnnn nnnn nnnn nnnn nnnn nnnn nnnn nnnn nnnn nnnn nnnn nnnn nnnn nnnn nnnn nnnn nnnn nnnn nnnn nnnn nnnn nnnn nnnn nnnn nnnn nnnn nnnn nnnn nnnn nnnn nnnn nnnn nnnn nnnn nnnn nnnn nnnn nnnn nnnn nnnn nnnn nnnn nnnn nnnn nnnn nnnn nnnn nnnn nnnn nnnn nnnn nnnn nnnn nnnn nnnn nnnn nnnn nnnn nnnn nnnn nnnn nnnn nnnn nnnn nnnn nnnn nnnn nnnn nnnn nnnn nnnn nnnn nnnn nnnn nnnn nnnn nnnn nnnn nnnn nnnn nnnn nnnn nnnn nnnn nnnn nnnn nnnn nnnn nnnn nnnn nnnn nnnn nnnn nnnn nnnn nnnn nnnn nnnn nnnn nnnn nnnn nnnn nnnn nnnn nnnn nnnn nnnn nnnn nnnn nnnn nnnn nnnn nnnn nnnn nnnn nnnn nnnn nnnn nnnn nnnn nnnn nnnn nnnn nnnn nnnn nnnn nnnn nnnn nnnn nnnn nnnn nnnn nnnn nnnn nnnn nnnn nnnn nnnn nnnn nnnn nnnn nnnn nnnn nnnn nnnn nnnn nnnn nnnn nnnn nnnn nnnn nnnn nnnn nnnn nnnn nnnn nnnn nnnn nnnn nnnn nnnn nnnn nnnn nnnn nnnn nnnn nnnn nnnn nnnn nnnn nnnn nnnn nnnn nnnn nnnn nnnn nnnn nnnn nnnn nnnn nnnn nnnn nnnn nnnn nnnn nnnn nnnn nnnn nnnn nnnn nnnn nnnn nnnn nnnn nnnn nnnn nnnn nnnn nnnn nnnn nnnn nnnn nnnn nnnn nnnn nnnn nnnn nnnn nnnn nnnn nnnn nnnn nnnn nnnn nnnn nnnn nnnn nnnn nnnn nnnn nnnn nnnn nnnn nnnn nnnn nnnn nnnn nnnn nnnn nnnn nnnn nnnn nnnn nnnn nnnn nnnn nnnn nnnn nnnn nnnn nnnn nnnn nnnn nnnn nnnn nnnn nnnn nnnn\n",
            "\n",
            "> acta ctac tacc accc ccca ccaa caaa aaat aatt attg ttga tgaa gaat aata atac taca acat catg atgc tgct gctg ctgg tggc ggcc gccc cccc ccct cctc ctcg tcga cgaa gaaa aaaa aaat aatt attc ttcc tcct cctg ctgc tgcc gcca ccaa caaa aaat aatt attc ttct tctg ctga tgag gaga agac gact actc ctcg tcgg cggc ggct gcta ctaa taat aatg atga tgat gatc atcc tcca ccag caga agaa gaat aatc atct tcta ctaa taag aagc agca gcaa caag aagg aggc ggcc gcca ccaa caag aaga agag gagt agtc gtcc tccc ccca ccat cata ataa taat aatt attc ttcc tccc cccc cccg ccga cgaa gaaa aaaa aaac aacg acgg cggg gggg gggc ggcg gcga cgaa gaat aatc atcg tcgc cgcg gcgc cgct gctt cttg ttgc tgcc gcca ccat catt attg ttgt tgtg gtgc tgcg gcgc cgcc gcct ccta ctat tatc atct tcta ctat tata atat tatg atgg tggc ggct gcta ctaa taat aatt atta ttat tatg atgc tgct gcta ctaa taaa aaac aaca acaa caaa aaat aatt atta ttat tatg atgg tgga ggaa gaat aata atat tatg atga tgat gatt atta ttaa taat aata atag taga agag gaga agag gagc agca gcac cacg acgg cggc ggcc gcct cctg ctgg tggc ggca gcaa caat aatt atta ttaa taac aact actt cttt tttt tttt tttg ttgc tgcg gcga cgat gata ataa taaa aaat aata ataa taaa aaac aacc accg ccgg cgga ggaa gaat aata atat tata atat tata atac tacg acgt cgta gtaa taag aagt agtc gtct tcta ctaa taat aatt attt ttta ttaa taat aatg atgc tgct gctc ctcg tcgc cgct gctg ctgg tggt ggta gtat tatt attg ttgc tgcg gcgg cggc ggcc gcca ccag caga agat gatt attt ttta ttat tatt attg ttgg tggt ggtc gtcc tccc cccg ccgc cgcc gccc ccca ccac caca acat catt attt tttg ttga tgac gacg acgc cgcc gccc cccc ccct ccta ctag tagg aggg gggt ggtt gttc ttcg tcgt cgtt gttt tttt tttg ttgc tgca gcag caga agaa gaac aacg acgg cgga ggat gatt attt tttg ttgt tgtc gtcc tcct cctg ctgc tgcg gcga cgat gatt attt ttta ttaa taac aaca acaa caat aatt attc ttca tcac cacg acgt cgta gtag tagt agtg gtga tgac gaca acat catt attt tttg ttgc tgca gcat catt attt tttt tttt tttg ttga tgat gatt attg ttgc tgcc gcct cctc ctca tcaa caat aata atat tatt attt tttc ttct tctt cttg ttgc tgca gcac cact actg ctgc tgct gctt cttt tttg ttgt tgtt gttt tttt tttt tttg ttgc tgct gctt ctta ttat tatg atgg tggc ggcc gcca ccat catc atcg tcgc cgcc gcca ccat catc atcg tcgc cgcc gcca ccac cacc accg ccgc cgca gcac cacc accg ccgt cgtt gttg ttgt tgta gtag tagg aggt ggtg gtgt tgtt gttc ttcc tcca ccac cact actc ctcc tccc cccc cccc cccc cccc cccc cccc cccc cccc cccc ccca ccaa caaa aaaa aaaa aaaa aaaa aaaa aaaa aaaa aaaa aaaa aaaa aaaa aaaa aaaa aaat aatg atgt tgtg gtgg tggg gggc ggca gcaa caaa aaaa aaaa aaaa aaag aagt agtt gttt ttta ttaa taag aagg aggc ggcc gcca ccaa caag aaga agaa gaaa aaac aacg acgt cgtg gtgt tgtc gtcg tcgt cgtg gtgt tgta gtaa taaa aaat aatt atta ttaa taaa aaac aaca acag cagg aggt ggtt gttt tttg ttgg tggg gggt ggtt gttt tttt ttta ttag tagc agcg gcgg cggg gggg ggga ggag gagt agtt gttt tttt tttt tttc ttcg tcgg cggt ggtt gttt ttta ttaa taaa aaaa aaaa aaaa aaat aatg atga tgat gata atac tact actc ctcc tcca ccaa caaa aaag aagg aggt ggtc gtca tcag cagc agcg gcgc cgcg gcgg cggc ggct gctt cttt ttta ttaa taaa aaaa aaac aacg acgt cgtt gttg ttgt tgtg gtgc tgca gcaa caag aagt agtc gtca tcat catt attt ttta ttat tata atat tata atac taca acag cagc agct gcta ctac tacc acct cctt cttt tttt tttt tttt tttc ttcg tcgc cgct gctg ctgg tggg gggc ggcg gcgt cgta gtaa taac aaca acaa caat aatg atgt tgtc gtct tcta ctaa taat aatt atta ttat tatg atgc tgcc gccg ccgt cgtt gttt tttt tttg ttgt tgtg gtgg tggg gggc ggcg gcgg cggc ggct gctc ctca tcag cagc agct gctg ctgt tgtt gttt tttt tttt tttt tttt ttta ttac tact actt cttg ttgg tggg ggga ggac gacg acgg cgga ggag gagt agtc gtca tcaa caac aacg acgc cgcc gcca ccat catt attt tttt tttc ttct tctt ctta ttaa taat aatt attc ttcg tcgt cgtt gttc ttcg tcgc cgcg gcgg cggt ggtt gttc ttca tcat catt attc ttct tctc ctcg tcgc cgcc gcca ccac cact actg ctga tgag gagg agga ggaa gaaa aaaa aaat aata atat tatt attt tttc ttca tcaa caat aata atat tatg atgc tgcg gcgg cggg gggc ggct gctc ctct tctt cttt tttt tttc ttct tctc ctcg tcgg cggt ggtg gtgg tggg gggg ggga ggat gatt atta ttaa taaa aaag aagg aggc ggct gcta ctaa taag aagg aggc ggct gcta ctaa taaa aaaa aaag aagt agtt gttc ttcg tcga cgag gagg aggg ggga ggac gacc acca ccag caga agaa gaac aaca acaa caaa aaag aaga agag gagc agcc gccg ccga cgat gatg atgt tgta gtat tatt atta ttat tata atat tatt attt tttc ttcc tcca ccag cagg aggc ggca gcaa caat aatt attg ttgt tgtt gttt ttta ttat tatg atga tgag gagc agcc gccc cccc ccct cctt cttc ttct tctt cttt ttta ttaa taac aact actc ctct tctt cttg ttgg tggt ggtt gttg ttgg tggg gggg gggt ggtg gtgc tgca gcat catg atgg tggg gggg ggga ggac gaca acat catt atta ttat tatt attt tttt tttt tttt tttc ttcg tcgg cggt ggtg gtgg tggg ggga ggaa gaag aaga agaa gaat aatc atcg tcgt cgtg gtgc tgcc gccg ccga cgaa gaag aagt agtg gtgg tggc ggcg gcgg cggg ggga ggaa gaaa aaac aacc acct ccta ctaa taaa aaaa aaaa aaac aaca acaa caaa aaaa aaag aaga agaa gaaa aaaa aaac aacg acgg cgga ggaa gaac aacg acga cgac gacg acga cgaa gaac aacc accc cccc ccct cctg ctgg tggc ggcg gcgg cggc ggcg gcgt cgtg gtgc tgca\n",
            "= nnnn nnnn nnnn nnnn nnnn nnnn nnnn nnnn nnnn nnnn nnnn nnnn nnnn nnnn nnnn nnnn nnnn nnnn nnnn nnnn nnnn nnnn nnnn nnnn nnnn nnnn nnnn nnnn nnnn nnnn nnnn nnnn nnnn nnnn nnnn nnnn nnnn nnnn nnnn nnnn nnnn nnnn nnnn nnnn nnnn nnnn nnnn nnnn nnnn nnnn nnnn nnnn nnnn nnnn nnnn nnnn nnnn nnnn nnnn nnnn nnnn nnnn nnnn nnnn nnnn nnnn nnnn nnnn nnnn nnnn nnnn nnnn nnnn nnnn nnnn nnnn nnnn nnnn nnnn nnnn nnnn nnnn nnnn nnnn nnnn nnnn nnnn nnnn nnnn nnnn nnnn nnnn nnnn nnnn nnnn nnnn nnnn nnnn nnnn nnnn nnnn nnnn nnnn nnnn nnnn nnnn nnnn nnnn nnnn nnnn nnnn nnnn nnnn nnnn nnnn nnnn nnnn nnnn nnnn nnnn nnnn nnnn nnnn nnnn nnnn nnnn nnnn nnnn nnnn nnnn nnnn nnnn nnnn nnnn nnnn nnnn nnnn nnnn nnnn nnnn nnnn nnnn nnnn nnnn nnnn nnnn nnnn nnnn nnnn nnnn nnnn nnnn nnnn nnnn nnnn nnnn nnnn nnnn nnnn nnnn nnnn nnnn nnnn nnnn nnnn nnnn nnnn nnnn nnnn nnnn nnnn nnnn nnnn nnnn nnnn nnnn nnnn nnnn nnnn nnnn nnnn nnnn nnnn nnnn nnnn nnnn nnnn nnnn nnnn nnnn nnnn nnnn nnnn nnnn nnnn nnnn nnnn nnnn nnnn nnnn nnnn nnnn nnnn nnnn nnnn nnnn nnnn nnnn nnnn nnnn nnnn nnnn nnnn nnnn nnnn nnnn nnnn nnnn nnnn nnnn nnnn nnnn nnnn nnnn nnnn nnnn nnnn nnnn nnnn nnnn nnnn nnnn nnnn nnnn nnnn nnnn nnnn nnnn nnnn nnnn nnnn nnnn nnnn nnnn nnnn nnnn nnnn nnnn nnnn nnnn nnnn nnnn nnnn nnnn nnnn nnnn nnnn nnnn nnnn nnnn nnnn nnnn nnnn nnnn nnnn nnnn nnnn nnnn nnnn nnnn nnnn nnnn nnnn nnnn nnnn nnnn nnnn nnnn nnnn nnnn nnnn nnnn nnnn nnnn nnnn nnnn nnnn nnnn nnnn nnnn nnnn nnnn nnnn nnnn nnnn nnnn nnnn nnnn nnnn nnnn nnnn nnnn nnnn nnnn nnnn nnnn nnnn nnnn nnnn nnnn nnnn nnnn nnnn nnnn nnnn nnnn nnnn nnnn nnnn nnnn nnnn nnnn nnnn nnnn nnnn nnnn nnnn nnnn nnnn nnnn nnnn nnnn nnnn nnnn nnnn nnnn nnnn nnnn nnnn nnnn nnnn nnnn nnnn nnnn nnnn nnnn nnnn nnnn nnnn nnnn nnnn nnnn nnnn nnnn nnnn nnnn nnnn nnnn nnnn nnnn nnnn nnnn nnnn nnnn nnnn nnnn nnnn nnnn nnnn nnnn nnnn nnnn nnnn nnnn nnnn nnnn nnnn nnnn nnnn nnnn nnnn nnnn nnnn nnnn nnnn nnnn nnnn nnnn nnnn nnnn nnnn nnnn nnnn nnnn nnnn nnnn nnnn nnnn nnnn nnnn nnnn nnnn nnnn nnnn nnnn nnnn nnnn nnnn nnnn nnnn nnnn nnnn nnnn nnnn nnnn nnnn nnnn nnnn nnnn nnnn nnnn nnnn nnnn nnnn nnnn nnnn nnnn nnnn nnnn nnnn nnnn nnnn nnnn nnnn nnnn nnnn nnnn nnnn nnnn nnnn nnnn nnnn nnnn nnnn nnnn nnnn nnnn nnnn nnnn nnnn nnnn nnnn nnnn nnnn nnnn nnnn nnnn nnnr nnrr nrrr rrrr rrrr rrrr rrrr rrrr rrrr rrrr rrrr rrrr rrrr rrrr rrrr rrrr rrrr rrrr rrrr rrrr rrrr rrrr rrrr rrrr rrrr rrrr rrrr rrrr rrrn rrnn rnnn nnnn nnnn nnnn nnnn nnnn nnnn nnnn nnnn nnnn nnnn nnnn nnnn nnnn nnnn nnnn nnnn nnnn nnnn nnnn nnnn nnnn nnnn nnnn nnnn nnnn nnnn nnnn nnnn nnnn nnnn nnnn nnnn nnnn nnnn nnnn nnnn nnnn nnnn nnnn nnnn nnnn nnnn nnnn nnnn nnnn nnnn nnnn nnnn nnnn nnnn nnnn nnnn nnnn nnnn nnnn nnnn nnnn nnnn nnnn nnnn nnnn nnnn nnnn nnnn nnnn nnnn nnnn nnnn nnnn nnnn nnnn nnnn nnnn nnnn nnnn nnnn nnnn nnnn nnnn nnnn nnnn nnnn nnnn nnnn nnnn nnnn nnnn nnnn nnnn nnnn nnnn nnnn nnnn nnnn nnnn nnnn nnnn nnnn nnnn nnnn nnnn nnnn nnnn nnnn nnnn nnnn nnnn nnnn nnnn nnnn nnnn nnnn nnnn nnnn nnnn nnnn nnnn nnnn nnnn nnnn nnnn nnnn nnnn nnnn nnnn nnnn nnnn nnnn nnnn nnnn nnnn nnnn nnnn nnnn nnnn nnnn nnnn nnnn nnnn nnnn nnnn nnnn nnnn nnnn nnnn nnnn nnnn nnnn nnnn nnnn nnnn nnnn nnnn nnnn nnnn nnnn nnnn nnnn nnnn nnnn nnnn nnnn nnnn nnnn nnnn nnnn nnnn nnnn nnnn nnnn nnnn nnnn nnnn nnnn nnnn nnnn nnnn nnnn nnnn nnnn nnnn nnnn nnnn nnnn nnnn nnnn nnnn nnnn nnnn nnnn nnnn nnnn nnnn nnnn nnnn nnnn nnnn nnnn nnnn nnnn nnnn nnnr nnrr nrrr rrrr rrrr rrrr rrrr rrrn rrnn rnnn nnnn nnnn nnnn nnnn nnnn nnnn nnnn nnnn nnnn nnnn nnnn nnnn nnnn nnnn nnnn nnnn nnnn nnnn nnnn nnnn nnnn nnnn nnnn nnnn nnnn nnnn nnnn nnnn nnnn nnnn nnnn nnnn nnnn nnnn nnnn nnnn nnnn nnnn nnnn nnnn nnnn nnnn nnnn nnnn nnnn nnnn nnnn nnnn nnnn nnnn nnnn nnnn nnnn nnnn nnnn nnnn nnnn nnnn nnnn nnnn nnnn nnnn nnnn nnnn nnnn nnnn nnnn nnnn nnnn nnnn nnnn nnnn nnnn nnnn nnnn nnnn nnnn nnnn nnnn nnnn nnnn nnnn nnnn nnnn nnnn nnnn nnnn nnnn nnnn nnnn nnnn nnnn nnnn nnnn nnnn nnnn nnnn nnnn nnnn nnnn nnnn nnnn nnnn nnnn nnnn nnnn nnnn nnnn nnnn nnnn nnnn nnnn nnnn nnnn nnnn nnnn nnnn nnnn nnnn nnnn nnnn nnnn nnnn nnnn nnnn nnnn nnnn nnnn nnnn nnnn nnnn nnnn nnnn nnnn nnnn nnnn nnnn nnnn nnnn nnnn nnnn nnnn nnnn nnnn nnnn nnnn nnnn nnnn nnnn nnnn nnnn nnnn nnnn nnnn nnnn nnnn nnnn nnnn nnnn nnnn nnnn nnnn nnnn nnnn nnnn nnnn nnnn nnnn nnnn nnnn nnnn nnnn nnnn nnnn nnnn nnnn nnnn nnnn nnnn nnnn nnnn nnnn nnnn nnnn nnnn nnnn nnnn nnnn nnnn nnnn nnnn nnnn nnnn nnnn nnnn nnnn nnnn nnnn nnnn nnnn nnnn nnnn nnnn nnnn nnnn nnnn nnnn nnnn nnnn nnnn nnnn nnnn nnnn nnnn nnnn nnnn nnnn nnnn nnnn nnnn nnnn nnnn nnnn nnnn nnnn nnnn nnnn nnnn nnnn nnnn nnnn nnnn nnnn nnnn nnnn nnnn nnnn nnnn nnnn nnnn nnnn nnnn nnnn nnnn nnnn nnnn nnnn nnnn nnnn nnnn nnnn nnnn nnnn nnnn nnnn nnnn nnnn nnnn nnnn nnnn nnnn nnnn nnnn nnnn nnnn nnnn nnnn nnnn nnnn nnnn nnnn nnnn nnnn nnnn nnnn nnnn nnnn nnnn nnnn nnnn nnnn nnnn nnnn nnnn nnnn nnnn nnnn nnnn nnnn nnnn nnnn nnnn nnnn nnnn nnnn nnnn nnnn nnnn\n",
            "< nnnn nnnn nnnn nnnn nnnn nnnn nnnn nnnn nnnn nnnn nnnn nnnn nnnn nnnn nnnn nnnn nnnn nnnn nnnn nnnn nnnn nnnn nnnn nnnn nnnn nnnn nnnn nnnn nnnn nnnn nnnn nnnn nnnn nnnn nnnn nnnn nnnn nnnn nnnn nnnn nnnn nnnn nnnn nnnn nnnn nnnn nnnn nnnn nnnn nnnn nnnn nnnn nnnn nnnn nnnn nnnn nnnn nnnn nnnn nnnn nnnn nnnn nnnn nnnn nnnn nnnn nnnn nnnn nnnn nnnn nnnn nnnn nnnn nnnn nnnn nnnn nnnn nnnn nnnn nnnn nnnn nnnn nnnn nnnn nnnn nnnn nnnn nnnn nnnn nnnn nnnn nnnn nnnn nnnn nnnn nnnn nnnn nnnn nnnn nnnn nnnn nnnn nnnn nnnn nnnn nnnn nnnn nnnn nnnn nnnn nnnn nnnn nnnn nnnn nnnn nnnn nnnn nnnn nnnn nnnn nnnn nnnn nnnn nnnn nnnn nnnn nnnn nnnn nnnn nnnn nnnn nnnn nnnn nnnn nnnn nnnn nnnn nnnn nnnn nnnn nnnn nnnn nnnn nnnn nnnn nnnn nnnn nnnn nnnn nnnn nnnn nnnn nnnn nnnn nnnn nnnn nnnn nnnn nnnn nnnn nnnn nnnn nnnn nnnn nnnn nnnn nnnn nnnn nnnn nnnn nnnn nnnn nnnn nnnn nnnn nnnn nnnn nnnn nnnn nnnn nnnn nnnn nnnn nnnn nnnn nnnn nnnn nnnn nnnn nnnn nnnn nnnn nnnn nnnn nnnn nnnn nnnn nnnn nnnn nnnn nnnn nnnn nnnn nnnn nnnn nnnn nnnn nnnn nnnn nnnn nnnn nnnn nnnn nnnn nnnn nnnn nnnn nnnn nnnn nnnn nnnn nnnn nnnn nnnn nnnn nnnn nnnn nnnn nnnn nnnn nnnn nnnn nnnn nnnn nnnn nnnn nnnn nnnn nnnn nnnn nnnn nnnn nnnn nnnn nnnn nnnn nnnn nnnn nnnn nnnn nnnn nnnn nnnn nnnn nnnn nnnn nnnn nnnn nnnn nnnn nnnn nnnn nnnn nnnn nnnn nnnn nnnn nnnn nnnn nnnn nnnn nnnn nnnn nnnn nnnn nnnn nnnn nnnn nnnn nnnn nnnn nnnn nnnn nnnn nnnn nnnn nnnn nnnn nnnn nnnn nnnn nnnn nnnn nnnn nnnn nnnn nnnn nnnn nnnn nnnn nnnn nnnn nnnn nnnn nnnn nnnn nnnn nnnn nnnn nnnn nnnn nnnn nnnn nnnn nnnn nnnn nnnn nnnn nnnn nnnn nnnn nnnn nnnn nnnn nnnn nnnn nnnn nnnn nnnn nnnn nnnn nnnn nnnn nnnn nnnn nnnn nnnn nnnn nnnn nnnn nnnn nnnn nnnn nnnn nnnn nnnn nnnn nnnn nnnn nnnn nnnn nnnn nnnn nnnn nnnn nnnn nnnn nnnn nnnn nnnn nnnn nnnn nnnn nnnn nnnn nnnn nnnn nnnn nnnn nnnn nnnn nnnn nnnn nnnn nnnn nnnn nnnn nnnn nnnn nnnn nnnn nnnn nnnn nnnn nnnn nnnn nnnn nnnn nnnn nnnn nnnn nnnn nnnn nnnn nnnn nnnn nnnn nnnn nnnn nnnn nnnn nnnn nnnn nnnn nnnn nnnn nnnn nnnn nnnn nnnn nnnn nnnn nnnn nnnn nnnn nnnn nnnn nnnn nnnn nnnn nnnn nnnn nnnn nnnn nnnn nnnn nnnn nnnn nnnn nnnn nnnn nnnn nnnn nnnn nnnn nnnn nnnn nnnn nnnn nnnn nnnn nnnn nnnn nnnn nnnn nnnn nnnn nnnn nnnn nnnn nnnn nnnn nnnn nnnn nnnn nnnn nnnn nnnn nnnn nnnn nnnn nnnn nnnn nnnn nnnn nnnn nnnn nnnn nnnn nnnn nnnn nnnn nnnn nnnn nnnn nnnn nnnn nnnn nnnn nnnn nnnn nnnn nnnn nnnn nnnn nnnn nnnn nnnn nnnn nnnn nnnn nnnn nnnn nnnn nnnn nnnn nnnn nnnn nnnn nnnn nnnn nnnn nnnn nnnn nnnn nnnn nnnn nnnn nnnn nnnn nnnn nnnn nnnn nnnn nnnn nnnn nnnn nnnn nnnn nnnn nnnn nnnn nnnn nnnn nnnn nnnn nnnn nnnn nnnn nnnn nnnn nnnn nnnn nnnn nnnn nnnn nnnn nnnn nnnn nnnn nnnn nnnn nnnn nnnn nnnn nnnn nnnn nnnn nnnn nnnn nnnn nnnn nnnn nnnn nnnn nnnn nnnn nnnn nnnn nnnn nnnn nnnn nnnn nnnn nnnn nnnn nnnn nnnn nnnn nnnn nnnn nnnn nnnn nnnn nnnn nnnn nnnn nnnn nnnn nnnn nnnn nnnn nnnn nnnn nnnn nnnn nnnn nnnn nnnn nnnn nnnn nnnn nnnn nnnn nnnn nnnn nnnn nnnn nnnn nnnn nnnn nnnn nnnn nnnn nnnn nnnn nnnn nnnn nnnn nnnn nnnn nnnn nnnn nnnn nnnn nnnn nnnn nnnn nnnn nnnn nnnn nnnn nnnn nnnn nnnn nnnn nnnn nnnn nnnn nnnn nnnn nnnn nnnn nnnn nnnn nnnn nnnn nnnn nnnn nnnn nnnn nnnn nnnn nnnn nnnn nnnn nnnn nnnn nnnn nnnn nnnn nnnn nnnn nnnn nnnn nnnn nnnn nnnn nnnn nnnn nnnn nnnn nnnn nnnn nnnn nnnn nnnn nnnn nnnn nnnn nnnn nnnn nnnn nnnn nnnn nnnn nnnn nnnn nnnn nnnn nnnn nnnn nnnn nnnn nnnn nnnn nnnn nnnn nnnn nnnn nnnn nnnn nnnn nnnn nnnn nnnn nnnn nnnn nnnn nnnn nnnn nnnn nnnn nnnn nnnn nnnn nnnn nnnn nnnn nnnn nnnn nnnn nnnn nnnn nnnn nnnn nnnn nnnn nnnn nnnn nnnn nnnn nnnn nnnn nnnn nnnn nnnn nnnn nnnn nnnn nnnn nnnn nnnn nnnn nnnn nnnn nnnn nnnn nnnn nnnn nnnn nnnn nnnn nnnn nnnn nnnn nnnn nnnn nnnn nnnn nnnn nnnn nnnn nnnn nnnn nnnn nnnn nnnn nnnn nnnn nnnn nnnn nnnn nnnn nnnn nnnn nnnn nnnn nnnn nnnn nnnn nnnn nnnn nnnn nnnn nnnn nnnn nnnn nnnn nnnn nnnn nnnn nnnn nnnn nnnn nnnn nnnn nnnn nnnn nnnn nnnn nnnn nnnn nnnn nnnn nnnn nnnn nnnn nnnn nnnn nnnn nnnn nnnn nnnn nnnn nnnn nnnn nnnn nnnn nnnn nnnn nnnn nnnn nnnn nnnn nnnn nnnn nnnn nnnn nnnn nnnn nnnn nnnn nnnn nnnn nnnn nnnn nnnn nnnn nnnn nnnn nnnn nnnn nnnn nnnn nnnn nnnn nnnn nnnn nnnn nnnn nnnn nnnn nnnn nnnn nnnn nnnn nnnn nnnn nnnn nnnn nnnn nnnn nnnn nnnn nnnn nnnn nnnn nnnn nnnn nnnn nnnn nnnn nnnn nnnn nnnn nnnn nnnn nnnn nnnn nnnn nnnn nnnn nnnn nnnn nnnn nnnn nnnn nnnn nnnn nnnn nnnn nnnn nnnn nnnn nnnn nnnn nnnn nnnn nnnn nnnn nnnn nnnn nnnn nnnn nnnn nnnn nnnn nnnn nnnn nnnn nnnn nnnn nnnn nnnn nnnn nnnn nnnn nnnn nnnn nnnn nnnn nnnn nnnn nnnn nnnn nnnn nnnn nnnn nnnn nnnn nnnn nnnn nnnn nnnn nnnn nnnn nnnn nnnn nnnn nnnn nnnn nnnn nnnn nnnn nnnn nnnn nnnn nnnn nnnn nnnn nnnn nnnn nnnn nnnn nnnn nnnn nnnn nnnn nnnn nnnn nnnn nnnn nnnn nnnn nnnn nnnn nnnn nnnn nnnn nnnn nnnn nnnn nnnn nnnn nnnn nnnn nnnn nnnn nnnn nnnn nnnn nnnn nnnn nnnn nnnn nnnn nnnn nnnn nnnn nnnn nnnn nnnn nnnn nnnn nnnn nnnn nnnn nnnn nnnn nnnn nnnn nnnn nnnn nnnn nnnn nnnn nnnn nnnn nnnn\n",
            "\n",
            "> ccgg cggg ggga ggaa gaag aagc agct gctt cttt tttc ttca tcac cact actt cttt tttg ttgc tgca gcac caca acaa caat aatt atta ttaa taag aagg aggc ggcg gcgc cgca gcac caca acac caca acat catc atct tctc ctcc tcca ccat catt atta ttac taca acat catt attt tttg ttga tgaa gaaa aaaa aaaa aaaa aaaa aaaa aaaa aaaa aaaa aaaa aaaa aaac aaca acac cacc accc cccg ccgt cgtc gtcg tcgt cgtc gtcc tccg ccgc cgca gcat catg atgt tgtc gtcg tcgc cgca gcat catt attt tttt tttg ttgt tgtt gttt tttt tttg ttgt tgta gtaa taac aaca acac cacc acca ccaa caat aatt attt tttc ttcg tcgg cggg gggt ggtg gtga tgaa gaac aact actt cttg ttgt tgtt gttt ttta ttag tagc agca gcaa caat aatg atgc tgct gctc ctct tctg ctgg tggg gggt ggtc gtca tcag cagg aggt ggta gtac tact acta ctat tata atat tata atac tact actc ctct tcta ctat tata atac taca acac caca acat catg atgt tgtt gttg ttgt tgtt gttt tttt tttc ttcc tcct ccta ctac tact actc ctca tcac caca acat catt attg ttgt tgtt gttg ttgt tgtt gttg ttgc tgct gctg ctgg tggg gggt ggtg gtga tgac gacg acga cgac gact actt cttg ttgg tggc ggcc gcca ccac cacc accg ccgt cgtc gtcg tcgt cgtg gtgg tggt ggtg gtga tgat gata atat tatc atct tctt cttt tttg ttga tgat gata atag tagg aggc ggca gcag cagc agcc gcca ccac caca acag cagc agct gctc ctct tctt cttc ttcc tccg ccgt cgtg gtgg tgga ggaa gaat aata atag tagc agca gcac cacc accc cccc cccg ccgt cgtg gtgc tgcg gcgg cggc ggct gctg ctgt tgtt gttg ttgc tgcg gcgc cgct gctg ctgg tgga ggaa gaag aaga agag gagc agct gctt cttc ttcg tcga cgat gatt attc ttcc tcca ccag cagg aggt ggta gtaa taac aaca acag cagg aggt ggtg gtga tgac gacg acgg cgga ggaa gaac aacc acct cctg ctga tgaa gaag aagc agca gcag caga agaa gaaa aaaa aaaa aaag aaga agat gatg atgc tgca gcag caga agat gatc atcg tcga cgaa gaac aaca acag caga agaa gaaa aaag aagt agtt gtta ttat tata atag taga agac gaca acaa caaa aaaa aaaa aaat aata atat tata atag tagg agga ggac gaca acaa caac aaca acat catt attt ttta ttac taca acag caga agat gatt atta ttaa taat aatg atga tgac gact acta ctat tatc atct tcta ctat tatc atcc tccg ccga cgaa gaat aatt attt tttg ttga tgaa gaat aatt attt tttt tttt ttta ttat tatt attt tttg ttgt tgtc gtct tcta ctat tata atat tata ataa taag aagt agta gtaa taaa aaag aagg aggg gggt ggta gtat tata ataa taat aata atat tatt atta ttat tatg atgt tgta gtaa taaa aaag aagc agca gcaa caat aata atag tagt agta gtat tata atat tatc atct tcta ctac tact actg ctgc tgca gcat catt attt tttt tttt ttta ttaa taat aatt atta ttaa taaa aaat aata atat tata atat tatg atgt tgta gtat tatt atta ttat tata atat tata atag tagt agtt gttt ttta ttat tata ataa taat aata ataa taag aagg agga ggaa gaaa aaaa aaat aata atat tata atac tacc accc cccc ccct cctc ctca tcat catt attt tttt tttc ttca tcac caca acaa caaa aaac aacc acca ccaa caat aata ataa taaa aaaa aaac aacc acca ccaa caat aata ataa taaa aaaa aaat aatt atta ttat tatt attg ttga tgag gaga agaa gaaa aaat aatt attt ttta ttaa taaa aaaa aaat aatt attt tttg ttgt tgtc gtcc tcca ccaa caaa aaaa aaag aagt agta gtat tatg atgc tgca gcag cagt agta gtag taga agaa gaat aatt attg ttgg tgga ggag gagc agct gctt ctta ttag tagt agtt gttt tttg ttgc tgca gcac caca acaa caat aatt attt ttta ttaa taag aaga agat gata atac tact actt cttc ttct tcta ctat tata atag taga agat gatc atct tctg ctgg tggg gggt ggtt gtta ttac taca acat catt atta ttac tacc acct ccta ctat tata atat tatt attt tttc ttct tctg ctgc tgcg gcgc cgcg gcga cgat gatt attc ttca tcac cact actg ctga tgat gatg atgg tggt ggtc gtca tcag cagc agcg gcgg cggt ggtg gtgg tggc ggca gcat catc atcg tcgc cgca gcat catc atcc tccc cccg ccga cgag gagc agcg gcgg cgga ggag gagc agct gctc ctct tctc ctcc tccg ccga cgac gacg acga cgac gact actt cttc ttct tctt cttc ttcc tcct cctg ctgc tgcc gccc ccct cctt cttt tttc ttcc tccc ccct cctg ctgg tggt ggtc gtca tcac cact actt cttg ttgg tggc ggct gctt cttt tttc ttcc tccg ccgc cgcc gccg ccgg cggc ggcc gcct cctc ctca tcag cagt agtc gtct tctt cttt tttg ttgc tgcc gcct cctc ctca tcac cact actt cttg ttgg tgga ggag gagc agca gcac cact actc ctcg tcgc cgca gcag cagt agtt gttg ttgg tgga ggat gatc atcc tcca ccac cacg acga cgaa gaaa aaac aacg acgc cgct gctg ctgc tgca gcac caca acaa caaa aaag aagc agct gctg ctgg tggt ggtg gtgc tgct gctt cttc ttct tcta ctat tatc atct tctt cttt tttt ttta ttag tagc agcg gcga cgag gagc agcg gcgg cggt ggta gtat tatg atgt tgtc gtct tctt cttg ttgt tgtt gtta ttaa taaa aaag aagc agcg gcga cgat gatt attg ttga tgaa gaag aagt agtt gttc ttct tctg ctgg tggt ggta gtaa taag aaga agaa gaag aagg aggg gggt ggta gtat tatt attt ttta ttaa taat aatc atcc tcca ccac cacg acgt cgtt gtta ttag tagt agtt gtta ttag tagc agct gctt cttg ttgt tgtc gtca tcat catg atgg tggc ggcc gcca ccaa caac aact actt ctta ttac tacc accg ccgt cgtt gttg ttgc tgcc gccg ccgg cgga ggaa gaag aagt agtt gttc ttcc tcca ccag cagt agta gtag tagc agcg gcgc cgcg gcgt cgta gtag taga agac gacc accg ccgt cgta gtaa taaa aaag aaga agac gacc acca ccaa caaa aaaa aaaa aaat aatt attg ttgc tgcc gccc cccg ccgg cgga ggaa gaaa aaaa aaag aaga agag gagt agtt gttg ttgt tgtt gttc ttcc tccg ccgg cggc ggct gctc ctcc\n",
            "= nnnn nnnn nnnn nnnn nnnn nnnn nnnn nnnn nnnn nnnn nnnn nnnn nnnn nnnn nnnn nnnn nnnn nnnn nnnn nnnn nnnn nnnn nnnn nnnn nnnn nnnn nnnn nnnn nnnn nnnn nnnn nnnn nnnn nnnn nnnn nnnn nnnn nnnn nnnn nnnn nnnn nnnn nnnn nnnn nnnn nnnn nnnn nnnn nnnn nnnn nnnr nnrr nrrr rrrr rrrr rrrr rrrr rrrr rrrr rrrr rrrr rrrr rrrr rrrn rrnn rnnn nnnn nnnn nnnn nnnn nnnn nnnn nnnn nnnn nnnn nnnn nnnn nnnn nnnn nnnn nnnn nnnn nnnn nnnn nnnn nnnn nnnn nnnn nnnn nnnn nnnn nnnn nnnn nnnn nnnn nnnn nnnn nnnn nnnn nnnn nnnn nnnn nnnn nnnn nnnn nnnn nnnn nnnn nnnn nnnn nnnn nnnn nnnn nnnn nnnn nnnn nnnn nnnn nnnn nnnn nnnn nnnn nnnn nnnn nnnn nnnn nnnn nnnn nnnn nnnn nnnn nnnn nnnn nnnn nnnn nnnn nnnn nnnn nnnn nnnn nnnn nnnn nnnn nnnn nnnn nnnn nnnn nnnn nnnn nnnn nnnn nnnn nnnn nnnn nnnn nnnn nnnn nnnn nnnn nnnn nnnn nnnn nnnn nnnn nnnn nnnn nnnn nnnn nnnn nnnn nnnn nnnn nnnn nnnn nnnn nnnn nnnn nnnn nnnn nnnn nnnn nnnn nnnn nnnn nnnn nnnn nnnn nnnn nnnn nnnn nnnn nnnn nnnn nnnn nnnn nnnn nnnn nnnn nnnn nnnn nnnn nnnn nnnn nnnn nnnn nnnn nnnn nnnn nnnn nnnn nnnn nnnn nnnn nnnn nnnn nnnn nnnn nnnn nnnn nnnn nnnn nnnn nnnn nnnn nnnn nnnn nnnn nnnn nnnn nnnn nnnn nnnn nnnn nnnn nnnn nnnn nnnn nnnn nnnn nnnn nnnn nnnn nnnn nnnn nnnn nnnn nnnn nnnn nnnn nnnn nnnn nnnn nnnn nnnn nnnn nnnn nnnn nnnn nnnn nnnn nnnn nnnn nnnn nnnn nnnn nnnn nnnn nnnn nnnn nnnn nnnn nnnn nnnn nnnn nnnn nnnn nnnn nnnn nnnn nnnn nnnn nnnn nnnn nnnn nnnn nnnn nnnn nnnn nnnn nnnn nnnn nnnn nnnn nnnn nnnn nnnn nnnn nnnn nnnn nnnn nnnn nnnn nnnn nnnn nnnn nnnn nnnn nnnn nnnn nnnn nnnn nnnn nnnn nnnn nnnn nnnn nnnn nnnn nnnn nnnn nnnn nnnn nnnn nnnn nnnn nnnn nnnn nnnn nnnn nnnn nnnn nnnn nnnn nnnn nnnn nnnn nnnn nnnn nnnn nnnn nnnn nnnn nnnn nnnn nnnn nnnn nnnn nnnn nnnn nnnn nnnn nnnn nnnn nnnn nnnn nnnn nnnn nnnn nnnn nnnn nnnn nnnn nnnn nnnn nnnn nnnn nnnn nnnn nnnn nnnn nnnn nnnn nnnn nnnn nnnn nnnn nnnn nnnn nnnn nnnn nnnn nnnn nnnn nnnn nnnn nnnn nnnn nnnn nnnn nnnn nnnn nnnn nnnn nnnn nnnn nnnn nnnn nnnn nnnn nnnn nnnn nnnn nnnn nnnn nnnn nnnn nnnn nnnn nnnn nnnn nnnn nnnn nnnn nnnn nnnn nnnn nnnn nnnn nnnn nnnn nnnn nnnn nnnn nnnn nnnn nnnn nnnn nnnn nnnn nnnn nnnn nnnn nnnn nnnn nnnn nnnn nnnn nnnn nnnn nnnn nnnn nnnn nnnn nnnn nnnn nnnn nnnn nnnn nnnn nnnn nnnn nnnn nnnn nnnn nnnn nnnn nnnn nnnn nnnn nnnn nnnn nnnn nnnn nnnn nnnn nnnn nnnn nnnn nnnn nnnn nnnn nnnn nnnn nnnn nnnn nnnn nnnn nnnn nnnn nnnn nnnn nnnn nnnn nnnn nnnn nnnn nnnn nnnn nnnn nnnn nnnn nnnn nnnn nnnn nnnn nnnn nnnn nnnn nnnn nnnn nnnn nnnn nnnn nnnn nnnn nnnn nnnn nnnn nnnn nnnn nnnn nnnn nnnn nnnn nnnn nnnn nnnn nnnn nnnn nnnn nnnn nnnn nnnn nnnn nnnn nnnn nnnn nnnn nnnn nnnn nnnn nnnn nnnn nnnn nnnr nnrr nrrr rrrr rrrr rrrr rrrr rrrr rrrr rrrr rrrr rrrr rrrr rrrr rrrr rrrr rrrr rrrr rrrr rrrr rrrr rrrn rrnn rnnn nnnn nnnn nnnn nnnn nnnn nnnn nnnn nnnn nnnn nnnn nnnn nnnn nnnn nnnn nnnn nnnn nnnn nnnn nnnn nnnn nnnn nnnn nnnn nnnn nnnn nnnn nnnn nnnn nnnn nnnn nnnn nnnn nnnn nnnn nnnn nnnn nnnn nnnn nnnn nnnn nnnn nnnn nnnn nnnn nnnn nnnn nnnn nnnn nnnn nnnn nnnn nnnn nnnn nnnn nnnn nnnn nnnn nnnn nnnn nnnn nnnn nnnn nnnn nnnn nnnn nnnn nnnn nnnn nnnn nnnn nnnn nnnn nnnn nnnn nnnn nnnn nnnn nnnn nnnn nnnn nnnn nnnn nnnn nnnn nnnn nnnn nnnn nnnn nnnn nnnn nnnn nnnn nnnn nnnn nnnn nnnn nnnn nnnn nnnn nnnn nnnn nnnn nnnn nnnn nnnn nnnn nnnn nnnn nnnn nnnn nnnn nnnn nnnn nnnn nnnn nnnn nnnn nnnn nnnn nnnn nnnn nnnn nnnn nnnn nnnn nnnn nnnn nnnn nnnn nnnn nnnn nnnn nnnn nnnn nnnn nnnn nnnn nnnn nnnn nnnn nnnn nnnn nnnn nnnn nnnn nnnn nnnn nnnn nnnn nnnn nnnn nnnn nnnn nnnn nnnn nnnn nnnn nnnn nnnn nnnn nnnn nnnn nnnn nnnn nnnn nnnn nnnn nnnn nnnn nnnn nnnn nnnn nnnn nnnn nnnn nnnn nnnn nnnn nnnn nnnn nnnn nnnn nnnn nnnn nnnn nnnn nnnn nnnn nnnn nnnn nnnn nnnn nnnn nnnn nnnn nnnn nnnn nnnn nnnn nnnn nnnn nnnn nnnn nnnn nnnn nnnn nnnn nnnn nnnn nnnn nnnn nnnn nnnn nnnn nnnn nnnn nnnn nnnn nnnn nnnn nnnn nnnn nnnn nnnn nnnn nnnn nnnn nnnn nnnn nnnn nnnn nnnn nnnn nnnn nnnn nnnn nnnn nnnn nnnn nnnn nnnn nnnn nnnn nnnn nnnn nnnn nnnn nnnn nnnn nnnn nnnn nnnn nnnn nnnn nnnn nnnn nnnn nnnn nnnn nnnn nnnn nnnn nnnn nnnn nnnn nnnn nnnn nnnn nnnn nnnn nnnn nnnn nnnn nnnn nnnn nnnn nnnn nnnn nnnn nnnn nnnn nnnn nnnn nnnn nnnn nnnn nnnn nnnn nnnn nnnn nnnn nnnn nnnn nnnn nnnn nnnn nnnn nnnn nnnn nnnn nnnn nnnn nnnn nnnn nnnn nnnn nnnn nnnn nnnn nnnn nnnn nnnn nnnn nnnn nnnn nnnn nnnn nnnn nnnn nnnn nnnn nnnn nnnn nnnn nnnn nnnn nnnn nnnn nnnn nnnn nnnn nnnn nnnn nnnn nnnn nnnn nnnn nnnn nnnn nnnn nnnn nnnn nnnn nnnn nnnn nnnn nnnn nnnn nnnn nnnn nnnn nnnn nnnn nnnn nnnn nnnn nnnn nnnn nnnn nnnn nnnn nnnn nnnn nnnn nnnn nnnn nnnn nnnn nnnn nnnn nnnn nnnn nnnn nnnn nnnn nnnn nnnn nnnn nnnn nnnn nnnn nnnn nnnn nnnn nnnn nnnn nnnn nnnn nnnn nnnn nnnn nnnn nnnn nnnn nnnn nnnn nnnn nnnn nnnn nnnn nnnn nnnn nnnn nnnn nnnn nnnn nnnn nnnn nnnn nnnn nnnn nnnn nnnn nnnn nnnn nnnn nnnn nnnn nnnn nnnn nnnn nnnn nnnn nnnn nnnn nnnn nnnn nnnn nnnn nnnn nnnn nnnn nnnn nnnn nnnn nnnn nnnn nnnn nnnn\n",
            "< nnnn nnnn nnnn nnnn nnnn nnnn nnnn nnnn nnnn nnnn nnnn nnnn nnnn nnnn nnnn nnnn nnnn nnnn nnnn nnnn nnnn nnnn nnnn nnnn nnnn nnnn nnnn nnnn nnnn nnnn nnnn nnnn nnnn nnnn nnnn nnnn nnnn nnnn nnnn nnnn nnnn nnnn nnnn nnnn nnnn nnnn nnnn nnnn nnnn nnnn nnnn nnnn nnnn nnnn nnnn nnnn nnnn nnnn nnnn nnnn nnnn nnnn nnnn nnnn nnnn nnnn nnnn nnnn nnnn nnnn nnnn nnnn nnnn nnnn nnnn nnnn nnnn nnnn nnnn nnnn nnnn nnnn nnnn nnnn nnnn nnnn nnnn nnnn nnnn nnnn nnnn nnnn nnnn nnnn nnnn nnnn nnnn nnnn nnnn nnnn nnnn nnnn nnnn nnnn nnnn nnnn nnnn nnnn nnnn nnnn nnnn nnnn nnnn nnnn nnnn nnnn nnnn nnnn nnnn nnnn nnnn nnnn nnnn nnnn nnnn nnnn nnnn nnnn nnnn nnnn nnnn nnnn nnnn nnnn nnnn nnnn nnnn nnnn nnnn nnnn nnnn nnnn nnnn nnnn nnnn nnnn nnnn nnnn nnnn nnnn nnnn nnnn nnnn nnnn nnnn nnnn nnnn nnnn nnnn nnnn nnnn nnnn nnnn nnnn nnnn nnnn nnnn nnnn nnnn nnnn nnnn nnnn nnnn nnnn nnnn nnnn nnnn nnnn nnnn nnnn nnnn nnnn nnnn nnnn nnnn nnnn nnnn nnnn nnnn nnnn nnnn nnnn nnnn nnnn nnnn nnnn nnnn nnnn nnnn nnnn nnnn nnnn nnnn nnnn nnnn nnnn nnnn nnnn nnnn nnnn nnnn nnnn nnnn nnnn nnnn nnnn nnnn nnnn nnnn nnnn nnnn nnnn nnnn nnnn nnnn nnnn nnnn nnnn nnnn nnnn nnnn nnnn nnnn nnnn nnnn nnnn nnnn nnnn nnnn nnnn nnnn nnnn nnnn nnnn nnnn nnnn nnnn nnnn nnnn nnnn nnnn nnnn nnnn nnnn nnnn nnnn nnnn nnnn nnnn nnnn nnnn nnnn nnnn nnnn nnnn nnnn nnnn nnnn nnnn nnnn nnnn nnnn nnnn nnnn nnnn nnnn nnnn nnnn nnnn nnnn nnnn nnnn nnnn nnnn nnnn nnnn nnnn nnnn nnnn nnnn nnnn nnnn nnnn nnnn nnnn nnnn nnnn nnnn nnnn nnnn nnnn nnnn nnnn nnnn nnnn nnnn nnnn nnnn nnnn nnnn nnnn nnnn nnnn nnnn nnnn nnnn nnnn nnnn nnnn nnnn nnnn nnnn nnnn nnnn nnnn nnnn nnnn nnnn nnnn nnnn nnnn nnnn nnnn nnnn nnnn nnnn nnnn nnnn nnnn nnnn nnnn nnnn nnnn nnnn nnnn nnnn nnnn nnnn nnnn nnnn nnnn nnnn nnnn nnnn nnnn nnnn nnnn nnnn nnnn nnnn nnnn nnnn nnnn nnnn nnnn nnnn nnnn nnnn nnnn nnnn nnnn nnnn nnnn nnnn nnnn nnnn nnnn nnnn nnnn nnnn nnnn nnnn nnnn nnnn nnnn nnnn nnnn nnnn nnnn nnnn nnnn nnnn nnnn nnnn nnnn nnnn nnnn nnnn nnnn nnnn nnnn nnnn nnnn nnnn nnnn nnnn nnnn nnnn nnnn nnnn nnnn nnnn nnnn nnnn nnnn nnnn nnnn nnnn nnnn nnnn nnnn nnnn nnnn nnnn nnnn nnnn nnnn nnnn nnnn nnnn nnnn nnnn nnnn nnnn nnnn nnnn nnnn nnnn nnnn nnnn nnnn nnnn nnnn nnnn nnnn nnnn nnnn nnnn nnnn nnnn nnnn nnnn nnnn nnnn nnnn nnnn nnnn nnnn nnnn nnnn nnnn nnnn nnnn nnnn nnnn nnnn nnnn nnnn nnnn nnnn nnnn nnnn nnnn nnnn nnnn nnnn nnnn nnnn nnnn nnnn nnnn nnnn nnnn nnnn nnnn nnnn nnnn nnnn nnnn nnnn nnnn nnnn nnnn nnnn nnnn nnnn nnnn nnnn nnnn nnnn nnnn nnnn nnnn nnnn nnnn nnnn nnnn nnnn nnnn nnnn nnnn nnnn nnnn nnnn nnnn nnnn nnnn nnnn nnnn nnnn nnnn nnnn nnnn nnnn nnnn nnnn nnnn nnnn nnnn nnnn nnnn nnnn nnnn nnnn nnnn nnnn nnnn nnnn nnnn nnnn nnnn nnnn nnnn nnnn nnnn nnnn nnnn nnnn nnnn nnnn nnnn nnnn nnnn nnnn nnnn nnnn nnnn nnnn nnnn nnnn nnnn nnnn nnnn nnnn nnnn nnnn nnnn nnnn nnnn nnnn nnnn nnnn nnnn nnnn nnnn nnnn nnnn nnnn nnnn nnnn nnnn nnnn nnnn nnnn nnnn nnnn nnnn nnnn nnnn nnnn nnnn nnnn nnnn nnnn nnnn nnnn nnnn nnnn nnnn nnnn nnnn nnnn nnnn nnnn nnnn nnnn nnnn nnnn nnnn nnnn nnnn nnnn nnnn nnnn nnnn nnnn nnnn nnnn nnnn nnnn nnnn nnnn nnnn nnnn nnnn nnnn nnnn nnnn nnnn nnnn nnnn nnnn nnnn nnnn nnnn nnnn nnnn nnnn nnnn nnnn nnnn nnnn nnnn nnnn nnnn nnnn nnnn nnnn nnnn nnnn nnnn nnnn nnnn nnnn nnnn nnnn nnnn nnnn nnnn nnnn nnnn nnnn nnnn nnnn nnnn nnnn nnnn nnnn nnnn nnnn nnnn nnnn nnnn nnnn nnnn nnnn nnnn nnnn nnnn nnnn nnnn nnnn nnnn nnnn nnnn nnnn nnnn nnnn nnnn nnnn nnnn nnnn nnnn nnnn nnnn nnnn nnnn nnnn nnnn nnnn nnnn nnnn nnnn nnnn nnnn nnnn nnnn nnnn nnnn nnnn nnnn nnnn nnnn nnnn nnnn nnnn nnnn nnnn nnnn nnnn nnnn nnnn nnnn nnnn nnnn nnnn nnnn nnnn nnnn nnnn nnnn nnnn nnnn nnnn nnnn nnnn nnnn nnnn nnnn nnnn nnnn nnnn nnnn nnnn nnnn nnnn nnnn nnnn nnnn nnnn nnnn nnnn nnnn nnnn nnnn nnnn nnnn nnnn nnnn nnnn nnnn nnnn nnnn nnnn nnnn nnnn nnnn nnnn nnnn nnnn nnnn nnnn nnnn nnnn nnnn nnnn nnnn nnnn nnnn nnnn nnnn nnnn nnnn nnnn nnnn nnnn nnnn nnnn nnnn nnnn nnnn nnnn nnnn nnnn nnnn nnnn nnnn nnnn nnnn nnnn nnnn nnnn nnnn nnnn nnnn nnnn nnnn nnnn nnnn nnnn nnnn nnnn nnnn nnnn nnnn nnnn nnnn nnnn nnnn nnnn nnnn nnnn nnnn nnnn nnnn nnnn nnnn nnnn nnnn nnnn nnnn nnnn nnnn nnnn nnnn nnnn nnnn nnnn nnnn nnnn nnnn nnnn nnnn nnnn nnnn nnnn nnnn nnnn nnnn nnnn nnnn nnnn nnnn nnnn nnnn nnnn nnnn nnnn nnnn nnnn nnnn nnnn nnnn nnnn nnnn nnnn nnnn nnnn nnnn nnnn nnnn nnnn nnnn nnnn nnnn nnnn nnnn nnnn nnnn nnnn nnnn nnnn nnnn nnnn nnnn nnnn nnnn nnnn nnnn nnnn nnnn nnnn nnnn nnnn nnnn nnnn nnnn nnnn nnnn nnnn nnnn nnnn nnnn nnnn nnnn nnnn nnnn nnnn nnnn nnnn nnnn nnnn nnnn nnnn nnnn nnnn nnnn nnnn nnnn nnnn nnnn nnnn nnnn nnnn nnnn nnnn nnnn nnnn nnnn nnnn nnnn nnnn nnnn nnnn nnnn nnnn nnnn nnnn nnnn nnnn nnnn nnnn nnnn nnnn nnnn nnnn nnnn nnnn nnnn nnnn nnnn nnnn nnnn nnnn nnnn nnnn nnnn nnnn nnnn nnnn nnnn nnnn nnnn nnnn nnnn nnnn nnnn nnnn nnnn nnnn nnnn nnnn nnnn nnnn nnnn nnnn nnnn nnnn nnnn nnnn nnnn nnnn nnnn nnnn nnnn nnnn nnnn nnnn nnnn nnnn nnnn nnnn nnnn nnnn nnnn nnnn nnnn nnnn nnnn nnnn\n",
            "\n",
            "> ggag gaga agaa gaac aact actg ctgg tggg gggt ggtg gtgt tgtt gttt tttg ttgt tgta gtat tatt attg ttgc tgcc gccc ccca ccat catg atgg tgga ggat gata atag taga agaa gaat aatg atga tgat gatg atgg tggg gggc ggct gctt cttc ttct tctc ctcc tcct cctg ctgc tgcg gcgg cggt ggtc gtcg tcgc cgct gctt ctta ttat tatt atta ttaa taaa aaaa aaag aagc agca gcat catt atta ttaa taaa aaag aagt agtc gtct tcta ctat tatt atta ttat tatt atta ttac taca acag cagc agca gcag cagc agca gcag cagc agct gcta ctaa taac aacc acca ccac caca acaa caag aagg agga ggag gagt agtc gtca tcat catt attg ttgc tgct gctc ctct tctc ctcg tcgc cgct gctt ctta ttaa taag aagt agtt gttg ttgt tgta gtac taca acag cagc agca gcag caga agaa gaat aatc atcg tcga cgag gagc agca gcat catt attc ttca tcaa caac aacg acga cgag gagc agca gcat catt atta ttaa taag aagc agcc gccc ccct cctg ctgt tgta gtaa taaa aaat aata atat tatg atga tgac gaca acaa caac aaca acat catt attt tttt ttta ttag tagg aggc ggcg gcga cgat gatc atcc tcca ccag cagt agtc gtcg tcga cgag gaga agat gatg atgc tgct gctg ctgc tgct gctg ctgc tgct gctg ctgc tgct gctc ctcc tcct cctt cttt tttt tttg ttgc tgcc gccg ccgc cgca gcag caga agat gatg atgc tgca gcaa caac aact actt cttg ttgc tgca gcaa caac aaca acat catg atga tgac gacc acct cctc ctct tctt ctta ttaa taac aact actc ctct tctc ctcc tcca ccag cagc agca gcaa caaa aaac aacg acgc cgcc gcca ccat cata ataa taat aatt attc ttct tctg ctgc tgcg gcgt cgtg gtga tgaa gaaa aaat aatt attg ttga tgaa gaag aagc agct gctg ctgg tggg gggc ggca gcac caca acac cacg acgt cgta gtat tatg atgg tgga ggat gata atat tatc atcc tcca ccaa caat aatc atca tcaa caag aagg aggg gggg ggga ggaa gaaa aaat aatt atta ttac taca acac caca acaa caac aacg acga cgaa gaag aaga agac gaca acat catt attt ttta ttac taca acat cata atac taca acat catg atgg tgga ggag gagt agtt gttt tttc ttca tcag cagc agcc gcct cctc ctcc tcca ccat cata atat tatc atcg tcgt cgtt gttt tttc ttct tctc ctct tctt ctta ttat tata atat tata ataa taaa aaac aact actt cttc ttct tcta ctac tact actt cttg ttga tgag gagc agca gcat catt attt tttt tttc ttct tctt cttc ttca tcaa caat aata ataa taaa aaag aagg aggt ggtg gtgg tggt ggtt gtta ttac taca acat cata ataa taag aagc agct gctt cttc ttcg tcga cgaa gaat aatc atct tctt cttt tttt tttt tttg ttgg tggt ggtc gtcg tcgc cgct gcta ctaa taat aatt attt tttc ttcc tcca ccaa caac aact acta ctat tatt attt ttta ttat tatt attt tttc ttcc tcca ccac cacg acga cgat gata ataa taat aatc atct tcta ctac taca acag cagt agtt gttt ttta ttaa taat aatc atct tcta ctat tata atag tagt agtt gttt tttc ttct tcta ctac tact actt ctta ttac tact actt cttt tttt tttt tttg ttgc tgcc gcca ccac cact actc ctct tctc ctcc tcca ccag cagg agga ggaa gaag aaga agac gaca acat catc atcc tcca ccaa caat aatt attc ttca tcag cagc agcg gcgg cgga ggac gaca acat catt attt tttt tttg ttgc tgca gcag cagc agca gcaa caaa aaag aagc agcg gcgc cgcc gcct cctt cttg ttgc tgcg gcga cgaa gaaa aaaa aaat aatg atgg tggc ggcc gccc ccct cctg ctgt tgtg gtga tgag gagc agca gcat catt attt tttc ttcg tcgt cgtg gtgt tgtt gttg ttga tgat gatg atga tgag gaga agat gatg atgg tggc ggcc gccc ccct cctc ctct tctg ctga tgaa gaaa aaag aagg agga ggag gaga agaa gaaa aaaa aaag aaga agag gagg agga ggat gatg atga tgag gaga agaa gaag aagg aggg ggga ggaa gaaa aaac aacg acga cgag gagg aggt ggtg gtga tgaa gaaa aaaa aaag aagt agtc gtct tctg ctga tgat gata ataa taaa aaag aaga agat gatt attg ttgg tggt ggta gtaa taat aatt atta ttaa taag aagc agcg gcgg cggg gggc ggcc gcca ccaa caaa aaaa aaac aaca acaa caag aaga agaa gaaa aaac aaca acag caga agaa gaag aagg agga ggag gagc agcc gccg ccga cgat gatg atgg tggt ggtc gtcg tcgg cggt ggtg gtgt tgtt gttt tttg ttgg tggt ggtg gtgg tggt ggtt gttg ttgg tggt ggtg gtgg tggc ggcc gccg ccgt cgtg gtgg tggg gggc ggcc gccc ccca ccac cact actt cttc ttct tcta ctat tatg atgt tgtt gtta ttaa taat aatt atta ttaa taac aacc acca ccaa caaa aaaa aaag aaga agac gacc acca ccag cagg aggc ggct gctt cttc ttcg tcgc cgca gcag cagc agcc gccc cccc ccca ccag caga agaa gaac aacg acga cgaa gaac aaca acag cagt agta gtag tagc agct gctt cttg ttgt tgtt gtta ttag tagt agtc gtcg tcga cgag gaga agaa gaat aatg atgc tgcc gccg ccgc cgct gctc ctca tcat cata atat tatc atcc tcca ccag cagc agcg gcgg cgga ggat gata atac taca acat catt attt tttt tttg ttgt tgta gtat tatc atcg tcgt cgtt gttt tttg ttga tgac gaca acag cagc agcc gccg ccgc cgcc gccg ccgc cgcc gccg ccgc cgcc gccg ccgc cgcc gccg ccgc cgcc gccg ccgc cgcc gccg ccgc cgcc gccg ccgc cgcc gccg ccgc cgcc gcca ccac caca acag caga agat gata ataa taaa aaag aaga agat gatg atgc tgcc gcca ccag caga agaa gaac aaca acaa caaa aaaa aaaa aaaa aaaa aaaa aaaa aaaa aaaa aaaa aaaa aaaa aaaa aaaa aaaa aaag aagc agca gcaa caaa aaac aaca acaa caaa aaaa aaaa aaaa aaat aatg atgt tgta gtat tata ataa taaa aaaa aaaa aaag aagc agcg gcgc cgca gcaa caaa aaaa aaag aagc agca gcag caga agag gagc agca gcaa caac aacg acgc cgca gcac caca acaa caaa aaaa aaaa aaac aact actt cttt tttt tttg ttgc tgcg gcgc cgcc gcct cctt ctta ttaa taat aatt attg ttgg tgga ggat gatg atga tgaa gaaa aaaa aaat aatt\n",
            "= nnnn nnnn nnnn nnnn nnnn nnnn nnnn nnnn nnnn nnnn nnnn nnnn nnnn nnnn nnnn nnnn nnnn nnnn nnnn nnnn nnnn nnnn nnnn nnnn nnnn nnnn nnnn nnnn nnnn nnnn nnnn nnnn nnnn nnnn nnnn nnnn nnnn nnnn nnnn nnnn nnnn nnnn nnnn nnnn nnnn nnnn nnnn nnnn nnnn nnnn nnnn nnnn nnnn nnnn nnnn nnnn nnnn nnnn nnnn nnnn nnnn nnnn nnnn nnnn nnnn nnnn nnnn nnnn nnnn nnnn nnnn nnnn nnnn nnnn nnnn nnnn nnnn nnnn nnnn nnnn nnnn nnnn nnnn nnnn nnnn nnnn nnnn nnnn nnnn nnnn nnnn nnnn nnnn nnnn nnnn nnnn nnnn nnnn nnnn nnnn nnnn nnnn nnnn nnnn nnnn nnnn nnnn nnnn nnnn nnnn nnnn nnnn nnnn nnnn nnnn nnnn nnnn nnnn nnnn nnnn nnnn nnnn nnnn nnnn nnnn nnnn nnnn nnnn nnnn nnnn nnnn nnnn nnnn nnnn nnnn nnnn nnnn nnnn nnnn nnnn nnnn nnnn nnnn nnnn nnnn nnnn nnnn nnnn nnnn nnnn nnnn nnnn nnnn nnnn nnnn nnnn nnnn nnnn nnnn nnnn nnnn nnnn nnnn nnnn nnnn nnnn nnnn nnnn nnnn nnnn nnnn nnnn nnnn nnnn nnnn nnnn nnnn nnnn nnnn nnnn nnnn nnnn nnnn nnnn nnnn nnnn nnnn nnnn nnnn nnnn nnnn nnnn nnnn nnnn nnnn nnnn nnnn nnnn nnnn nnnn nnnn nnnn nnnn nnnn nnnn nnnn nnnn nnnn nnnn nnnn nnnn nnnn nnnn nnnn nnnn nnnn nnnn nnnn nnnn nnnn nnnn nnnn nnnn nnnn nnnn nnnn nnnn nnnn nnnn nnnn nnnn nnnn nnnn nnnn nnnn nnnn nnnn nnnn nnnn nnnn nnnn nnnn nnnn nnnn nnnn nnnn nnnn nnnn nnnn nnnn nnnn nnnn nnnn nnnn nnnn nnnn nnnn nnnn nnnn nnnn nnnn nnnn nnnn nnnn nnnn nnnn nnnn nnnn nnnn nnnn nnnn nnnn nnnn nnnn nnnn nnnn nnnn nnnn nnnn nnnn nnnn nnnn nnnn nnnn nnnn nnnn nnnn nnnn nnnn nnnn nnnn nnnn nnnn nnnn nnnn nnnn nnnn nnnn nnnn nnnn nnnn nnnn nnnn nnnn nnnn nnnn nnnn nnnn nnnn nnnn nnnn nnnn nnnn nnnn nnnn nnnn nnnn nnnn nnnn nnnn nnnn nnnn nnnn nnnn nnnn nnnn nnnn nnnn nnnn nnnn nnnn nnnn nnnn nnnn nnnn nnnn nnnn nnnn nnnn nnnn nnnn nnnn nnnn nnnn nnnn nnnn nnnn nnnn nnnn nnnn nnnn nnnn nnnn nnnn nnnn nnnn nnnn nnnn nnnn nnnn nnnn nnnn nnnn nnnn nnnn nnnn nnnn nnnn nnnn nnnn nnnn nnnn nnnn nnnn nnnn nnnn nnnn nnnn nnnn nnnn nnnn nnnn nnnn nnnn nnnn nnnn nnnn nnnn nnnn nnnn nnnn nnnn nnnn nnnn nnnn nnnn nnnn nnnn nnnn nnnn nnnn nnnn nnnn nnnn nnnn nnnn nnnn nnnn nnnn nnnn nnnn nnnn nnnn nnnn nnnn nnnn nnnn nnnn nnnn nnnn nnnn nnnn nnnn nnnn nnnn nnnn nnnn nnnn nnnn nnnn nnnn nnnn nnnn nnnn nnnn nnnn nnnn nnnn nnnn nnnn nnnn nnnn nnnn nnnn nnnn nnnn nnnn nnnn nnnn nnnn nnnn nnnn nnnn nnnn nnnn nnnn nnnn nnnn nnnn nnnn nnnn nnnn nnnn nnnn nnnn nnnn nnnn nnnn nnnn nnnn nnnn nnnn nnnn nnnn nnnn nnnn nnnn nnnn nnnn nnnn nnnn nnnn nnnn nnnn nnnn nnnn nnnn nnnn nnnn nnnn nnnn nnnn nnnn nnnn nnnn nnnn nnnn nnnn nnnn nnnn nnnn nnnn nnnn nnnn nnnn nnnn nnnn nnnn nnnn nnnn nnnn nnnn nnnn nnnn nnnn nnnn nnnn nnnn nnnn nnnn nnnn nnnn nnnn nnnn nnnn nnnn nnnn nnnn nnnn nnnn nnnn nnnn nnnn nnnn nnnn nnnn nnnn nnnn nnnn nnnn nnnn nnnn nnnn nnnn nnnn nnnn nnnn nnnn nnnn nnnn nnnn nnnn nnnn nnnn nnnn nnnn nnnn nnnn nnnn nnnn nnnn nnnn nnnn nnnn nnnn nnnn nnnn nnnn nnnn nnnn nnnn nnnn nnnn nnnn nnnn nnnn nnnn nnnn nnnn nnnn nnnn nnnn nnnn nnnn nnnn nnnn nnnn nnnn nnnn nnnn nnnn nnnn nnnn nnnn nnnn nnnn nnnn nnnn nnnn nnnn nnnn nnnn nnnn nnnn nnnn nnnn nnnn nnnn nnnn nnnn nnnn nnnn nnnn nnnn nnnn nnnn nnnn nnnn nnnn nnnn nnnn nnnn nnnn nnnn nnnn nnnn nnnn nnnn nnnn nnnn nnnn nnnn nnnn nnnn nnnn nnnn nnnn nnnn nnnn nnnn nnnn nnnn nnnn nnnn nnnn nnnn nnnn nnnn nnnn nnnn nnnn nnnn nnnn nnnn nnnn nnnn nnnn nnnn nnnn nnnn nnnn nnnn nnnn nnnn nnnn nnnn nnnn nnnn nnnn nnnn nnnn nnnn nnnn nnnn nnnn nnnn nnnn nnnn nnnn nnnn nnnn nnnn nnnn nnnn nnnn nnnn nnnn nnnn nnnn nnnn nnnn nnnn nnnn nnnn nnnn nnnn nnnn nnnn nnnn nnnn nnnn nnnn nnnn nnnn nnnn nnnn nnnn nnnn nnnn nnnn nnnn nnnn nnnn nnnn nnnn nnnn nnnn nnnn nnnn nnnn nnnn nnnn nnnn nnnn nnnn nnnn nnnn nnnn nnnn nnnn nnnn nnnn nnnn nnnn nnnn nnnn nnnn nnnn nnnn nnnn nnnn nnnn nnnn nnnn nnnn nnnn nnnn nnnn nnnn nnnn nnnn nnnn nnnn nnnn nnnn nnnn nnnn nnnn nnnn nnnn nnnn nnnn nnnn nnnn nnnn nnnn nnnn nnnn nnnn nnnn nnnn nnnn nnnn nnnn nnnn nnnn nnnn nnnn nnnn nnnn nnnn nnnn nnnn nnnn nnnn nnnn nnnn nnnn nnnn nnnn nnnn nnnn nnnn nnnn nnnn nnnn nnnn nnnn nnnn nnnn nnnn nnnn nnnn nnnn nnnn nnnn nnnn nnnn nnnn nnnn nnnn nnnn nnnn nnnn nnnn nnnn nnnn nnnn nnnn nnnn nnnn nnnn nnnn nnnn nnnn nnnn nnnn nnnn nnnn nnnn nnnn nnnn nnnn nnnn nnnn nnnn nnnn nnnn nnnn nnnn nnnn nnnn nnnn nnnn nnnn nnnn nnnn nnnn nnnn nnnn nnnn nnnn nnnn nnnn nnnr nnrr nrrr rrrr rrrr rrrr rrrr rrrr rrrr rrrr rrrr rrrr rrrr rrrr rrrr rrrr rrrr rrrr rrrr rrrr rrrr rrrr rrrr rrrr rrrr rrrr rrrr rrrr rrrr rrrr rrrn rrnn rnnn nnnn nnnn nnnn nnnn nnnn nnnn nnnn nnnn nnnn nnnn nnnn nnnn nnnn nnnn nnnn nnnn nnnn nnnr nnrr nrrr rrrr rrrr rrrr rrrr rrrr rrrr rrrr rrrr rrrr rrrr rrrr rrrr rrrr rrrr rrrr rrrr rrrr rrrr rrrr rrrr rrrr rrrr rrrr rrrr rrrr rrrr rrrr rrrr rrrr rrrr rrrr rrrr rrrr rrrr rrrr rrrr rrrr rrrr rrrr rrrr rrrr rrrr rrrr rrrr rrrr rrrr rrrr rrrr rrrr rrrr rrrr rrrr rrrr rrrr rrrr rrrr rrrr rrrr rrrr rrrr rrrr rrrr rrrr rrrn rrnn rnnn nnnn nnnn nnnn nnnn nnnn nnnn nnnn nnnn nnnn nnnn nnnn nnnn nnnn nnnn nnnn nnnn nnnn nnnn nnnn nnnn nnnn nnnn nnnn nnnn\n",
            "< nnnn nnnn nnnn nnnn nnnn nnnn nnnn nnnn nnnn nnnn nnnn nnnn nnnn nnnn nnnn nnnn nnnn nnnn nnnn nnnn nnnn nnnn nnnn nnnn nnnn nnnn nnnn nnnn nnnn nnnn nnnn nnnn nnnn nnnn nnnn nnnn nnnn nnnn nnnn nnnn nnnn nnnn nnnn nnnn nnnn nnnn nnnn nnnn nnnn nnnn nnnn nnnn nnnn nnnn nnnn nnnn nnnn nnnn nnnn nnnn nnnn nnnn nnnn nnnn nnnn nnnn nnnn nnnn nnnn nnnn nnnn nnnn nnnn nnnn nnnn nnnn nnnn nnnn nnnn nnnn nnnn nnnn nnnn nnnn nnnn nnnn nnnn nnnn nnnn nnnn nnnn nnnn nnnn nnnn nnnn nnnn nnnn nnnn nnnn nnnn nnnn nnnn nnnn nnnn nnnn nnnn nnnn nnnn nnnn nnnn nnnn nnnn nnnn nnnn nnnn nnnn nnnn nnnn nnnn nnnn nnnn nnnn nnnn nnnn nnnn nnnn nnnn nnnn nnnn nnnn nnnn nnnn nnnn nnnn nnnn nnnn nnnn nnnn nnnn nnnn nnnn nnnn nnnn nnnn nnnn nnnn nnnn nnnn nnnn nnnn nnnn nnnn nnnn nnnn nnnn nnnn nnnn nnnn nnnn nnnn nnnn nnnn nnnn nnnn nnnn nnnn nnnn nnnn nnnn nnnn nnnn nnnn nnnn nnnn nnnn nnnn nnnn nnnn nnnn nnnn nnnn nnnn nnnn nnnn nnnn nnnn nnnn nnnn nnnn nnnn nnnn nnnn nnnn nnnn nnnn nnnn nnnn nnnn nnnn nnnn nnnn nnnn nnnn nnnn nnnn nnnn nnnn nnnn nnnn nnnn nnnn nnnn nnnn nnnn nnnn nnnn nnnn nnnn nnnn nnnn nnnn nnnn nnnn nnnn nnnn nnnn nnnn nnnn nnnn nnnn nnnn nnnn nnnn nnnn nnnn nnnn nnnn nnnn nnnn nnnn nnnn nnnn nnnn nnnn nnnn nnnn nnnn nnnn nnnn nnnn nnnn nnnn nnnn nnnn nnnn nnnn nnnn nnnn nnnn nnnn nnnn nnnn nnnn nnnn nnnn nnnn nnnn nnnn nnnn nnnn nnnn nnnn nnnn nnnn nnnn nnnn nnnn nnnn nnnn nnnn nnnn nnnn nnnn nnnn nnnn nnnn nnnn nnnn nnnn nnnn nnnn nnnn nnnn nnnn nnnn nnnn nnnn nnnn nnnn nnnn nnnn nnnn nnnn nnnn nnnn nnnn nnnn nnnn nnnn nnnn nnnn nnnn nnnn nnnn nnnn nnnn nnnn nnnn nnnn nnnn nnnn nnnn nnnn nnnn nnnn nnnn nnnn nnnn nnnn nnnn nnnn nnnn nnnn nnnn nnnn nnnn nnnn nnnn nnnn nnnn nnnn nnnn nnnn nnnn nnnn nnnn nnnn nnnn nnnn nnnn nnnn nnnn nnnn nnnn nnnn nnnn nnnn nnnn nnnn nnnn nnnn nnnn nnnn nnnn nnnn nnnn nnnn nnnn nnnn nnnn nnnn nnnn nnnn nnnn nnnn nnnn nnnn nnnn nnnn nnnn nnnn nnnn nnnn nnnn nnnn nnnn nnnn nnnn nnnn nnnn nnnn nnnn nnnn nnnn nnnn nnnn nnnn nnnn nnnn nnnn nnnn nnnn nnnn nnnn nnnn nnnn nnnn nnnn nnnn nnnn nnnn nnnn nnnn nnnn nnnn nnnn nnnn nnnn nnnn nnnn nnnn nnnn nnnn nnnn nnnn nnnn nnnn nnnn nnnn nnnn nnnn nnnn nnnn nnnn nnnn nnnn nnnn nnnn nnnn nnnn nnnn nnnn nnnn nnnn nnnn nnnn nnnn nnnn nnnn nnnn nnnn nnnn nnnn nnnn nnnn nnnn nnnn nnnn nnnn nnnn nnnn nnnn nnnn nnnn nnnn nnnn nnnn nnnn nnnn nnnn nnnn nnnn nnnn nnnn nnnn nnnn nnnn nnnn nnnn nnnn nnnn nnnn nnnn nnnn nnnn nnnn nnnn nnnn nnnn nnnn nnnn nnnn nnnn nnnn nnnn nnnn nnnn nnnn nnnn nnnn nnnn nnnn nnnn nnnn nnnn nnnn nnnn nnnn nnnn nnnn nnnn nnnn nnnn nnnn nnnn nnnn nnnn nnnn nnnn nnnn nnnn nnnn nnnn nnnn nnnn nnnn nnnn nnnn nnnn nnnn nnnn nnnn nnnn nnnn nnnn nnnn nnnn nnnn nnnn nnnn nnnn nnnn nnnn nnnn nnnn nnnn nnnn nnnn nnnn nnnn nnnn nnnn nnnn nnnn nnnn nnnn nnnn nnnn nnnn nnnn nnnn nnnn nnnn nnnn nnnn nnnn nnnn nnnn nnnn nnnn nnnn nnnn nnnn nnnn nnnn nnnn nnnn nnnn nnnn nnnn nnnn nnnn nnnn nnnn nnnn nnnn nnnn nnnn nnnn nnnn nnnn nnnn nnnn nnnn nnnn nnnn nnnn nnnn nnnn nnnn nnnn nnnn nnnn nnnn nnnn nnnn nnnn nnnn nnnn nnnn nnnn nnnn nnnn nnnn nnnn nnnn nnnn nnnn nnnn nnnn nnnn nnnn nnnn nnnn nnnn nnnn nnnn nnnn nnnn nnnn nnnn nnnn nnnn nnnn nnnn nnnn nnnn nnnn nnnn nnnn nnnn nnnn nnnn nnnn nnnn nnnn nnnn nnnn nnnn nnnn nnnn nnnn nnnn nnnn nnnn nnnn nnnn nnnn nnnn nnnn nnnn nnnn nnnn nnnn nnnn nnnn nnnn nnnn nnnn nnnn nnnn nnnn nnnn nnnn nnnn nnnn nnnn nnnn nnnn nnnn nnnn nnnn nnnn nnnn nnnn nnnn nnnn nnnn nnnn nnnn nnnn nnnn nnnn nnnn nnnn nnnn nnnn nnnn nnnn nnnn nnnn nnnn nnnn nnnn nnnn nnnn nnnn nnnn nnnn nnnn nnnn nnnn nnnn nnnn nnnn nnnn nnnn nnnn nnnn nnnn nnnn nnnn nnnn nnnn nnnn nnnn nnnn nnnn nnnn nnnn nnnn nnnn nnnn nnnn nnnn nnnn nnnn nnnn nnnn nnnn nnnn nnnn nnnn nnnn nnnn nnnn nnnn nnnn nnnn nnnn nnnn nnnn nnnn nnnn nnnn nnnn nnnn nnnn nnnn nnnn nnnn nnnn nnnn nnnn nnnn nnnn nnnn nnnn nnnn nnnn nnnn nnnn nnnn nnnn nnnn nnnn nnnn nnnn nnnn nnnn nnnn nnnn nnnn nnnn nnnn nnnn nnnn nnnn nnnn nnnn nnnn nnnn nnnn nnnn nnnn nnnn nnnn nnnn nnnn nnnn nnnn nnnn nnnn nnnn nnnn nnnn nnnn nnnn nnnn nnnn nnnn nnnn nnnn nnnn nnnn nnnn nnnn nnnn nnnn nnnn nnnn nnnn nnnn nnnn nnnn nnnn nnnn nnnn nnnn nnnn nnnn nnnn nnnn nnnn nnnn nnnn nnnn nnnn nnnn nnnn nnnn nnnn nnnn nnnn nnnn nnnn nnnn nnnn nnnn nnnn nnnn nnnn nnnn nnnn nnnn nnnn nnnn nnnn nnnn nnnn nnnn nnnn nnnn nnnn nnnn nnnn nnnn nnnn nnnn nnnn nnnn nnnn nnnn nnnn nnnn nnnn nnnn nnnn nnnn nnnn nnnn nnnn nnnn nnnn nnnn nnnn nnnn nnnn nnnn nnnn nnnn nnnn nnnn nnnn nnnn nnnn nnnn nnnn nnnn nnnn nnnn nnnn nnnn nnnn nnnn nnnn nnnn nnnn nnnn nnnn nnnn nnnn nnnn nnnn nnnn nnnn nnnn nnnn nnnn nnnn nnnn nnnn nnnn nnnn nnnn nnnn nnnn nnnn nnnn nnnn nnnn nnnn nnnn nnnn nnnn nnnn nnnn nnnn nnnn nnnn nnnn nnnn nnnn nnnn nnnn nnnn nnnn nnnn nnnn nnnn nnnn nnnn nnnn nnnn nnnn nnnn nnnn nnnn nnnn nnnn nnnn nnnn nnnn nnnn nnnn nnnn nnnn nnnn nnnn nnnn nnnn nnnn nnnn nnnn nnnn nnnn nnnn nnnn nnnn nnnn nnnn nnnn nnnn nnnn nnnn nnnn nnnn nnnn nnnn nnnn nnnn nnnn nnnn nnnn nnnn nnnn nnnn nnnn nnnn nnnn\n",
            "\n",
            "> ccac caca acac cacg acgg cggg ggga ggat gatc atcc tccg ccgg cgga ggat gata atag tagg agga ggag gaga agaa gaag aaga agac gacc acct cctc ctcc tcct cctt cttc ttca tcag cagc agct gctg ctgc tgcg gcgt cgtc gtct tctt cttg ttga tgat gatc atca tcac cacc acca ccac cacc acct cctt cttg ttgt tgtc gtcc tcct cctt cttc ttct tctc ctcg tcga cgaa gaag aagt agtt gttg ttgc tgcg gcgg cggt ggtc gtca tcaa caag aagg agga ggaa gaag aaga agat gatg atga tgaa gaac aact actc ctcg tcgg cggc ggcc gcca ccat catc atcc tcca ccac cacc acca ccag caga agac gacc accc ccca ccat catc atcc tccc ccca ccag cagg agga ggac gacc accg ccgg cgga ggaa gaac aaca acat cata atag tagc agcg gcgc cgca gcag cagc agca gcat catc atct tctt cttc ttct tctt cttg ttgg tggc ggca gcat cata atac tacg acgc cgcc gcct cctt cttg ttgg tggt ggtg gtgc tgcc gcct cctc ctcc tccc ccca ccag caga agat gatt attg ttgc tgcc gccc ccca ccag cagc agct gctt cttg ttgt tgtc gtcg tcgg cggt ggtg gtga tgat gatc atca tcat catc atcc tcca ccag cagg aggc ggcg gcgg cggt ggtc gtca tcag cagc agcc gcca ccag cagt agtc gtcg tcga cgat gatc atct tctc ctcg tcgt cgta gtac tacg acgt cgtg gtgt tgtg gtgg tggt ggtt gttc ttca tcat catc atca tcag cagg agga ggag gagc agca gcag cagt agtc gtcc tcca ccat catg atgc tgct gctc ctcc tcct cctt cttg ttgc tgcc gccg ccga cgaa gaag aaga agaa gaac aact actt cttc ttct tctg ctgc tgct gctc ctcg tcgt cgtc gtcc tcct cctg ctgg tggg gggg ggga ggat gatc atcg tcga cgat gatg atgt tgta gtac taca acac cacc accc ccct cctc ctca tcag cagc agct gctt cttg ttgc tgct gctg ctgc tgcc gccc cccg ccgc cgca gcat cata atac tacc acca ccat catt attc ttcc tccg ccgc cgcc gcca ccac caca acac caca acag caga agac gaca acaa caag aagg agga ggac gact acta ctaa taaa aaag aagt agtg gtgt tgtg gtga tgag gagg agga ggat gata atag tagt agtt gttt tttt tttt ttta ttaa taaa aaat aatt atta ttat tatc atca tcaa caaa aaaa aaaa aaag aagt agta gtac tacc acca ccac cact actt cttt tttt ttta ttac tacg acgt cgtt gtta ttat tatt attt tttc ttca tcat catt attt ttta ttaa taat aatc atca tcat catc atca tcaa caaa aaat aatg atgt tgta gtaa taaa aaaa aaaa aaac aact acta ctaa taag aagt agtg gtga tgat gatt attt ttta ttat tata atac taca acaa caaa aaaa aaag aaga agaa gaag aaga agac gacc acct cctt cttg ttgc tgca gcat cata atat tata atac tacc acct ccta ctaa taat aatc atct tcta ctaa taat aatc atca tcag cagg agga ggaa gaaa aaaa aaac aaca acag cagg agga ggaa gaag aagt agtg gtgt tgtg gtgc tgct gctg ctga tgaa gaaa aaaa aaac aact acta ctac taca acac cact acta ctat tata atac tact actt ctta ttaa taat aatg atgt tgtg gtga tgaa gaat aatg atga tgaa gaaa aaat aatg atgt tgtg gtga tgaa gaaa aaac aacg acgt cgtt gttt ttta ttat tata atac tact actc ctca tcat cata ataa taat aatg atga tgat gata atat tatg atga tgat gata ataa taat aatc atct tcta ctat tata atat tatt atta ttaa taat aata atat tatg atga tgat gatg atgg tggt ggtt gtta ttac tact actt ctta ttac tact actg ctgc tgca gcaa caat aata atag taga agaa gaag aagg agga ggag gagt agta gtag tagt agtg gtgc tgca gcag cagg aggt ggta gtag tagt agta gtag tagg aggc ggcc gcca ccag caga agac gact actg ctgc tgcg gcgg cggg ggga ggat gata atag tagc agct gctt cttc ttct tctt ctta ttat tatc atcg tcga cgaa gaag aagg aggg gggc ggcc gcct cctc ctca tcac cacg acga cgag gagg agga ggag gaga agaa gaat aatc atca tcag cagc agca gcag cagg agga ggag gagc agct gctg ctgg tggc ggcc gcca ccaa caat aatg atgt tgtt gttg ttga tgac gacg acga cgaa gaag aaga agaa gaat aatc atcc tccg ccgc cgca gcat catg atgt tgtg gtga tgaa gaag aaga agaa gaag aagg aggt ggtc gtca tcac cacg acgg cggc ggcg gcga cgat gatc atca tcag cagc agca gcag cagt agtc gtcg tcgc cgcc gccc cccc ccca ccaa caaa aaac aacc accc cccc cccg ccgg cgga ggag gaga agat gatg atgc tgcg gcga cgac gaca acat catc atcc tcct ccta ctag tagg aggc ggct gcta ctaa taag aaga agaa gaat aata atag taga agac gacg acgc cgca gcaa caac aact actc ctca tcaa caat aata ataa taaa aaat aatt attc ttca tcag cagt agtc gtcc tccg ccgt cgtt gttg ttgg tgga ggag gaga agaa gaaa aaac aacg acgt cgtt gttt ttta ttac tacg acgt cgta gtaa taat aatc atcg tcga cgaa gaaa aaag aagt agtc gtca tcat catg atgt tgtc gtct tctg ctgc tgca gcaa caat aatg atgc tgca gcag cagt agtt gttc ttca tcat cata ataa taaa aaat aata atat tatg atgt tgtc gtcc tcca ccag cagc agcg gcgc cgcg gcgc cgcg gcga cgat gata atat tatc atcg tcga cgac gaca acat catt attt tttt ttta ttat tatt atta ttat tata atat tatg atgg tggc ggcc gcca ccag cagt agta gtac tact actc ctca tcaa caaa aaac aact actt cttt tttg ttgc tgct gctc ctcc tccc ccca ccaa caat aatg atgt tgtg gtgt tgtc gtca tcat catg atga tgaa gaaa aaaa aaat aatt attg ttga tgaa gaaa aaat aatg atgc tgct gctt ctta ttaa taaa aaat aatt atta ttat tata atag tagt agta gtac tacc accg ccgt cgta gtaa taaa aaac aacg acgc cgca gcac caca acac caca acac caca acac cacc accc ccca ccac cacg acgc cgcg gcgc cgca gcaa caac aaca acac caca acac cacg acgg cggt ggta gtat tatt attg ttgg tggt ggta gtac taca acag cagt agta gtag taga agac gaca acac cact acta ctag tagt agta gtaa taat aatt attt tttg ttga tgaa gaat aatt attc ttct tctt ctta ttat tatc atcg tcgt cgtt\n",
            "= nnnn nnnn nnnn nnnn nnnn nnnn nnnn nnnn nnnn nnnn nnnn nnnn nnnn nnnn nnnn nnnn nnnn nnnn nnnn nnnn nnnn nnnn nnnn nnnn nnnn nnnn nnnn nnnn nnnn nnnn nnnn nnnn nnnn nnnn nnnn nnnn nnnn nnnn nnnn nnnn nnnn nnnn nnnn nnnn nnnn nnnn nnnn nnnn nnnn nnnn nnnn nnnn nnnn nnnn nnnn nnnn nnnn nnnn nnnn nnnn nnnn nnnn nnnn nnnn nnnn nnnn nnnn nnnn nnnn nnnn nnnn nnnn nnnn nnnn nnnn nnnn nnnn nnnn nnnn nnnn nnnn nnnn nnnn nnnn nnnn nnnn nnnn nnnn nnnn nnnn nnnn nnnn nnnn nnnn nnnn nnnn nnnn nnnn nnnn nnnn nnnn nnnn nnnn nnnn nnnn nnnn nnnn nnnn nnnn nnnn nnnn nnnn nnnn nnnn nnnn nnnn nnnn nnnn nnnn nnnn nnnn nnnn nnnn nnnn nnnn nnnn nnnn nnnn nnnn nnnn nnnn nnnn nnnn nnnn nnnn nnnn nnnn nnnn nnnn nnnn nnnn nnnn nnnn nnnn nnnn nnnn nnnn nnnn nnnn nnnn nnnn nnnn nnnn nnnn nnnn nnnn nnnn nnnn nnnn nnnn nnnn nnnn nnnn nnnn nnnn nnnn nnnn nnnn nnnn nnnn nnnn nnnn nnnn nnnn nnnn nnnn nnnn nnnn nnnn nnnn nnnn nnnn nnnn nnnn nnnn nnnn nnnn nnnn nnnn nnnn nnnn nnnn nnnn nnnn nnnn nnnn nnnn nnnn nnnn nnnn nnnn nnnn nnnn nnnn nnnn nnnn nnnn nnnn nnnn nnnn nnnn nnnn nnnn nnnn nnnn nnnn nnnn nnnn nnnn nnnn nnnn nnnn nnnn nnnn nnnn nnnn nnnn nnnn nnnn nnnn nnnn nnnn nnnn nnnn nnnn nnnn nnnn nnnn nnnn nnnn nnnn nnnn nnnn nnnn nnnn nnnn nnnn nnnn nnnn nnnn nnnn nnnn nnnn nnnn nnnn nnnn nnnn nnnn nnnn nnnn nnnn nnnn nnnn nnnn nnnn nnnn nnnn nnnn nnnn nnnn nnnn nnnn nnnn nnnn nnnn nnnn nnnn nnnn nnnn nnnn nnnn nnnn nnnn nnnn nnnn nnnn nnnn nnnn nnnn nnnn nnnn nnnn nnnn nnnn nnnn nnnn nnnn nnnn nnnn nnnn nnnn nnnn nnnn nnnn nnnn nnnn nnnn nnnn nnnn nnnn nnnn nnnn nnnn nnnn nnnn nnnn nnnn nnnn nnnn nnnn nnnn nnnn nnnn nnnn nnnn nnnn nnnn nnnn nnnn nnnn nnnn nnnn nnnn nnnn nnnn nnnn nnnn nnnn nnnn nnnn nnnn nnnn nnnn nnnn nnnn nnnn nnnn nnnn nnnn nnnn nnnn nnnn nnnn nnnn nnnn nnnn nnnn nnnn nnnn nnnn nnnn nnnn nnnn nnnn nnnn nnnn nnnn nnnn nnnn nnnn nnnn nnnn nnnn nnnn nnnn nnnn nnnn nnnn nnnn nnnn nnnn nnnn nnnn nnnn nnnn nnnn nnnn nnnn nnnn nnnn nnnn nnnn nnnn nnnn nnnn nnnn nnnn nnnn nnnn nnnn nnnn nnnn nnnn nnnn nnnn nnnn nnnn nnnn nnnn nnnn nnnn nnnn nnnn nnnn nnnn nnnn nnnn nnnn nnnn nnnn nnnn nnnn nnnn nnnn nnnn nnnn nnnn nnnn nnnn nnnn nnnn nnnn nnnn nnnn nnnn nnnn nnnn nnnn nnnn nnnn nnnn nnnn nnnn nnnn nnnn nnnn nnnn nnnn nnnn nnnn nnnn nnnn nnnn nnnn nnnn nnnn nnnn nnnn nnnn nnnn nnnn nnnn nnnn nnnn nnnn nnnn nnnn nnnn nnnn nnnn nnnn nnnn nnnn nnnn nnnn nnnn nnnn nnnn nnnn nnnn nnnn nnnn nnnn nnnn nnnn nnnn nnnn nnnn nnnn nnnn nnnn nnnn nnnn nnnn nnnn nnnn nnnn nnnn nnnn nnnn nnnn nnnn nnnn nnnn nnnn nnnn nnnn nnnn nnnn nnnn nnnn nnnn nnnn nnnn nnnn nnnn nnnn nnnn nnnn nnnn nnnn nnnn nnnn nnnn nnnn nnnn nnnn nnnn nnnn nnnn nnnn nnnn nnnn nnnn nnnn nnnn nnnn nnnn nnnn nnnn nnnn nnnn nnnn nnnn nnnn nnnn nnnn nnnn nnnn nnnn nnnn nnnn nnnn nnnn nnnn nnnn nnnn nnnn nnnn nnnn nnnn nnnn nnnn nnnn nnnn nnnn nnnn nnnn nnnn nnnn nnnn nnnn nnnn nnnn nnnn nnnn nnnn nnnn nnnn nnnn nnnn nnnn nnnn nnnn nnnn nnnn nnnn nnnn nnnn nnnn nnnn nnnn nnnn nnnn nnnn nnnn nnnn nnnn nnnn nnnn nnnn nnnn nnnn nnnn nnnn nnnn nnnn nnnn nnnn nnnn nnnn nnnn nnnn nnnn nnnn nnnn nnnn nnnn nnnn nnnn nnnn nnnn nnnn nnnn nnnn nnnn nnnn nnnn nnnn nnnn nnnn nnnn nnnn nnnn nnnn nnnn nnnn nnnn nnnn nnnn nnnn nnnn nnnn nnnn nnnn nnnn nnnn nnnn nnnn nnnn nnnn nnnn nnnn nnnn nnnn nnnn nnnn nnnn nnnn nnnn nnnn nnnn nnnn nnnn nnnn nnnn nnnn nnnn nnnn nnnn nnnn nnnn nnnn nnnn nnnn nnnn nnnn nnnn nnnn nnnn nnnn nnnn nnnn nnnn nnnn nnnn nnnn nnnn nnnn nnnn nnnn nnnn nnnn nnnn nnnn nnnn nnnn nnnn nnnn nnnn nnnn nnnn nnnn nnnn nnnn nnnn nnnn nnnn nnnn nnnn nnnn nnnn nnnn nnnn nnnn nnnn nnnn nnnn nnnn nnnn nnnn nnnn nnnn nnnn nnnn nnnn nnnn nnnn nnnn nnnn nnnn nnnn nnnn nnnn nnnn nnnn nnnn nnnn nnnn nnnn nnnn nnnn nnnn nnnn nnnn nnnn nnnn nnnn nnnn nnnn nnnn nnnn nnnn nnnn nnnn nnnn nnnn nnnn nnnn nnnn nnnn nnnn nnnn nnnn nnnn nnnn nnnn nnnn nnnn nnnn nnnn nnnn nnnn nnnn nnnn nnnn nnnn nnnn nnnn nnnn nnnn nnnn nnnn nnnn nnnn nnnn nnnn nnnn nnnn nnnn nnnn nnnn nnnn nnnn nnnn nnnn nnnn nnnn nnnn nnnn nnnn nnnn nnnn nnnn nnnn nnnn nnnn nnnn nnnn nnnn nnnn nnnn nnnn nnnn nnnn nnnn nnnn nnnn nnnn nnnn nnnn nnnn nnnn nnnn nnnn nnnn nnnn nnnn nnnn nnnn nnnn nnnn nnnn nnnn nnnn nnnn nnnn nnnn nnnn nnnn nnnn nnnn nnnn nnnn nnnn nnnn nnnn nnnn nnnn nnnn nnnn nnnn nnnn nnnn nnnn nnnn nnnn nnnn nnnn nnnn nnnn nnnn nnnn nnnn nnnn nnnn nnnn nnnn nnnn nnnn nnnn nnnn nnnn nnnn nnnn nnnn nnnn nnnn nnnn nnnn nnnn nnnn nnnn nnnn nnnn nnnn nnnn nnnn nnnn nnnn nnnn nnnn nnnn nnnn nnnn nnnn nnnn nnnn nnnn nnnn nnnn nnnn nnnn nnnn nnnn nnnn nnnn nnnn nnnn nnnn nnnn nnnn nnnn nnnn nnnn nnnn nnnn nnnn nnnn nnnn nnnn nnnn nnnn nnnn nnnn nnnn nnnn nnnn nnnn nnnn nnnn nnnn nnnn nnnn nnnn nnnn nnnn nnnn nnnn nnnn nnnn nnnn nnnn nnnn nnnn nnnn nnnn nnnn nnnn nnnn nnnn nnnn nnnn nnnn nnnn nnnn nnnn nnnn nnnn nnnn nnnn nnnn nnnn nnnn nnnn nnnn nnnn nnnn nnnn nnnn nnnn nnnn nnnn nnnn nnnn nnnn nnnn nnnn nnnn nnnn nnnn nnnn nnnn nnnn nnnn nnnn nnnn nnnn nnnn nnnn nnnn nnnn nnnn nnnn nnnn nnnn nnnn\n",
            "< nnnn nnnn nnnn nnnn nnnn nnnn nnnn nnnn nnnn nnnn nnnn nnnn nnnn nnnn nnnn nnnn nnnn nnnn nnnn nnnn nnnn nnnn nnnn nnnn nnnn nnnn nnnn nnnn nnnn nnnn nnnn nnnn nnnn nnnn nnnn nnnn nnnn nnnn nnnn nnnn nnnn nnnn nnnn nnnn nnnn nnnn nnnn nnnn nnnn nnnn nnnn nnnn nnnn nnnn nnnn nnnn nnnn nnnn nnnn nnnn nnnn nnnn nnnn nnnn nnnn nnnn nnnn nnnn nnnn nnnn nnnn nnnn nnnn nnnn nnnn nnnn nnnn nnnn nnnn nnnn nnnn nnnn nnnn nnnn nnnn nnnn nnnn nnnn nnnn nnnn nnnn nnnn nnnn nnnn nnnn nnnn nnnn nnnn nnnn nnnn nnnn nnnn nnnn nnnn nnnn nnnn nnnn nnnn nnnn nnnn nnnn nnnn nnnn nnnn nnnn nnnn nnnn nnnn nnnn nnnn nnnn nnnn nnnn nnnn nnnn nnnn nnnn nnnn nnnn nnnn nnnn nnnn nnnn nnnn nnnn nnnn nnnn nnnn nnnn nnnn nnnn nnnn nnnn nnnn nnnn nnnn nnnn nnnn nnnn nnnn nnnn nnnn nnnn nnnn nnnn nnnn nnnn nnnn nnnn nnnn nnnn nnnn nnnn nnnn nnnn nnnn nnnn nnnn nnnn nnnn nnnn nnnn nnnn nnnn nnnn nnnn nnnn nnnn nnnn nnnn nnnn nnnn nnnn nnnn nnnn nnnn nnnn nnnn nnnn nnnn nnnn nnnn nnnn nnnn nnnn nnnn nnnn nnnn nnnn nnnn nnnn nnnn nnnn nnnn nnnn nnnn nnnn nnnn nnnn nnnn nnnn nnnn nnnn nnnn nnnn nnnn nnnn nnnn nnnn nnnn nnnn nnnn nnnn nnnn nnnn nnnn nnnn nnnn nnnn nnnn nnnn nnnn nnnn nnnn nnnn nnnn nnnn nnnn nnnn nnnn nnnn nnnn nnnn nnnn nnnn nnnn nnnn nnnn nnnn nnnn nnnn nnnn nnnn nnnn nnnn nnnn nnnn nnnn nnnn nnnn nnnn nnnn nnnn nnnn nnnn nnnn nnnn nnnn nnnn nnnn nnnn nnnn nnnn nnnn nnnn nnnn nnnn nnnn nnnn nnnn nnnn nnnn nnnn nnnn nnnn nnnn nnnn nnnn nnnn nnnn nnnn nnnn nnnn nnnn nnnn nnnn nnnn nnnn nnnn nnnn nnnn nnnn nnnn nnnn nnnn nnnn nnnn nnnn nnnn nnnn nnnn nnnn nnnn nnnn nnnn nnnn nnnn nnnn nnnn nnnn nnnn nnnn nnnn nnnn nnnn nnnn nnnn nnnn nnnn nnnn nnnn nnnn nnnn nnnn nnnn nnnn nnnn nnnn nnnn nnnn nnnn nnnn nnnn nnnn nnnn nnnn nnnn nnnn nnnn nnnn nnnn nnnn nnnn nnnn nnnn nnnn nnnn nnnn nnnn nnnn nnnn nnnn nnnn nnnn nnnn nnnn nnnn nnnn nnnn nnnn nnnn nnnn nnnn nnnn nnnn nnnn nnnn nnnn nnnn nnnn nnnn nnnn nnnn nnnn nnnn nnnn nnnn nnnn nnnn nnnn nnnn nnnn nnnn nnnn nnnn nnnn nnnn nnnn nnnn nnnn nnnn nnnn nnnn nnnn nnnn nnnn nnnn nnnn nnnn nnnn nnnn nnnn nnnn nnnn nnnn nnnn nnnn nnnn nnnn nnnn nnnn nnnn nnnn nnnn nnnn nnnn nnnn nnnn nnnn nnnn nnnn nnnn nnnn nnnn nnnn nnnn nnnn nnnn nnnn nnnn nnnn nnnn nnnn nnnn nnnn nnnn nnnn nnnn nnnn nnnn nnnn nnnn nnnn nnnn nnnn nnnn nnnn nnnn nnnn nnnn nnnn nnnn nnnn nnnn nnnn nnnn nnnn nnnn nnnn nnnn nnnn nnnn nnnn nnnn nnnn nnnn nnnn nnnn nnnn nnnn nnnn nnnn nnnn nnnn nnnn nnnn nnnn nnnn nnnn nnnn nnnn nnnn nnnn nnnn nnnn nnnn nnnn nnnn nnnn nnnn nnnn nnnn nnnn nnnn nnnn nnnn nnnn nnnn nnnn nnnn nnnn nnnn nnnn nnnn nnnn nnnn nnnn nnnn nnnn nnnn nnnn nnnn nnnn nnnn nnnn nnnn nnnn nnnn nnnn nnnn nnnn nnnn nnnn nnnn nnnn nnnn nnnn nnnn nnnn nnnn nnnn nnnn nnnn nnnn nnnn nnnn nnnn nnnn nnnn nnnn nnnn nnnn nnnn nnnn nnnn nnnn nnnn nnnn nnnn nnnn nnnn nnnn nnnn nnnn nnnn nnnn nnnn nnnn nnnn nnnn nnnn nnnn nnnn nnnn nnnn nnnn nnnn nnnn nnnn nnnn nnnn nnnn nnnn nnnn nnnn nnnn nnnn nnnn nnnn nnnn nnnn nnnn nnnn nnnn nnnn nnnn nnnn nnnn nnnn nnnn nnnn nnnn nnnn nnnn nnnn nnnn nnnn nnnn nnnn nnnn nnnn nnnn nnnn nnnn nnnn nnnn nnnn nnnn nnnn nnnn nnnn nnnn nnnn nnnn nnnn nnnn nnnn nnnn nnnn nnnn nnnn nnnn nnnn nnnn nnnn nnnn nnnn nnnn nnnn nnnn nnnn nnnn nnnn nnnn nnnn nnnn nnnn nnnn nnnn nnnn nnnn nnnn nnnn nnnn nnnn nnnn nnnn nnnn nnnn nnnn nnnn nnnn nnnn nnnn nnnn nnnn nnnn nnnn nnnn nnnn nnnn nnnn nnnn nnnn nnnn nnnn nnnn nnnn nnnn nnnn nnnn nnnn nnnn nnnn nnnn nnnn nnnn nnnn nnnn nnnn nnnn nnnn nnnn nnnn nnnn nnnn nnnn nnnn nnnn nnnn nnnn nnnn nnnn nnnn nnnn nnnn nnnn nnnn nnnn nnnn nnnn nnnn nnnn nnnn nnnn nnnn nnnn nnnn nnnn nnnn nnnn nnnn nnnn nnnn nnnn nnnn nnnn nnnn nnnn nnnn nnnn nnnn nnnn nnnn nnnn nnnn nnnn nnnn nnnn nnnn nnnn nnnn nnnn nnnn nnnn nnnn nnnn nnnn nnnn nnnn nnnn nnnn nnnn nnnn nnnn nnnn nnnn nnnn nnnn nnnn nnnn nnnn nnnn nnnn nnnn nnnn nnnn nnnn nnnn nnnn nnnn nnnn nnnn nnnn nnnn nnnn nnnn nnnn nnnn nnnn nnnn nnnn nnnn nnnn nnnn nnnn nnnn nnnn nnnn nnnn nnnn nnnn nnnn nnnn nnnn nnnn nnnn nnnn nnnn nnnn nnnn nnnn nnnn nnnn nnnn nnnn nnnn nnnn nnnn nnnn nnnn nnnn nnnn nnnn nnnn nnnn nnnn nnnn nnnn nnnn nnnn nnnn nnnn nnnn nnnn nnnn nnnn nnnn nnnn nnnn nnnn nnnn nnnn nnnn nnnn nnnn nnnn nnnn nnnn nnnn nnnn nnnn nnnn nnnn nnnn nnnn nnnn nnnn nnnn nnnn nnnn nnnn nnnn nnnn nnnn nnnn nnnn nnnn nnnn nnnn nnnn nnnn nnnn nnnn nnnn nnnn nnnn nnnn nnnn nnnn nnnn nnnn nnnn nnnn nnnn nnnn nnnn nnnn nnnn nnnn nnnn nnnn nnnn nnnn nnnn nnnn nnnn nnnn nnnn nnnn nnnn nnnn nnnn nnnn nnnn nnnn nnnn nnnn nnnn nnnn nnnn nnnn nnnn nnnn nnnn nnnn nnnn nnnn nnnn nnnn nnnn nnnn nnnn nnnn nnnn nnnn nnnn nnnn nnnn nnnn nnnn nnnn nnnn nnnn nnnn nnnn nnnn nnnn nnnn nnnn nnnn nnnn nnnn nnnn nnnn nnnn nnnn nnnn nnnn nnnn nnnn nnnn nnnn nnnn nnnn nnnn nnnn nnnn nnnn nnnn nnnn nnnn nnnn nnnn nnnn nnnn nnnn nnnn nnnn nnnn nnnn nnnn nnnn nnnn nnnn nnnn nnnn nnnn nnnn nnnn nnnn nnnn nnnn nnnn nnnn nnnn nnnn nnnn nnnn nnnn nnnn nnnn nnnn nnnn nnnn nnnn nnnn nnnn nnnn nnnn nnnn nnnn nnnn nnnn nnnn nnnn nnnn nnnn nnnn nnnn\n",
            "\n",
            "> gggt ggtt gttc ttca tcaa caac aacg acgt cgta gtaa taaa aaac aacg acgg cggt ggta gtag tagg agga ggag gagg aggt ggtc gtcg tcgg cggg gggt ggtc gtca tcac cacg acgg cggg gggt ggtt gttt tttg ttgt tgta gtac tacg acgg cgga ggaa gaac aacg acgg cggt ggtc gtca tcac cacg acgg cggg gggt ggtt gttg ttgt tgtt gttt ttta ttag tagg aggc ggca gcac cacc acca ccac caca acaa caac aacg acgg cggt ggtg gtgg tggg gggc ggca gcac cacc acct cctg ctgt tgtg gtgg tggc ggcg gcgt cgta gtat tatg atgg tggt ggta gtat tatt attg ttgg tgga ggat gatc atct tctg ctgc tgcg gcgg cggc ggca gcag cagt agtt gttt tttg ttgg tggt ggtc gtca tcac cacc acca ccac cacc acct cctt cttt tttt tttc ttcg tcga cgaa gaag aagg aggg gggt ggtc gtcg tcgt cgtg gtgg tgga ggag gagt agtc gtcg tcga cgag gagg aggg gggt ggtt gttc ttcg tcgt cgta gtat tatt attg ttgg tgga ggat gatc atcg tcgg cgga ggaa gaat aatc atcg tcgg cgga ggag gagc agcc gccg ccgg cgga ggag gagt agtg gtgg tggg gggc ggca gcac cacc accg ccgg cgga ggaa gaat aatg atgg tggg ggga ggag gagt agtc gtcg tcgg cgga ggag gagt agtc gtct tctt cttg ttgg tggt ggtc gtct tctt cttg ttgg tggt ggtc gtca tcac cacg acgt cgta gtat tatt attt tttg ttgg tggg ggga ggag gagt agtc gtcg tcgg cggc ggcg gcgg cggt ggtg gtgg tggt ggtg gtgg tggt ggtg gtgg tggc ggca gcaa caag aagt agta gtaa taag aagt agtg gtgt tgtg gtgg tggt ggtt gttt tttt tttc ttca tcaa caat aata atat tatt atta ttac tacc accc cccg ccgt cgtt gttg ttgt tgtc gtca tcac cact actg ctgg tggc ggcg gcgg cggt ggtg gtgt tgtg gtgg tggt ggta gtaa taac aacg acgc cgct gctc ctct tctt ctta ttat tatt attt tttg ttgg tggc ggct gctt ctta ttat tatc atcc tcct cctt cttc ttct tctc ctca tcaa caat aata atag tagt agtg gtga tgat gata atag tagc agcc gccg ccgg cggg ggga ggac gacc acct cctt cttt tttg ttgg tggc ggct gctg ctgt tgta gtac tacg acga cgat gatc atcg tcgt cgtc gtcg tcgt cgtg gtgg tggt ggtt gtta ttat tatt attt tttt tttt tttt tttg ttgg tggg ggga ggat gatg atgg tggc ggcg gcgg cggt ggtt gttg ttga tgag gagg agga ggag gagc agcg gcgg cggg ggga ggaa gaac aacg acgg cggg ggga ggag gagc agcg gcgg cggg ggga ggaa gaac aaca acat cata atag tagg aggg gggt ggtt gttt tttt tttg ttgg tgga ggag gagt agtg gtgt tgtt gttg ttgg tggg ggga ggaa gaaa aaaa aaag aaga agaa gaag aagg agga ggag gagg agga ggaa gaat aata atat tata atat tatg atgt tgtt gtta ttag tagt agtg gtgg tggt ggtg gtgg tggc ggct gctt cttt tttg ttgt tgtc gtcg tcgt cgtt gtta ttac tacg acgg cgga ggat gatg atgg tggt ggtt gttt tttc ttct tctt ctta ttaa taat aata atag tagc agca gcat cata ataa taat aatc atca tcat catt atta ttat tatt attt tttt tttg ttgt tgtt gttc ttcg tcgt cgta gtaa taat aatt attc ttcg tcgg cggc ggct gctt ctta ttat tata atag taga agac gact actg ctgt tgtt gttt tttt tttt tttg ttgg tggt ggtg gtgg tggt ggtt gttc ttca tcaa caat aatt attt tttc ttca tcaa caat aatg atga tgac gact actt cttg ttgt tgtg gtga tgag gagt agta gtat tatg atga tgat gatg atgg tgga ggag gagg aggt ggtg gtgg tggt ggtt gttt tttc ttcg tcga cgag gaga agat gatt attt tttt ttta ttac tacc accc cccg ccgg cggt ggtt gttg ttgg tggt ggtt gttt tttg ttgg tggt ggtg gtgg tggc ggca gcag caga agat gata atag tagc agcc gccg ccgg cggg gggt ggtg gtgt tgtc gtct tctc ctcc tcct cctt cttg ttgt tgtc gtcc tccg ccga cgag gagt agta gtaa taac aacg acga cgag gagg agga ggat gatc atcg tcgt cgtt gttg ttgg tggg ggga ggag gaga agag gagg aggg gggt ggtc gtcc tcct cctg ctgg tgga ggaa gaat aatg atgc tgca gcaa caaa aaag aaga agag gagt agtc gtcc tcct cctt cttt tttt tttt tttt ttta ttag tagc agca gcat catc atct tctg ctga tgat gata atat tatt attg ttga tgaa gaaa aaat aatg atgt tgtg gtgt tgta gtat tata atag tagg agga ggat gatg atgt tgta gtat tatt atta ttac tacc acct cctg ctgg tggt ggtg gtgg tggg gggc ggcc gccg ccgg cggg ggga ggac gacg acga cgag gagt agtg gtgg tggg gggg gggc ggcc gcct cctg ctgg tggt ggtg gtgg tgga ggac gacc accg ccgg cggg gggc ggcc gccg ccga cgag gagt agtg gtgg tggg gggg gggc ggcc gcct cctg ctgg tggt ggtg gtgg tggg gggc ggcc gcca ccag cagg agga ggac gacg acga cgag gagt agtg gtgg tggg gggg gggc ggcc gcct cctg ctgg tggt ggtg gtgg tggt ggtc gtcc tcct cctg ctgg tggt ggtg gtgg tggt ggtc gtcc tccg ccgg cggg ggga ggac gacg acga cgag gagt agtg gtgg tggg gggg gggc ggcc gcct cctg ctgg tggt ggtg gtgg tggt ggtc gtcc tcct cctg ctgg tggt ggtg gtgg tggt ggtc gtcc tccg ccgg cggg ggga ggac gacg acga cgag gagt agtg gtgg tggg gggg gggc ggcc gcct cctg ctgt tgtt gttg ttgg tggt ggtc gtcc tccg ccgg cggg gggg gggg gggg gggt ggtc gtcc tccg ccgg cggg ggga ggag gagg aggt ggtc gtcc tccg ccgt cgta gtag tagg aggg gggc ggcc gccc ccca ccag cagg agga ggac gacg acga cgag gagt agtg gtgg tggg gggt ggtc gtcc tcca ccag cagg aggt ggtg gtgg tggg gggc ggcc gccg ccgg cggg gggt ggtg gtgg tggt ggtc gtcc tccc cccg ccgg cggt ggtg gtgg tggt ggtc gtcc tccc cccg ccgg cggt ggtg gtgg tggt ggtc gtcc tccg ccga cgaa gaaa aaag aagg aggt ggtc gtcc tcca ccag cagg aggc ggct gctt ctta ttag tagt agtg gtgg tggg gggt ggtc gtcc tccc ccct cctt cttg ttgg tggg gggt ggtc gtcc tccg ccgg cggg ggga ggag gagg aggt ggtc gtcc tcct ccta ctag taga agaa gaaa aaaa aaat aatg atgg tggg ggga ggat\n",
            "= nnnn nnnn nnnn nnnn nnnn nnnn nnnn nnnn nnnn nnnn nnnn nnnn nnnn nnnn nnnn nnnn nnnn nnnn nnnn nnnn nnnn nnnn nnnn nnnn nnnn nnnn nnnn nnnn nnnn nnnn nnnn nnnn nnnn nnnn nnnn nnnn nnnn nnnn nnnn nnnn nnnn nnnn nnnn nnnn nnnn nnnn nnnn nnnn nnnn nnnn nnnn nnnn nnnn nnnn nnnn nnnn nnnn nnnn nnnn nnnn nnnn nnnn nnnn nnnn nnnn nnnn nnnn nnnn nnnn nnnn nnnn nnnn nnnn nnnn nnnn nnnn nnnn nnnn nnnn nnnn nnnn nnnn nnnn nnnn nnnn nnnn nnnn nnnn nnnn nnnn nnnn nnnn nnnn nnnn nnnn nnnn nnnn nnnn nnnn nnnn nnnn nnnn nnnn nnnn nnnn nnnn nnnn nnnn nnnn nnnn nnnn nnnn nnnn nnnn nnnn nnnn nnnn nnnn nnnn nnnn nnnn nnnn nnnn nnnn nnnn nnnn nnnn nnnn nnnn nnnn nnnn nnnn nnnn nnnn nnnn nnnn nnnn nnnn nnnn nnnn nnnn nnnn nnnn nnnn nnnn nnnn nnnn nnnn nnnn nnnn nnnn nnnn nnnn nnnn nnnn nnnn nnnn nnnn nnnn nnnn nnnn nnnn nnnn nnnn nnnn nnnn nnnn nnnn nnnn nnnn nnnn nnnn nnnn nnnn nnnn nnnn nnnn nnnn nnnn nnnn nnnn nnnn nnnn nnnn nnnn nnnn nnnn nnnn nnnn nnnn nnnn nnnn nnnn nnnn nnnn nnnn nnnn nnnn nnnn nnnn nnnn nnnn nnnn nnnn nnnn nnnn nnnn nnnn nnnn nnnn nnnn nnnn nnnn nnnn nnnn nnnn nnnn nnnn nnnn nnnn nnnn nnnn nnnn nnnn nnnn nnnn nnnn nnnn nnnn nnnn nnnn nnnn nnnn nnnn nnnn nnnn nnnn nnnn nnnn nnnn nnnn nnnn nnnn nnnn nnnn nnnn nnnn nnnn nnnn nnnn nnnn nnnn nnnn nnnn nnnn nnnn nnnn nnnn nnnn nnnn nnnn nnnn nnnn nnnn nnnn nnnn nnnn nnnn nnnn nnnn nnnn nnnn nnnn nnnn nnnn nnnn nnnn nnnn nnnn nnnn nnnn nnnn nnnn nnnn nnnn nnnn nnnn nnnn nnnn nnnn nnnn nnnn nnnn nnnn nnnn nnnn nnnn nnnn nnnn nnnn nnnn nnnn nnnn nnnn nnnn nnnn nnnn nnnn nnnn nnnn nnnn nnnn nnnn nnnn nnnn nnnn nnnn nnnn nnnn nnnn nnnn nnnn nnnn nnnn nnnn nnnn nnnn nnnn nnnn nnnn nnnn nnnn nnnn nnnn nnnn nnnn nnnn nnnn nnnn nnnn nnnn nnnn nnnn nnnn nnnn nnnn nnnn nnnn nnnn nnnn nnnn nnnn nnnn nnnn nnnn nnnn nnnn nnnn nnnn nnnn nnnn nnnn nnnn nnnn nnnn nnnn nnnn nnnn nnnn nnnn nnnn nnnn nnnn nnnn nnnn nnnn nnnn nnnn nnnn nnnn nnnn nnnn nnnn nnnn nnnn nnnn nnnn nnnn nnnn nnnn nnnn nnnn nnnn nnnn nnnn nnnn nnnn nnnn nnnn nnnn nnnn nnnn nnnn nnnn nnnn nnnn nnnn nnnn nnnn nnnn nnnn nnnn nnnn nnnn nnnn nnnn nnnn nnnn nnnn nnnn nnnn nnnn nnnn nnnn nnnn nnnn nnnn nnnn nnnn nnnn nnnn nnnn nnnn nnnn nnnn nnnn nnnn nnnn nnnn nnnn nnnn nnnn nnnn nnnn nnnn nnnn nnnn nnnn nnnn nnnn nnnn nnnn nnnn nnnn nnnn nnnn nnnn nnnn nnnn nnnn nnnn nnnn nnnn nnnn nnnn nnnn nnnn nnnn nnnn nnnn nnnn nnnn nnnn nnnn nnnn nnnn nnnn nnnn nnnn nnnn nnnn nnnn nnnn nnnn nnnn nnnn nnnn nnnn nnnn nnnn nnnn nnnn nnnn nnnn nnnn nnnn nnnn nnnn nnnn nnnn nnnn nnnn nnnn nnnn nnnn nnnn nnnn nnnn nnnn nnnn nnnn nnnn nnnn nnnn nnnn nnnn nnnn nnnn nnnn nnnn nnnn nnnn nnnn nnnn nnnn nnnn nnnn nnnn nnnn nnnn nnnn nnnn nnnn nnnn nnnn nnnn nnnn nnnn nnnn nnnn nnnn nnnn nnnn nnnn nnnn nnnn nnnn nnnn nnnn nnnn nnnn nnnn nnnn nnnn nnnn nnnn nnnn nnnn nnnn nnnn nnnn nnnn nnnn nnnn nnnn nnnn nnnn nnnn nnnn nnnn nnnn nnnn nnnn nnnn nnnn nnnn nnnn nnnn nnnn nnnn nnnn nnnn nnnn nnnn nnnn nnnn nnnn nnnn nnnn nnnn nnnn nnnn nnnn nnnn nnnn nnnn nnnn nnnn nnnn nnnn nnnn nnnn nnnn nnnn nnnn nnnn nnnn nnnn nnnn nnnn nnnn nnnn nnnn nnnn nnnn nnnn nnnn nnnn nnnn nnnn nnnn nnnn nnnn nnnn nnnn nnnn nnnn nnnn nnnn nnnn nnnn nnnn nnnn nnnn nnnn nnnn nnnn nnnn nnnn nnnn nnnn nnnn nnnn nnnn nnnn nnnn nnnn nnnn nnnn nnnn nnnn nnnn nnnn nnnn nnnn nnnn nnnn nnnn nnnn nnnn nnnn nnnn nnnn nnnn nnnn nnnn nnnn nnnn nnnn nnnn nnnn nnnn nnnn nnnn nnnn nnnn nnnn nnnn nnnn nnnn nnnn nnnn nnnn nnnn nnnn nnnn nnnn nnnn nnnn nnnn nnnn nnnn nnnn nnnn nnnn nnnn nnnn nnnn nnnn nnnn nnnn nnnn nnnn nnnn nnnn nnnn nnnn nnnn nnnn nnnn nnnn nnnn nnnn nnnn nnnn nnnr nnrr nrrr rrrr rrrr rrrr rrrr rrrr rrrr rrrr rrrr rrrr rrrr rrrr rrrr rrrr rrrr rrrr rrrr rrrr rrrr rrrr rrrr rrrr rrrr rrrr rrrr rrrr rrrr rrrr rrrr rrrr rrrr rrrr rrrr rrrr rrrr rrrr rrrr rrrr rrrr rrrr rrrr rrrr rrrr rrrr rrrr rrrr rrrr rrrr rrrr rrrr rrrr rrrr rrrr rrrr rrrr rrrr rrrr rrrr rrrr rrrr rrrr rrrr rrrr rrrr rrrr rrrr rrrr rrrr rrrr rrrr rrrr rrrr rrrr rrrr rrrr rrrr rrrr rrrr rrrr rrrr rrrr rrrr rrrr rrrr rrrr rrrr rrrr rrrr rrrr rrrr rrrr rrrr rrrr rrrr rrrr rrrr rrrr rrrr rrrr rrrr rrrr rrrr rrrr rrrr rrrr rrrr rrrr rrrr rrrr rrrr rrrr rrrr rrrr rrrr rrrr rrrr rrrr rrrr rrrr rrrr rrrr rrrr rrrr rrrr rrrr rrrr rrrr rrrr rrrr rrrr rrrr rrrr rrrr rrrr rrrr rrrr rrrr rrrr rrrr rrrr rrrr rrrr rrrr rrrr rrrr rrrr rrrr rrrr rrrr rrrr rrrr rrrr rrrr rrrr rrrr rrrr rrrr rrrr rrrr rrrr rrrr rrrr rrrr rrrr rrrr rrrr rrrr rrrr rrrr rrrr rrrr rrrr rrrr rrrr rrrr rrrr rrrr rrrr rrrr rrrr rrrr rrrr rrrr rrrr rrrr rrrr rrrr rrrr rrrr rrrr rrrr rrrr rrrr rrrr rrrr rrrr rrrr rrrr rrrr rrrr rrrr rrrr rrrr rrrr rrrr rrrr rrrr rrrr rrrr rrrr rrrr rrrr rrrr rrrr rrrr rrrr rrrr rrrr rrrr rrrr rrrr rrrr rrrr rrrr rrrr rrrr rrrr rrrr rrrr rrrr rrrr rrrr rrrr rrrr rrrr rrrr rrrr rrrr rrrr rrrr rrrr rrrr rrrr rrrr rrrr rrrr rrrr rrrr rrrr rrrr rrrr rrrr rrrr rrrr rrrr rrrr rrrr rrrr rrrr rrrr rrrr rrrr rrrr rrrr rrrr rrrr rrrr rrrn rrnn rnnn nnnn nnnn nnnn nnnn nnnn nnnn nnnn nnnn nnnn nnnn\n",
            "< nnnn nnnn nnnn nnnn nnnn nnnn nnnn nnnn nnnn nnnn nnnn nnnn nnnn nnnn nnnn nnnn nnnn nnnn nnnn nnnn nnnn nnnn nnnn nnnn nnnn nnnn nnnn nnnn nnnn nnnn nnnn nnnn nnnn nnnn nnnn nnnn nnnn nnnn nnnn nnnn nnnn nnnn nnnn nnnn nnnn nnnn nnnn nnnn nnnn nnnn nnnn nnnn nnnn nnnn nnnn nnnn nnnn nnnn nnnn nnnn nnnn nnnn nnnn nnnn nnnn nnnn nnnn nnnn nnnn nnnn nnnn nnnn nnnn nnnn nnnn nnnn nnnn nnnn nnnn nnnn nnnn nnnn nnnn nnnn nnnn nnnn nnnn nnnn nnnn nnnn nnnn nnnn nnnn nnnn nnnn nnnn nnnn nnnn nnnn nnnn nnnn nnnn nnnn nnnn nnnn nnnn nnnn nnnn nnnn nnnn nnnn nnnn nnnn nnnn nnnn nnnn nnnn nnnn nnnn nnnn nnnn nnnn nnnn nnnn nnnn nnnn nnnn nnnn nnnn nnnn nnnn nnnn nnnn nnnn nnnn nnnn nnnn nnnn nnnn nnnn nnnn nnnn nnnn nnnn nnnn nnnn nnnn nnnn nnnn nnnn nnnn nnnn nnnn nnnn nnnn nnnn nnnn nnnn nnnn nnnn nnnn nnnn nnnn nnnn nnnn nnnn nnnn nnnn nnnn nnnn nnnn nnnn nnnn nnnn nnnn nnnn nnnn nnnn nnnn nnnn nnnn nnnn nnnn nnnn nnnn nnnn nnnn nnnn nnnn nnnn nnnn nnnn nnnn nnnn nnnn nnnn nnnn nnnn nnnn nnnn nnnn nnnn nnnn nnnn nnnn nnnn nnnn nnnn nnnn nnnn nnnn nnnn nnnn nnnn nnnn nnnn nnnn nnnn nnnn nnnn nnnn nnnn nnnn nnnn nnnn nnnn nnnn nnnn nnnn nnnn nnnn nnnn nnnn nnnn nnnn nnnn nnnn nnnn nnnn nnnn nnnn nnnn nnnn nnnn nnnn nnnn nnnn nnnn nnnn nnnn nnnn nnnn nnnn nnnn nnnn nnnn nnnn nnnn nnnn nnnn nnnn nnnn nnnn nnnn nnnn nnnn nnnn nnnn nnnn nnnn nnnn nnnn nnnn nnnn nnnn nnnn nnnn nnnn nnnn nnnn nnnn nnnn nnnn nnnn nnnn nnnn nnnn nnnn nnnn nnnn nnnn nnnn nnnn nnnn nnnn nnnn nnnn nnnn nnnn nnnn nnnn nnnn nnnn nnnn nnnn nnnn nnnn nnnn nnnn nnnn nnnn nnnn nnnn nnnn nnnn nnnn nnnn nnnn nnnn nnnn nnnn nnnn nnnn nnnn nnnn nnnn nnnn nnnn nnnn nnnn nnnn nnnn nnnn nnnn nnnn nnnn nnnn nnnn nnnn nnnn nnnn nnnn nnnn nnnn nnnn nnnn nnnn nnnn nnnn nnnn nnnn nnnn nnnn nnnn nnnn nnnn nnnn nnnn nnnn nnnn nnnn nnnn nnnn nnnn nnnn nnnn nnnn nnnn nnnn nnnn nnnn nnnn nnnn nnnn nnnn nnnn nnnn nnnn nnnn nnnn nnnn nnnn nnnn nnnn nnnn nnnn nnnn nnnn nnnn nnnn nnnn nnnn nnnn nnnn nnnn nnnn nnnn nnnn nnnn nnnn nnnn nnnn nnnn nnnn nnnn nnnn nnnn nnnn nnnn nnnn nnnn nnnn nnnn nnnn nnnn nnnn nnnn nnnn nnnn nnnn nnnn nnnn nnnn nnnn nnnn nnnn nnnn nnnn nnnn nnnn nnnn nnnn nnnn nnnn nnnn nnnn nnnn nnnn nnnn nnnn nnnn nnnn nnnn nnnn nnnn nnnn nnnn nnnn nnnn nnnn nnnn nnnn nnnn nnnn nnnn nnnn nnnn nnnn nnnn nnnn nnnn nnnn nnnn nnnn nnnn nnnn nnnn nnnn nnnn nnnn nnnn nnnn nnnn nnnn nnnn nnnn nnnn nnnn nnnn nnnn nnnn nnnn nnnn nnnn nnnn nnnn nnnn nnnn nnnn nnnn nnnn nnnn nnnn nnnn nnnn nnnn nnnn nnnn nnnn nnnn nnnn nnnn nnnn nnnn nnnn nnnn nnnn nnnn nnnn nnnn nnnn nnnn nnnn nnnn nnnn nnnn nnnn nnnn nnnn nnnn nnnn nnnn nnnn nnnn nnnn nnnn nnnn nnnn nnnn nnnn nnnn nnnn nnnn nnnn nnnn nnnn nnnn nnnn nnnn nnnn nnnn nnnn nnnn nnnn nnnn nnnn nnnn nnnn nnnn nnnn nnnn nnnn nnnn nnnn nnnn nnnn nnnn nnnn nnnn nnnn nnnn nnnn nnnn nnnn nnnn nnnn nnnn nnnn nnnn nnnn nnnn nnnn nnnn nnnn nnnn nnnn nnnn nnnn nnnn nnnn nnnn nnnn nnnn nnnn nnnn nnnn nnnn nnnn nnnn nnnn nnnn nnnn nnnn nnnn nnnn nnnn nnnn nnnn nnnn nnnn nnnn nnnn nnnn nnnn nnnn nnnn nnnn nnnn nnnn nnnn nnnn nnnn nnnn nnnn nnnn nnnn nnnn nnnn nnnn nnnn nnnn nnnn nnnn nnnn nnnn nnnn nnnn nnnn nnnn nnnn nnnn nnnn nnnn nnnn nnnn nnnn nnnn nnnn nnnn nnnn nnnn nnnn nnnn nnnn nnnn nnnn nnnn nnnn nnnn nnnn nnnn nnnn nnnn nnnn nnnn nnnn nnnn nnnn nnnn nnnn nnnn nnnn nnnn nnnn nnnn nnnn nnnn nnnn nnnn nnnn nnnn nnnn nnnn nnnn nnnn nnnn nnnn nnnn nnnn nnnn nnnn nnnn nnnn nnnn nnnn nnnn nnnn nnnn nnnn nnnn nnnn nnnn nnnn nnnn nnnn nnnn nnnn nnnn nnnn nnnn nnnn nnnn nnnn nnnn nnnn nnnn nnnn nnnn nnnn nnnn nnnn nnnn nnnn nnnn nnnn nnnn nnnn nnnn nnnn nnnn nnnn nnnn nnnn nnnn nnnn nnnn nnnn nnnn nnnn nnnn nnnn nnnn nnnn nnnn nnnn nnnn nnnn nnnn nnnn nnnn nnnn nnnn nnnn nnnn nnnn nnnn nnnn nnnn nnnn nnnn nnnn nnnn nnnn nnnn nnnn nnnn nnnn nnnn nnnn nnnn nnnn nnnn nnnn nnnn nnnn nnnn nnnn nnnn nnnn nnnn nnnn nnnn nnnn nnnn nnnn nnnn nnnn nnnn nnnn nnnn nnnn nnnn nnnn nnnn nnnn nnnn nnnn nnnn nnnn nnnn nnnn nnnn nnnn nnnn nnnn nnnn nnnn nnnn nnnn nnnn nnnn nnnn nnnn nnnn nnnn nnnn nnnn nnnn nnnn nnnn nnnn nnnn nnnn nnnn nnnn nnnn nnnn nnnn nnnn nnnn nnnn nnnn nnnn nnnn nnnn nnnn nnnn nnnn nnnn nnnn nnnn nnnn nnnn nnnn nnnn nnnn nnnn nnnn nnnn nnnn nnnn nnnn nnnn nnnn nnnn nnnn nnnn nnnn nnnn nnnn nnnn nnnn nnnn nnnn nnnn nnnn nnnn nnnn nnnn nnnn nnnn nnnn nnnn nnnn nnnn nnnn nnnn nnnn nnnn nnnn nnnn nnnn nnnn nnnn nnnn nnnn nnnn nnnn nnnn nnnn nnnn nnnn nnnn nnnn nnnn nnnn nnnn nnnn nnnn nnnn nnnn nnnn nnnn nnnn nnnn nnnn nnnn nnnn nnnn nnnn nnnn nnnn nnnn nnnn nnnn nnnn nnnn nnnn nnnn nnnn nnnn nnnn nnnn nnnn nnnn nnnn nnnn nnnn nnnn nnnn nnnn nnnn nnnn nnnn nnnn nnnn nnnn nnnn nnnn nnnn nnnn nnnn nnnn nnnn nnnn nnnn nnnn nnnn nnnn nnnn nnnn nnnn nnnn nnnn nnnn nnnn nnnn nnnn nnnn nnnn nnnn nnnn nnnn nnnn nnnn nnnn nnnn nnnn nnnn nnnn nnnn nnnn nnnn nnnn nnnn nnnn nnnn nnnn nnnn nnnn nnnn nnnn nnnn nnnn nnnn nnnn nnnn nnnn nnnn nnnn nnnn nnnn nnnn nnnn nnnn nnnn nnnn nnnn nnnn nnnn nnnn nnnn nnnn nnnn nnnn nnnn nnnn nnnn nnnn nnnn\n",
            "\n",
            "> cgcc gccc ccca ccaa caaa aaaa aaag aagc agcg gcga cgag gagg agga ggag gaga agac gacc accc ccct cctc ctcg tcga cgac gacg acga cgat gatg atgc tgca gcat catc atcc tcca ccag cagc agct gctc ctca tcaa caaa aaac aaca acag caga agag gagt agtg gtgg tggg gggt ggtc gtca tcat catt attc ttca tcag cagt agtg gtgt tgtt gttc ttct tcta ctat tatg atga tgac gact actg ctgc tgca gcat cata atag taga agac gacg acgc cgct gcta ctag tagc agcc gccc cccc cccg ccgc cgcc gcct cctg ctgc tgcg gcgt cgtg gtgg tgga ggag gagg agga ggaa gaaa aaaa aaaa aaac aaca acag cagg agga ggat gatg atgc tgcc gcca ccat catg atga tgaa gaag aagc agcc gccg ccgg cgga ggag gaga agaa gaag aagg aggg gggc ggcg gcga cgac gaca acac cacc acca ccac cacc accg ccga cgac gacg acga cgag gagg agga ggag gagg aggg gggt ggtg gtga tgag gagt agta gtag taga agat gatc atct tctc ctct tctt ctta ttaa taag aagt agtt gtta ttag tagt agtt gtta ttaa taaa aaaa aaat aatc atcc tccc ccca ccaa caaa aaaa aaaa aaat aatt atta ttaa taag aagg aggg gggg gggt ggta gtac taca acat catt attt tttg ttgc tgcc gcct ccta ctat tata ataa taaa aaat aatt attc ttct tctg ctgt tgtt gttc ttca tcat catt attt tttt ttta ttac tacg acga cgaa gaaa aaag aagc agcc gcct ccta ctat tata atat tata atac tact actc ctca tcac caca acag caga agag gagt agtt gttc ttct tctt cttt ttta ttat tatt atta ttat tatt attt tttg ttgt tgtt gttc ttct tcta ctat tata atat tatt attg ttgt tgtg gtgt tgtt gttc ttcc tcct ccta ctag tagg aggc ggct gctc ctcc tcct ccta ctaa taaa aaag aagc agct gctg ctga tgaa gaaa aaat aatc atct tcta ctat tatg atgt tgtt gttt ttta ttag tagt agtg gtgt tgta gtaa taat aatt atta ttat tatt attg ttga tgaa gaaa aaat aatt attt ttta ttaa taat aatt attg ttga tgac gacc acca ccat catg atgt tgtg gtgt tgtt gttt tttt tttt tttc ttca tcac cact actt cttt tttc ttca tcag cagt agtt gttt tttc ttct tctg ctga tgaa gaaa aaat aatc atcg tcga cgat gatc atca tcag cagg aggg gggc ggct gctg ctgc tgca gcac cacc acca ccat cata atat tatt attt tttt tttc ttcc tccg ccgg cgga ggag gagt agtc gtca tcac cacc acct ccta ctac tacc acct cctg ctgg tggg gggc ggcg gcgc cgca gcag cagc agcc gcca ccaa caac aaca acat catt atta ttaa taat aatg atgc tgcc gccc cccc ccca ccaa caaa aaaa aaat aatc atcc tccg ccga cgag gaga agac gacg acgg cgga ggag gagg aggt ggtt gttt ttta ttat tatc atcg tcgc cgca gcat catc atca tcat catg atgg tggg gggc ggcg gcga cgag gagc agct gcta ctaa taaa aaat aata atag tagt agtg gtgg tggc ggct gctc ctca tcaa caaa aaag aagt agtc gtcg tcgg cggt ggtg gtgg tggg gggc ggcc gcct cctg ctga tgaa gaag aaga agat gatc atca tcac cact actg ctgt tgtg gtga tgag gagc agca gcat cata atac tacc accc ccca ccaa caat aatt attg ttgc tgct gctc ctca tcag caga agaa gaag aagg aggc ggcc gcct cctg ctgg tggt ggtt gttg ttgt tgtg gtgt tgtg gtga tgag gagt agta gtaa taaa aaag aagt agtt gttt tttt tttt ttta ttac tact actg ctgc tgcc gccc cccc ccct cctt cttg ttga tgaa gaat aatt atta ttac tact actc ctca tcac cact actg ctga tgag gagc agcg gcgt cgtc gtca tcat catc atca tcat catg atgc tgct gctg ctgc tgct gcta ctat tatt atta ttac taca acag cagc agcc gcct cctc ctcc tcca ccac cacg acga cgat gatg atgc tgcc gccg ccga cgag gaga agag gagc agca gcaa caat aata atac tact acta ctat tatt atta ttat tatt attg ttgc tgcc gcca ccac cacc acct ccta ctat tatg atga tgag gaga agat gata atat tatc atcc tcca ccag cagc agca gcat catt atta ttat tatc atct tctt cttg ttgt tgta gtac tact acta ctat tatc atcg tcga cgag gagg agga ggac gacc acca ccag cagt agtg gtgg tgga ggat gata atac tacg acgg cggt ggtg gtgg tgga ggaa gaaa aaaa aaac aacg acgg cgga ggat gatg atgc tgct gctt cttt tttg ttgc tgca gcat catt attc ttca tcac cact actt cttg ttgg tggc ggct gctt cttc ttca tcac cacg acgg cggc ggcg gcga cgat gatg atgc tgca gcat catt attg ttgt tgtt gttt tttc ttca tcag cagt agtg gtgc tgcc gcca ccat catg atgt tgtg gtgt tgtt gttt tttc ttcg tcgg cggt ggtg gtgc tgcc gcca ccat cata atat tatt attc ttcc tccc cccg ccga cgaa gaag aagc agcg gcgg cggt ggtt gtta ttaa taat aatc atca tcaa caag aagt agtc gtca tcag cagc agcg gcgg cggt ggtg gtga tgag gagt agtc gtca tcag caga agat gatc atca tcat cata atac taca acag cagt agtg gtga tgat gatt attt tttc ttca tcat catc atcc tccc ccca ccac cacc accg ccga cgat gatt attt ttta ttat tatt attc ttca tcaa caaa aaaa aaat aatc atct tctt cttc ttcg tcgc cgcc gccc cccg ccgc cgca gcag cagc agcc gcct cctg ctgc tgct gctt cttc ttcc tcca ccag caga agaa gaag aagg aggc ggca gcat catt attc ttcc tcca ccag caga agac gact actt ctta ttat tatc atcc tccg ccgc cgcc gccc ccca ccag cagc agca gcat catg atga tgag gagt agtt gttg ttgc tgca gcag cagc agcc gcct cctt ctta ttaa taat aatt attc ttcg tcgg cggc ggcc gccg ccgt cgtt gttg ttga tgac gaca acat catg atgg tggc ggcc gcca ccaa caac aact actc ctcg tcgg cggt ggta gtaa taac aacc acct cctc ctcc tccg ccga cgat gatg atgt tgta gtaa taag aagc agcg gcgg cgga ggaa gaaa aaat aatc atcc tcct cctt cttt ttta ttaa taaa aaac aaca acac cacg acgg cggc ggct gctg ctgg tggg gggt ggta gtat tatg atga tgag gagt agtt gttc ttca tcat cata atag tagt agtc gtct tctc ctcc tcct cctt ctta ttag taga agag gaga agat gatc atcc tccg ccgt\n",
            "= nnnn nnnn nnnn nnnn nnnn nnnn nnnn nnnn nnnn nnnn nnnn nnnn nnnn nnnn nnnn nnnn nnnn nnnn nnnn nnnn nnnn nnnn nnnn nnnn nnnn nnnn nnnn nnnn nnnn nnnn nnnn nnnn nnnn nnnn nnnn nnnn nnnn nnnn nnnn nnnn nnnn nnnn nnnn nnnn nnnn nnnn nnnn nnnn nnnn nnnn nnnn nnnn nnnn nnnn nnnn nnnn nnnn nnnn nnnn nnnn nnnn nnnn nnnn nnnn nnnn nnnn nnnn nnnn nnnn nnnn nnnn nnnn nnnn nnnn nnnn nnnn nnnn nnnn nnnn nnnn nnnn nnnn nnnn nnnn nnnn nnnn nnnn nnnn nnnn nnnn nnnn nnnn nnnn nnnn nnnn nnnn nnnn nnnn nnnn nnnn nnnn nnnn nnnn nnnn nnnn nnnn nnnn nnnn nnnn nnnn nnnn nnnn nnnn nnnn nnnn nnnn nnnn nnnn nnnn nnnn nnnn nnnn nnnn nnnn nnnn nnnn nnnn nnnn nnnn nnnn nnnn nnnn nnnn nnnn nnnn nnnn nnnn nnnn nnnn nnnn nnnn nnnn nnnn nnnn nnnn nnnn nnnn nnnn nnnn nnnn nnnn nnnn nnnn nnnn nnnn nnnn nnnn nnnn nnnn nnnn nnnn nnnn nnnn nnnn nnnn nnnn nnnn nnnn nnnn nnnn nnnn nnnn nnnn nnnn nnnn nnnn nnnn nnnn nnnn nnnn nnnn nnnn nnnn nnnn nnnn nnnn nnnn nnnn nnnn nnnn nnnn nnnn nnnn nnnn nnnn nnnn nnnn nnnn nnnn nnnn nnnn nnnn nnnn nnnn nnnn nnnn nnnn nnnn nnnn nnnn nnnn nnnn nnnn nnnn nnnn nnnn nnnn nnnn nnnn nnnn nnnn nnnn nnnn nnnn nnnn nnnn nnnn nnnn nnnn nnnn nnnn nnnn nnnn nnnn nnnn nnnn nnnn nnnn nnnn nnnn nnnn nnnn nnnn nnnn nnnn nnnn nnnn nnnn nnnn nnnn nnnn nnnn nnnn nnnn nnnn nnnn nnnn nnnn nnnn nnnn nnnn nnnn nnnn nnnn nnnn nnnn nnnn nnnn nnnn nnnn nnnn nnnn nnnn nnnn nnnn nnnn nnnn nnnn nnnn nnnn nnnn nnnn nnnn nnnn nnnn nnnn nnnn nnnn nnnn nnnn nnnn nnnn nnnn nnnn nnnn nnnn nnnn nnnn nnnn nnnn nnnn nnnn nnnn nnnn nnnn nnnn nnnn nnnn nnnn nnnn nnnn nnnn nnnn nnnn nnnn nnnn nnnn nnnn nnnn nnnn nnnn nnnn nnnn nnnn nnnn nnnn nnnn nnnn nnnn nnnn nnnn nnnn nnnn nnnn nnnn nnnn nnnn nnnn nnnn nnnn nnnn nnnn nnnn nnnn nnnn nnnn nnnn nnnn nnnn nnnn nnnn nnnn nnnn nnnn nnnn nnnn nnnn nnnn nnnn nnnn nnnn nnnn nnnn nnnn nnnn nnnn nnnn nnnn nnnn nnnn nnnn nnnn nnnn nnnn nnnn nnnn nnnn nnnn nnnn nnnn nnnn nnnn nnnn nnnn nnnn nnnn nnnn nnnn nnnn nnnn nnnn nnnn nnnn nnnn nnnn nnnn nnnn nnnn nnnn nnnn nnnn nnnn nnnn nnnn nnnn nnnn nnnn nnnn nnnn nnnn nnnn nnnn nnnn nnnn nnnn nnnn nnnn nnnn nnnn nnnn nnnn nnnn nnnn nnnn nnnn nnnn nnnn nnnn nnnn nnnn nnnn nnnn nnnn nnnn nnnn nnnn nnnn nnnn nnnn nnnn nnnn nnnn nnnn nnnn nnnn nnnn nnnn nnnn nnnn nnnn nnnn nnnn nnnn nnnn nnnn nnnn nnnn nnnn nnnn nnnn nnnn nnnn nnnn nnnn nnnn nnnn nnnn nnnn nnnn nnnn nnnn nnnn nnnn nnnn nnnn nnnn nnnn nnnn nnnn nnnn nnnn nnnn nnnn nnnn nnnn nnnn nnnn nnnn nnnn nnnn nnnn nnnn nnnn nnnn nnnn nnnn nnnn nnnn nnnn nnnn nnnn nnnn nnnn nnnn nnnn nnnn nnnn nnnn nnnn nnnn nnnn nnnn nnnn nnnn nnnn nnnn nnnn nnnn nnnn nnnn nnnn nnnn nnnn nnnn nnnn nnnn nnnn nnnn nnnn nnnn nnnn nnnn nnnn nnnn nnnn nnnn nnnn nnnn nnnn nnnn nnnn nnnn nnnn nnnn nnnn nnnn nnnn nnnn nnnn nnnn nnnn nnnn nnnn nnnn nnnn nnnn nnnn nnnn nnnn nnnn nnnn nnnn nnnn nnnn nnnn nnnn nnnn nnnn nnnn nnnn nnnn nnnn nnnn nnnn nnnn nnnn nnnn nnnn nnnn nnnn nnnn nnnn nnnn nnnn nnnn nnnn nnnn nnnn nnnn nnnn nnnn nnnn nnnn nnnn nnnn nnnn nnnn nnnn nnnn nnnn nnnn nnnn nnnn nnnn nnnn nnnn nnnn nnnn nnnn nnnn nnnn nnnn nnnn nnnn nnnn nnnn nnnn nnnn nnnn nnnn nnnn nnnn nnnn nnnn nnnn nnnn nnnn nnnn nnnn nnnn nnnn nnnn nnnn nnnn nnnn nnnn nnnn nnnn nnnn nnnn nnnn nnnn nnnn nnnn nnnn nnnn nnnn nnnn nnnn nnnn nnnn nnnn nnnn nnnn nnnn nnnn nnnn nnnn nnnn nnnn nnnn nnnn nnnn nnnn nnnn nnnn nnnn nnnn nnnn nnnn nnnn nnnn nnnn nnnn nnnn nnnn nnnn nnnn nnnn nnnn nnnn nnnn nnnn nnnn nnnn nnnn nnnn nnnn nnnn nnnn nnnn nnnn nnnn nnnn nnnn nnnn nnnn nnnn nnnn nnnn nnnn nnnn nnnn nnnn nnnn nnnn nnnn nnnn nnnn nnnn nnnn nnnn nnnn nnnn nnnn nnnn nnnn nnnn nnnn nnnn nnnn nnnn nnnn nnnn nnnn nnnn nnnn nnnn nnnn nnnn nnnn nnnn nnnn nnnn nnnn nnnn nnnn nnnn nnnn nnnn nnnn nnnn nnnn nnnn nnnn nnnn nnnn nnnn nnnn nnnn nnnn nnnn nnnn nnnn nnnn nnnn nnnn nnnn nnnn nnnn nnnn nnnn nnnn nnnn nnnn nnnn nnnn nnnn nnnn nnnn nnnn nnnn nnnn nnnn nnnn nnnn nnnn nnnn nnnn nnnn nnnn nnnn nnnn nnnn nnnn nnnn nnnn nnnn nnnn nnnn nnnn nnnn nnnn nnnn nnnn nnnn nnnn nnnn nnnn nnnn nnnn nnnn nnnn nnnn nnnn nnnn nnnn nnnn nnnn nnnn nnnn nnnn nnnn nnnn nnnn nnnn nnnn nnnn nnnn nnnn nnnn nnnn nnnn nnnn nnnn nnnn nnnn nnnn nnnn nnnn nnnn nnnn nnnn nnnn nnnn nnnn nnnn nnnn nnnn nnnn nnnn nnnn nnnn nnnn nnnn nnnn nnnn nnnn nnnn nnnn nnnn nnnn nnnn nnnn nnnn nnnn nnnn nnnn nnnn nnnn nnnn nnnn nnnn nnnn nnnn nnnn nnnn nnnn nnnn nnnn nnnn nnnn nnnn nnnn nnnn nnnn nnnn nnnn nnnn nnnn nnnn nnnn nnnn nnnn nnnn nnnn nnnn nnnn nnnn nnnn nnnn nnnn nnnn nnnn nnnn nnnn nnnn nnnn nnnn nnnn nnnn nnnn nnnn nnnn nnnn nnnn nnnn nnnn nnnn nnnn nnnn nnnn nnnn nnnn nnnn nnnn nnnn nnnn nnnn nnnn nnnn nnnn nnnn nnnn nnnn nnnn nnnn nnnn nnnn nnnn nnnn nnnn nnnn nnnn nnnn nnnn nnnn nnnn nnnn nnnn nnnn nnnn nnnn nnnn nnnn nnnn nnnn nnnn nnnn nnnn nnnn nnnn nnnn nnnn nnnn nnnn nnnn nnnn nnnn nnnn nnnn nnnn nnnn nnnn nnnn nnnn nnnn nnnn nnnn nnnn nnnn nnnn nnnn nnnn nnnn nnnn nnnn nnnn nnnn nnnn nnnn nnnn nnnn nnnn nnnn nnnn nnnn nnnn nnnn nnnn nnnn nnnn nnnn nnnn nnnn nnnn nnnn\n",
            "< nnnn nnnn nnnn nnnn nnnn nnnn nnnn nnnn nnnn nnnn nnnn nnnn nnnn nnnn nnnn nnnn nnnn nnnn nnnn nnnn nnnn nnnn nnnn nnnn nnnn nnnn nnnn nnnn nnnn nnnn nnnn nnnn nnnn nnnn nnnn nnnn nnnn nnnn nnnn nnnn nnnn nnnn nnnn nnnn nnnn nnnn nnnn nnnn nnnn nnnn nnnn nnnn nnnn nnnn nnnn nnnn nnnn nnnn nnnn nnnn nnnn nnnn nnnn nnnn nnnn nnnn nnnn nnnn nnnn nnnn nnnn nnnn nnnn nnnn nnnn nnnn nnnn nnnn nnnn nnnn nnnn nnnn nnnn nnnn nnnn nnnn nnnn nnnn nnnn nnnn nnnn nnnn nnnn nnnn nnnn nnnn nnnn nnnn nnnn nnnn nnnn nnnn nnnn nnnn nnnn nnnn nnnn nnnn nnnn nnnn nnnn nnnn nnnn nnnn nnnn nnnn nnnn nnnn nnnn nnnn nnnn nnnn nnnn nnnn nnnn nnnn nnnn nnnn nnnn nnnn nnnn nnnn nnnn nnnn nnnn nnnn nnnn nnnn nnnn nnnn nnnn nnnn nnnn nnnn nnnn nnnn nnnn nnnn nnnn nnnn nnnn nnnn nnnn nnnn nnnn nnnn nnnn nnnn nnnn nnnn nnnn nnnn nnnn nnnn nnnn nnnn nnnn nnnn nnnn nnnn nnnn nnnn nnnn nnnn nnnn nnnn nnnn nnnn nnnn nnnn nnnn nnnn nnnn nnnn nnnn nnnn nnnn nnnn nnnn nnnn nnnn nnnn nnnn nnnn nnnn nnnn nnnn nnnn nnnn nnnn nnnn nnnn nnnn nnnn nnnn nnnn nnnn nnnn nnnn nnnn nnnn nnnn nnnn nnnn nnnn nnnn nnnn nnnn nnnn nnnn nnnn nnnn nnnn nnnn nnnn nnnn nnnn nnnn nnnn nnnn nnnn nnnn nnnn nnnn nnnn nnnn nnnn nnnn nnnn nnnn nnnn nnnn nnnn nnnn nnnn nnnn nnnn nnnn nnnn nnnn nnnn nnnn nnnn nnnn nnnn nnnn nnnn nnnn nnnn nnnn nnnn nnnn nnnn nnnn nnnn nnnn nnnn nnnn nnnn nnnn nnnn nnnn nnnn nnnn nnnn nnnn nnnn nnnn nnnn nnnn nnnn nnnn nnnn nnnn nnnn nnnn nnnn nnnn nnnn nnnn nnnn nnnn nnnn nnnn nnnn nnnn nnnn nnnn nnnn nnnn nnnn nnnn nnnn nnnn nnnn nnnn nnnn nnnn nnnn nnnn nnnn nnnn nnnn nnnn nnnn nnnn nnnn nnnn nnnn nnnn nnnn nnnn nnnn nnnn nnnn nnnn nnnn nnnn nnnn nnnn nnnn nnnn nnnn nnnn nnnn nnnn nnnn nnnn nnnn nnnn nnnn nnnn nnnn nnnn nnnn nnnn nnnn nnnn nnnn nnnn nnnn nnnn nnnn nnnn nnnn nnnn nnnn nnnn nnnn nnnn nnnn nnnn nnnn nnnn nnnn nnnn nnnn nnnn nnnn nnnn nnnn nnnn nnnn nnnn nnnn nnnn nnnn nnnn nnnn nnnn nnnn nnnn nnnn nnnn nnnn nnnn nnnn nnnn nnnn nnnn nnnn nnnn nnnn nnnn nnnn nnnn nnnn nnnn nnnn nnnn nnnn nnnn nnnn nnnn nnnn nnnn nnnn nnnn nnnn nnnn nnnn nnnn nnnn nnnn nnnn nnnn nnnn nnnn nnnn nnnn nnnn nnnn nnnn nnnn nnnn nnnn nnnn nnnn nnnn nnnn nnnn nnnn nnnn nnnn nnnn nnnn nnnn nnnn nnnn nnnn nnnn nnnn nnnn nnnn nnnn nnnn nnnn nnnn nnnn nnnn nnnn nnnn nnnn nnnn nnnn nnnn nnnn nnnn nnnn nnnn nnnn nnnn nnnn nnnn nnnn nnnn nnnn nnnn nnnn nnnn nnnn nnnn nnnn nnnn nnnn nnnn nnnn nnnn nnnn nnnn nnnn nnnn nnnn nnnn nnnn nnnn nnnn nnnn nnnn nnnn nnnn nnnn nnnn nnnn nnnn nnnn nnnn nnnn nnnn nnnn nnnn nnnn nnnn nnnn nnnn nnnn nnnn nnnn nnnn nnnn nnnn nnnn nnnn nnnn nnnn nnnn nnnn nnnn nnnn nnnn nnnn nnnn nnnn nnnn nnnn nnnn nnnn nnnn nnnn nnnn nnnn nnnn nnnn nnnn nnnn nnnn nnnn nnnn nnnn nnnn nnnn nnnn nnnn nnnn nnnn nnnn nnnn nnnn nnnn nnnn nnnn nnnn nnnn nnnn nnnn nnnn nnnn nnnn nnnn nnnn nnnn nnnn nnnn nnnn nnnn nnnn nnnn nnnn nnnn nnnn nnnn nnnn nnnn nnnn nnnn nnnn nnnn nnnn nnnn nnnn nnnn nnnn nnnn nnnn nnnn nnnn nnnn nnnn nnnn nnnn nnnn nnnn nnnn nnnn nnnn nnnn nnnn nnnn nnnn nnnn nnnn nnnn nnnn nnnn nnnn nnnn nnnn nnnn nnnn nnnn nnnn nnnn nnnn nnnn nnnn nnnn nnnn nnnn nnnn nnnn nnnn nnnn nnnn nnnn nnnn nnnn nnnn nnnn nnnn nnnn nnnn nnnn nnnn nnnn nnnn nnnn nnnn nnnn nnnn nnnn nnnn nnnn nnnn nnnn nnnn nnnn nnnn nnnn nnnn nnnn nnnn nnnn nnnn nnnn nnnn nnnn nnnn nnnn nnnn nnnn nnnn nnnn nnnn nnnn nnnn nnnn nnnn nnnn nnnn nnnn nnnn nnnn nnnn nnnn nnnn nnnn nnnn nnnn nnnn nnnn nnnn nnnn nnnn nnnn nnnn nnnn nnnn nnnn nnnn nnnn nnnn nnnn nnnn nnnn nnnn nnnn nnnn nnnn nnnn nnnn nnnn nnnn nnnn nnnn nnnn nnnn nnnn nnnn nnnn nnnn nnnn nnnn nnnn nnnn nnnn nnnn nnnn nnnn nnnn nnnn nnnn nnnn nnnn nnnn nnnn nnnn nnnn nnnn nnnn nnnn nnnn nnnn nnnn nnnn nnnn nnnn nnnn nnnn nnnn nnnn nnnn nnnn nnnn nnnn nnnn nnnn nnnn nnnn nnnn nnnn nnnn nnnn nnnn nnnn nnnn nnnn nnnn nnnn nnnn nnnn nnnn nnnn nnnn nnnn nnnn nnnn nnnn nnnn nnnn nnnn nnnn nnnn nnnn nnnn nnnn nnnn nnnn nnnn nnnn nnnn nnnn nnnn nnnn nnnn nnnn nnnn nnnn nnnn nnnn nnnn nnnn nnnn nnnn nnnn nnnn nnnn nnnn nnnn nnnn nnnn nnnn nnnn nnnn nnnn nnnn nnnn nnnn nnnn nnnn nnnn nnnn nnnn nnnn nnnn nnnn nnnn nnnn nnnn nnnn nnnn nnnn nnnn nnnn nnnn nnnn nnnn nnnn nnnn nnnn nnnn nnnn nnnn nnnn nnnn nnnn nnnn nnnn nnnn nnnn nnnn nnnn nnnn nnnn nnnn nnnn nnnn nnnn nnnn nnnn nnnn nnnn nnnn nnnn nnnn nnnn nnnn nnnn nnnn nnnn nnnn nnnn nnnn nnnn nnnn nnnn nnnn nnnn nnnn nnnn nnnn nnnn nnnn nnnn nnnn nnnn nnnn nnnn nnnn nnnn nnnn nnnn nnnn nnnn nnnn nnnn nnnn nnnn nnnn nnnn nnnn nnnn nnnn nnnn nnnn nnnn nnnn nnnn nnnn nnnn nnnn nnnn nnnn nnnn nnnn nnnn nnnn nnnn nnnn nnnn nnnn nnnn nnnn nnnn nnnn nnnn nnnn nnnn nnnn nnnn nnnn nnnn nnnn nnnn nnnn nnnn nnnn nnnn nnnn nnnn nnnn nnnn nnnn nnnn nnnn nnnn nnnn nnnn nnnn nnnn nnnn nnnn nnnn nnnn nnnn nnnn nnnn nnnn nnnn nnnn nnnn nnnn nnnn nnnn nnnn nnnn nnnn nnnn nnnn nnnn nnnn nnnn nnnn nnnn nnnn nnnn nnnn nnnn nnnn nnnn nnnn nnnn nnnn nnnn nnnn nnnn nnnn nnnn nnnn nnnn nnnn nnnn nnnn nnnn nnnn nnnn nnnn nnnn nnnn nnnn nnnn nnnn nnnn nnnn nnnn nnnn nnnn nnnn nnnn nnnn nnnn\n",
            "\n",
            "> atcg tcgt cgtt gttc ttcg tcgt cgtg gtgc tgca gcat catg atgt tgta gtat tata ataa taat aatt attt tttt tttt tttt tttg ttgt tgtt gttg ttga tgac gact actt cttt ttta ttat tatt attt tttt tttt tttt tttt tttc ttcg tcga cgac gacc acca ccaa caaa aaaa aaat aata atat tatt attt tttt tttg ttgc tgct gcta ctat tatt attg ttga tgag gagt agta gtaa taat aatc atcg tcga cgag gaga agaa gaaa aaaa aaaa aaat aatg atgt tgtc gtct tcta ctac taca acaa caaa aaag aagt agtc gtca tcaa caag aagt agtc gtca tcaa caag aaga agaa gaac aaca acag cagt agtg gtgg tggg ggga ggat gatt attt tttg ttgg tggt ggta gtag tagg agga ggaa gaaa aaaa aaat aatg atgt tgtg gtga tgaa gaac aaca acat catg atgc tgct gctg ctga tgaa gaac aaca acat catg atga tgac gaca acat cata atat tata ataa taaa aaat aata atat tatg atga tgaa gaat aatg atgg tgga ggat gatt attt tttt tttt tttt tttc ttct tctc ctcc tcct ccta ctat tatt attc ttcg tcga cgat gatt attt tttc ttcc tccg ccgt cgta gtat tatt attg ttgt tgta gtac taca acaa caag aaga agat gatt attt tttt tttg ttgc tgct gctg ctga tgaa gaat aatt atta ttaa taag aagc agct gctc ctcg tcgt cgtt gttt tttt ttta ttaa taag aagt agta gtag taga agat gatg atgc tgct gctt cttt tttc ttcc tcca ccat catc atct tctt cttt ttta ttac taca acat catt attt tttt tttc ttcg tcgt cgta gtaa taac aacg acgc cgca gcac cact actg ctgt tgta gtat tatt attt tttc ttcc tcca ccat catg atgc tgca gcat catt attc ttca tcag cagt agtt gtta ttag tagt agtg gtgc tgcc gccc ccca ccac cact actt cttg ttga tgat gatt attt ttta ttag tagc agca gcat catt attg ttga tgag gagt agta gtaa taag aagg aggt ggtt gttt tttt tttt tttt tttt tttt tttt tttt tttt ttta ttag tagt agtt gttt ttta ttat tatt attt tttt tttt ttta ttag tagg aggg gggt ggtt gttg ttgg tggt ggtc gtca tcaa caat aata ataa taaa aaat aata ataa taaa aaaa aaaa aaag aagg aggt ggtg gtgg tggg gggc ggca gcaa caaa aaac aaca acaa caac aact actt cttt tttt tttg ttga tgaa gaat aata atag taga agac gact actt ctta ttat tata atac taca acaa caaa aaat aata ataa taat aatg atgg tggc ggcg gcgg cggt ggtc gtct tctt ctta ttac tact acta ctag tagt agtt gttt tttg ttgt tgtc gtca tcag caga agag gagc agct gctt cttc ttca tcaa caag aagt agtg gtga tgaa gaat aata atag taga agat gata atag taga agat gata atag tagg aggc ggcc gcct cctc ctca tcaa caac aact actg ctgc tgca gcag cagt agtg gtga tgat gata atat tatc atca tcaa caaa aaat aata atag tagg aggg gggg gggt ggtt gttt tttg ttgg tggt ggtt gtta ttat tatt attt ttta ttaa taat aata ataa taat aata ataa taaa aaaa aaac aacg acgt cgtg gtgt tgtt gtta ttaa taaa aaaa aaaa aaaa aaaa aaaa aaat aatt attt tttc ttca tcaa caat aatt atta ttaa taat aatt attt tttt tttt tttc ttct tctg ctga tgat gatt attc ttca tcat catc atca tcaa caac aacc acct cctt cttt tttc ttct tctg ctga tgaa gaat aata atac tacc acca ccag cagc agcc gccg ccgt cgtg gtga tgac gaca acat catc atca tcaa caat aatt atta ttaa taaa aaat aatg atgg tggc ggct gcta ctaa taat aatc atcg tcgc cgcc gcca ccac cacc acct cctg ctga tgaa gaat aatc atca tcat catt attc ttcc tccc ccct ccta ctaa taac aacc accg ccgg cgga ggaa gaaa aaac aaca acat catc atct tcta ctag taga agag gaga agac gaca acat catg atgc tgca gcag cagt agtc gtct tctg ctgc tgca gcaa caac aact acta ctat tatt attt ttta ttat tata atag taga agaa gaaa aaac aact acta ctac tact acta ctat tata atat tatc atct tcta ctac tact acta ctat tata atat tatc atct tctt cttt tttg ttgt tgtt gtta ttat tatt atta ttat tatc atct tctt cttg ttgc tgca gcat cata ataa taat aatt attg ttga tgaa gaaa aaaa aaac aact acta ctat tatg atgc tgca gcat cata ataa taat aatt attt ttta ttat tatg atgc tgca gcaa caaa aaat aatg atgc tgca gcaa caat aatt atta ttaa taat aatc atca tcaa caac aacg acga cgat gatt atta ttaa taat aatg atgg tgga ggag gagc agcc gcct cctc ctcg tcgt cgtc gtct tctc ctcc tcca ccat catc atca tcat catc atca tcat catt attt tttt tttt tttt ttta ttat tatt attt ttta ttac tact actt cttt tttg ttgt tgtt gtta ttat tatt atta ttac taca acat cata atac taca acaa caac aaca acaa caat aatt attt ttta ttat tata atag tagc agcg gcgc cgct gctt cttg ttgc tgca gcat cata atat tatt attt tttt tttc ttca tcac cacg acga cgat gatt attt tttt tttt tttt tttg ttgc tgcc gcca ccat cata ataa taaa aaat aatt attt tttt ttta ttac taca acat catt attg ttgg tgga ggaa gaaa aaaa aaaa aaaa aaat aatg atgc tgct gcta ctaa taaa aaaa aaag aagc agcg gcgc cgcg gcgt cgtt gttt tttg ttga tgaa gaaa aaag aagc agcc gcca ccat catt attc ttcg tcgc cgca gcaa caaa aaat aatc atca tcac cact actt cttt ttta ttaa taac aacg acga cgat gatt attc ttcg tcga cgag gaga agaa gaat aatg atgc tgca gcaa caac aact actt cttt tttt tttt tttc ttcg tcgg cggt ggtt gttg ttgc tgcc gccc cccc ccct cctt cttt tttc ttcg tcgt cgtt gttt ttta ttag tagt agtg gtgc tgct gctt cttg ttga tgat gatt attt tttt tttt tttt tttg ttgt tgtg gtgt tgtt gttc ttcc tcct cctt cttg ttgc tgca gcag cagt agta gtat tata atat tatg atgt tgta gtat tata atat tata atat tatt attt tttc ttct tcta ctat tatg atgt tgta gtac taca acat catt attt tttc ttcg tcgc cgct gctt cttt ttta ttaa taat aatg atgg tggc ggcg gcgt cgtc gtct tctc ctcg tcga cgag gagg aggc ggca gcac cact actc ctcg tcgc cgcc gcct cctt cttt\n",
            "= nnnn nnnn nnnn nnnn nnnn nnnn nnnn nnnn nnnn nnnn nnnn nnnn nnnn nnnn nnnn nnnn nnnn nnnn nnnn nnnn nnnn nnnn nnnn nnnn nnnn nnnn nnnn nnnn nnnn nnnn nnnn nnnn nnnr nnrr nrrr rrrr rrrr rrrr rrrr rrrn rrnn rnnn nnnn nnnn nnnn nnnn nnnn nnnn nnnn nnnn nnnn nnnn nnnn nnnn nnnn nnnn nnnn nnnn nnnn nnnn nnnn nnnn nnnn nnnn nnnn nnnn nnnn nnnn nnnn nnnn nnnn nnnn nnnn nnnn nnnn nnnn nnnn nnnn nnnn nnnn nnnn nnnn nnnn nnnn nnnn nnnn nnnn nnnn nnnn nnnn nnnn nnnn nnnn nnnn nnnn nnnn nnnn nnnn nnnn nnnn nnnn nnnn nnnn nnnn nnnn nnnn nnnn nnnn nnnn nnnn nnnn nnnn nnnn nnnn nnnn nnnn nnnn nnnn nnnn nnnn nnnn nnnn nnnn nnnn nnnn nnnn nnnn nnnn nnnn nnnn nnnn nnnn nnnn nnnn nnnn nnnn nnnn nnnn nnnn nnnn nnnn nnnn nnnn nnnn nnnn nnnn nnnn nnnn nnnn nnnn nnnn nnnn nnnn nnnn nnnn nnnn nnnn nnnn nnnn nnnn nnnn nnnn nnnn nnnn nnnn nnnn nnnn nnnn nnnn nnnn nnnn nnnn nnnn nnnn nnnn nnnn nnnn nnnn nnnn nnnn nnnn nnnn nnnn nnnn nnnn nnnn nnnn nnnn nnnn nnnn nnnn nnnn nnnn nnnn nnnn nnnn nnnn nnnn nnnn nnnn nnnn nnnn nnnn nnnn nnnn nnnn nnnn nnnn nnnn nnnn nnnn nnnn nnnn nnnn nnnn nnnn nnnn nnnn nnnn nnnn nnnn nnnn nnnn nnnn nnnn nnnn nnnn nnnn nnnn nnnn nnnn nnnn nnnn nnnn nnnn nnnn nnnn nnnn nnnn nnnn nnnn nnnn nnnn nnnn nnnn nnnn nnnn nnnn nnnn nnnn nnnn nnnn nnnn nnnn nnnn nnnn nnnn nnnn nnnn nnnn nnnn nnnn nnnn nnnn nnnn nnnn nnnn nnnn nnnn nnnn nnnn nnnn nnnn nnnn nnnn nnnn nnnn nnnn nnnn nnnn nnnn nnnn nnnn nnnn nnnn nnnn nnnn nnnn nnnn nnnn nnnn nnnn nnnn nnnn nnnn nnnn nnnn nnnn nnnn nnnn nnnn nnnn nnnn nnnn nnnn nnnr nnrr nrrr rrrr rrrr rrrr rrrr rrrr rrrr rrrr rrrr rrrr rrrr rrrr rrrr rrrr rrrr rrrr rrrr rrrr rrrr rrrr rrrn rrnn rnnn nnnn nnnn nnnn nnnn nnnn nnnn nnnn nnnn nnnn nnnn nnnn nnnn nnnn nnnn nnnn nnnn nnnn nnnn nnnn nnnn nnnn nnnn nnnn nnnn nnnn nnnn nnnn nnnn nnnn nnnn nnnn nnnn nnnn nnnn nnnn nnnn nnnn nnnn nnnn nnnn nnnn nnnn nnnn nnnn nnnn nnnn nnnn nnnn nnnn nnnn nnnn nnnn nnnn nnnn nnnn nnnn nnnn nnnn nnnn nnnn nnnn nnnn nnnn nnnn nnnn nnnn nnnn nnnn nnnn nnnn nnnn nnnn nnnn nnnn nnnn nnnn nnnn nnnn nnnn nnnn nnnn nnnn nnnn nnnn nnnn nnnn nnnn nnnn nnnn nnnn nnnn nnnn nnnn nnnn nnnn nnnn nnnn nnnn nnnn nnnn nnnn nnnn nnnn nnnn nnnn nnnn nnnn nnnn nnnn nnnn nnnn nnnn nnnn nnnn nnnn nnnn nnnn nnnn nnnn nnnn nnnn nnnn nnnn nnnn nnnn nnnn nnnn nnnn nnnn nnnn nnnn nnnn nnnn nnnn nnnn nnnn nnnn nnnn nnnn nnnn nnnn nnnn nnnn nnnn nnnn nnnn nnnn nnnn nnnn nnnn nnnn nnnn nnnn nnnn nnnn nnnn nnnn nnnn nnnn nnnn nnnr nnrr nrrr rrrr rrrr rrrr rrrr rrrr rrrn rrnn rnnn nnnn nnnn nnnn nnnn nnnn nnnn nnnn nnnn nnnn nnnn nnnn nnnn nnnn nnnn nnnn nnnn nnnn nnnn nnnn nnnn nnnn nnnn nnnn nnnn nnnn nnnn nnnn nnnn nnnn nnnn nnnn nnnn nnnn nnnn nnnn nnnn nnnn nnnn nnnn nnnn nnnn nnnn nnnn nnnn nnnn nnnn nnnn nnnn nnnn nnnn nnnn nnnn nnnn nnnn nnnn nnnn nnnn nnnn nnnn nnnn nnnn nnnn nnnn nnnn nnnn nnnn nnnn nnnn nnnn nnnn nnnn nnnn nnnn nnnn nnnn nnnn nnnn nnnn nnnn nnnn nnnn nnnn nnnn nnnn nnnn nnnn nnnn nnnn nnnn nnnn nnnn nnnn nnnn nnnn nnnn nnnn nnnn nnnn nnnn nnnn nnnn nnnn nnnn nnnn nnnn nnnn nnnn nnnn nnnn nnnn nnnn nnnn nnnn nnnn nnnn nnnn nnnn nnnn nnnn nnnn nnnn nnnn nnnn nnnn nnnn nnnn nnnn nnnn nnnn nnnn nnnn nnnr nnrr nrrr rrrr rrrr rrrr rrrr rrrr rrrr rrrr rrrr rrrr rrrr rrrr rrrr rrrr rrrr rrrr rrrr rrrr rrrn rrnn rnnn nnnn nnnn nnnn nnnn nnnn nnnn nnnn nnnn nnnn nnnn nnnn nnnn nnnn nnnn nnnn nnnn nnnn nnnn nnnn nnnn nnnn nnnn nnnn nnnn nnnn nnnn nnnn nnnn nnnn nnnn nnnn nnnn nnnn nnnn nnnn nnnn nnnn nnnn nnnn nnnn nnnn nnnn nnnn nnnn nnnn nnnn nnnn nnnn nnnn nnnn nnnn nnnn nnnn nnnn nnnn nnnn nnnn nnnn nnnn nnnn nnnn nnnn nnnn nnnn nnnn nnnn nnnn nnnn nnnn nnnn nnnn nnnn nnnn nnnn nnnn nnnn nnnn nnnn nnnn nnnn nnnn nnnn nnnn nnnn nnnn nnnn nnnn nnnn nnnn nnnn nnnn nnnn nnnn nnnn nnnn nnnn nnnn nnnn nnnn nnnn nnnn nnnn nnnn nnnn nnnn nnnn nnnn nnnn nnnn nnnn nnnn nnnn nnnn nnnn nnnn nnnn nnnn nnnn nnnn nnnn nnnn nnnn nnnn nnnn nnnn nnnn nnnn nnnn nnnn nnnn nnnn nnnn nnnn nnnn nnnn nnnn nnnn nnnn nnnn nnnn nnnn nnnn nnnn nnnn nnnn nnnn nnnn nnnn nnnn nnnn nnnn nnnn nnnn nnnn nnnn nnnn nnnn nnnn nnnn nnnn nnnn nnnn nnnn nnnn nnnn nnnn nnnn nnnn nnnn nnnn nnnn nnnn nnnn nnnn nnnn nnnn nnnn nnnn nnnn nnnn nnnn nnnn nnnn nnnn nnnn nnnn nnnn nnnn nnnn nnnn nnnn nnnn nnnn nnnn nnnn nnnn nnnn nnnn nnnn nnnn nnnn nnnn nnnn nnnn nnnn nnnn nnnn nnnn nnnn nnnn nnnn nnnn nnnn nnnn nnnn nnnn nnnn nnnn nnnn nnnn nnnn nnnn nnnn nnnn nnnn nnnn nnnn nnnn nnnn nnnn nnnn nnnn nnnn nnnn nnnn nnnn nnnn nnnn nnnn nnnn nnnn nnnn nnnn nnnn nnnn nnnn nnnn nnnn nnnn nnnn nnnn nnnn nnnn nnnn nnnn nnnn nnnn nnnn nnnn nnnn nnnn nnnn nnnn nnnn nnnn nnnn nnnn nnnn nnnn nnnn nnnn nnnn nnnn nnnn nnnn nnnn nnnn nnnn nnnn nnnn nnnn nnnn nnnn nnnn nnnn nnnn nnnn nnnn nnnn nnnn nnnn nnnn nnnn nnnn nnnn nnnn nnnn nnnn nnnn nnnn nnnn nnnn nnnn nnnn nnnn nnnn nnnn nnnn nnnn nnnn nnnn nnnn nnnn nnnn nnnn nnnn nnnn nnnn nnnn nnnn nnnn nnnn nnnn nnnn nnnn nnnn nnnn nnnn nnnn nnnn nnnn nnnn nnnn nnnn nnnn nnnn nnnn nnnn nnnn nnnn nnnn nnnn\n",
            "< nnnn nnnn nnnn nnnn nnnn nnnn nnnn nnnn nnnn nnnn nnnn nnnn nnnn nnnn nnnn nnnn nnnn nnnn nnnn nnnn nnnn nnnn nnnn nnnn nnnn nnnn nnnn nnnn nnnn nnnn nnnn nnnn nnnn nnnn nnnn nnnn nnnn nnnn nnnn nnnn nnnn nnnn nnnn nnnn nnnn nnnn nnnn nnnn nnnn nnnn nnnn nnnn nnnn nnnn nnnn nnnn nnnn nnnn nnnn nnnn nnnn nnnn nnnn nnnn nnnn nnnn nnnn nnnn nnnn nnnn nnnn nnnn nnnn nnnn nnnn nnnn nnnn nnnn nnnn nnnn nnnn nnnn nnnn nnnn nnnn nnnn nnnn nnnn nnnn nnnn nnnn nnnn nnnn nnnn nnnn nnnn nnnn nnnn nnnn nnnn nnnn nnnn nnnn nnnn nnnn nnnn nnnn nnnn nnnn nnnn nnnn nnnn nnnn nnnn nnnn nnnn nnnn nnnn nnnn nnnn nnnn nnnn nnnn nnnn nnnn nnnn nnnn nnnn nnnn nnnn nnnn nnnn nnnn nnnn nnnn nnnn nnnn nnnn nnnn nnnn nnnn nnnn nnnn nnnn nnnn nnnn nnnn nnnn nnnn nnnn nnnn nnnn nnnn nnnn nnnn nnnn nnnn nnnn nnnn nnnn nnnn nnnn nnnn nnnn nnnn nnnn nnnn nnnn nnnn nnnn nnnn nnnn nnnn nnnn nnnn nnnn nnnn nnnn nnnn nnnn nnnn nnnn nnnn nnnn nnnn nnnn nnnn nnnn nnnn nnnn nnnn nnnn nnnn nnnn nnnn nnnn nnnn nnnn nnnn nnnn nnnn nnnn nnnn nnnn nnnn nnnn nnnn nnnn nnnn nnnn nnnn nnnn nnnn nnnn nnnn nnnn nnnn nnnn nnnn nnnn nnnn nnnn nnnn nnnn nnnn nnnn nnnn nnnn nnnn nnnn nnnn nnnn nnnn nnnn nnnn nnnn nnnn nnnn nnnn nnnn nnnn nnnn nnnn nnnn nnnn nnnn nnnn nnnn nnnn nnnn nnnn nnnn nnnn nnnn nnnn nnnn nnnn nnnn nnnn nnnn nnnn nnnn nnnn nnnn nnnn nnnn nnnn nnnn nnnn nnnn nnnn nnnn nnnn nnnn nnnn nnnn nnnn nnnn nnnn nnnn nnnn nnnn nnnn nnnn nnnn nnnn nnnn nnnn nnnn nnnn nnnn nnnn nnnn nnnn nnnn nnnn nnnn nnnn nnnn nnnn nnnn nnnn nnnn nnnn nnnn nnnn nnnn nnnn nnnn nnnn nnnn nnnn nnnn nnnn nnnn nnnn nnnn nnnn nnnn nnnn nnnn nnnn nnnn nnnn nnnn nnnn nnnn nnnn nnnn nnnn nnnn nnnn nnnn nnnn nnnn nnnn nnnn nnnn nnnn nnnn nnnn nnnn nnnn nnnn nnnn nnnn nnnn nnnn nnnn nnnn nnnn nnnn nnnn nnnn nnnn nnnn nnnn nnnn nnnn nnnn nnnn nnnn nnnn nnnn nnnn nnnn nnnn nnnn nnnn nnnn nnnn nnnn nnnn nnnn nnnn nnnn nnnn nnnn nnnn nnnn nnnn nnnn nnnn nnnn nnnn nnnn nnnn nnnn nnnn nnnn nnnn nnnn nnnn nnnn nnnn nnnn nnnn nnnn nnnn nnnn nnnn nnnn nnnn nnnn nnnn nnnn nnnn nnnn nnnn nnnn nnnn nnnn nnnn nnnn nnnn nnnn nnnn nnnn nnnn nnnn nnnn nnnn nnnn nnnn nnnn nnnn nnnn nnnn nnnn nnnn nnnn nnnn nnnn nnnn nnnn nnnn nnnn nnnn nnnn nnnn nnnn nnnn nnnn nnnn nnnn nnnn nnnn nnnn nnnn nnnn nnnn nnnn nnnn nnnn nnnn nnnn nnnn nnnn nnnn nnnn nnnn nnnn nnnn nnnn nnnn nnnn nnnn nnnn nnnn nnnn nnnn nnnn nnnn nnnn nnnn nnnn nnnn nnnn nnnn nnnn nnnn nnnn nnnn nnnn nnnn nnnn nnnn nnnn nnnn nnnn nnnn nnnn nnnn nnnn nnnn nnnn nnnn nnnn nnnn nnnn nnnn nnnn nnnn nnnn nnnn nnnn nnnn nnnn nnnn nnnn nnnn nnnn nnnn nnnn nnnn nnnn nnnn nnnn nnnn nnnn nnnn nnnn nnnn nnnn nnnn nnnn nnnn nnnn nnnn nnnn nnnn nnnn nnnn nnnn nnnn nnnn nnnn nnnn nnnn nnnn nnnn nnnn nnnn nnnn nnnn nnnn nnnn nnnn nnnn nnnn nnnn nnnn nnnn nnnn nnnn nnnn nnnn nnnn nnnn nnnn nnnn nnnn nnnn nnnn nnnn nnnn nnnn nnnn nnnn nnnn nnnn nnnn nnnn nnnn nnnn nnnn nnnn nnnn nnnn nnnn nnnn nnnn nnnn nnnn nnnn nnnn nnnn nnnn nnnn nnnn nnnn nnnn nnnn nnnn nnnn nnnn nnnn nnnn nnnn nnnn nnnn nnnn nnnn nnnn nnnn nnnn nnnn nnnn nnnn nnnn nnnn nnnn nnnn nnnn nnnn nnnn nnnn nnnn nnnn nnnn nnnn nnnn nnnn nnnn nnnn nnnn nnnn nnnn nnnn nnnn nnnn nnnn nnnn nnnn nnnn nnnn nnnn nnnn nnnn nnnn nnnn nnnn nnnn nnnn nnnn nnnn nnnn nnnn nnnn nnnn nnnn nnnn nnnn nnnn nnnn nnnn nnnn nnnn nnnn nnnn nnnn nnnn nnnn nnnn nnnn nnnn nnnn nnnn nnnn nnnn nnnn nnnn nnnn nnnn nnnn nnnn nnnn nnnn nnnn nnnn nnnn nnnn nnnn nnnn nnnn nnnn nnnn nnnn nnnn nnnn nnnn nnnn nnnn nnnn nnnn nnnn nnnn nnnn nnnn nnnn nnnn nnnn nnnn nnnn nnnn nnnn nnnn nnnn nnnn nnnn nnnn nnnn nnnn nnnn nnnn nnnn nnnn nnnn nnnn nnnn nnnn nnnn nnnn nnnn nnnn nnnn nnnn nnnn nnnn nnnn nnnn nnnn nnnn nnnn nnnn nnnn nnnn nnnn nnnn nnnn nnnn nnnn nnnn nnnn nnnn nnnn nnnn nnnn nnnn nnnn nnnn nnnn nnnn nnnn nnnn nnnn nnnn nnnn nnnn nnnn nnnn nnnn nnnn nnnn nnnn nnnn nnnn nnnn nnnn nnnn nnnn nnnn nnnn nnnn nnnn nnnn nnnn nnnn nnnn nnnn nnnn nnnn nnnn nnnn nnnn nnnn nnnn nnnn nnnn nnnn nnnn nnnn nnnn nnnn nnnn nnnn nnnn nnnn nnnn nnnn nnnn nnnn nnnn nnnn nnnn nnnn nnnn nnnn nnnn nnnn nnnn nnnn nnnn nnnn nnnn nnnn nnnn nnnn nnnn nnnn nnnn nnnn nnnn nnnn nnnn nnnn nnnn nnnn nnnn nnnn nnnn nnnn nnnn nnnn nnnn nnnn nnnn nnnn nnnn nnnn nnnn nnnn nnnn nnnn nnnn nnnn nnnn nnnn nnnn nnnn nnnn nnnn nnnn nnnn nnnn nnnn nnnn nnnn nnnn nnnn nnnn nnnn nnnn nnnn nnnn nnnn nnnn nnnn nnnn nnnn nnnn nnnn nnnn nnnn nnnn nnnn nnnn nnnn nnnn nnnn nnnn nnnn nnnn nnnn nnnn nnnn nnnn nnnn nnnn nnnn nnnn nnnn nnnn nnnn nnnn nnnn nnnn nnnn nnnn nnnn nnnn nnnn nnnn nnnn nnnn nnnn nnnn nnnn nnnn nnnn nnnn nnnn nnnn nnnn nnnn nnnn nnnn nnnn nnnn nnnn nnnn nnnn nnnn nnnn nnnn nnnn nnnn nnnn nnnn nnnn nnnn nnnn nnnn nnnn nnnn nnnn nnnn nnnn nnnn nnnn nnnn nnnn nnnn nnnn nnnn nnnn nnnn nnnn nnnn nnnn nnnn nnnn nnnn nnnn nnnn nnnn nnnn nnnn nnnn nnnn nnnn nnnn nnnn nnnn nnnn nnnn nnnn nnnn nnnn nnnn nnnn nnnn nnnn nnnn nnnn nnnn nnnn nnnn nnnn nnnn nnnn nnnn nnnn nnnn nnnn nnnn nnnn nnnn nnnn nnnn nnnn nnnn nnnn nnnn nnnn nnnn nnnn nnnn nnnn nnnn\n",
            "\n",
            "> tcat catt attc ttcc tccg ccgt cgtc gtcc tccc cccc ccca ccac cact actt cttc ttct tctt cttc ttcc tcct cctc ctcc tcct cctc ctct tctg ctgt tgtc gtca tcat catg atgc tgcc gcct cctt cttc ttcc tcct cctc ctct tctt cttc ttcc tcca ccac cact actc ctca tcag cagt agtt gttt tttg ttgg tggt ggtg gtgc tgcc gccc cccc ccct cctg ctgt tgtc gtcc tcct cctc ctct tctg ctgc tgcc gccc cccc ccca ccag cagt agtt gttc ttcc tcct cctc ctcc tccc ccca ccaa caat aatc atct tctc ctca tcag cagt agtc gtcg tcgc cgca gcat catc atct tctc ctca tcag cagt agtc gtcg tcgt cgtc gtca tcat cata ataa taag aagc agcc gcca ccat catc atcg tcgc cgca gcac cacg acgt cgtc gtcc tcca ccag cagc agct gcta ctag tagt agta gtaa taat aatt attc ttcc tcca ccat catg atgc tgcg gcgt cgta gtaa taac aacc accg ccgt cgta gtag tagg aggt ggtg gtga tgat gatc atca tcat catg atga tgat gatc atcc tccg ccgg cgga ggaa gaag aaga agat gatg atgc tgcc gccc cccg ccgc cgcc gccg ccgt cgtc gtcg tcgt cgtc gtca tcat catc atca tcat catg atgc tgcc gccg ccgc cgcc gccg ccgc cgcc gccg ccgc cgca gcag cagc agcc gccg ccgc cgcc gccg ccgt cgtg gtgg tggg ggga ggaa gaag aagt agtc gtcc tccc ccca ccaa caag aagc agca gcat catc atca tcac cacc acca ccat catc atca tcat catc atca tcag cagc agca gcag cagc agca gcaa caac aaca acag cagc agca gcaa caac aacc acct cctg ctgc tgct gctc ctcc tcct cctc ctcc tcct cctc ctcc tcca ccac caca acag cagc agca gcag cagc agca gcaa caac aaca acag cagc agca gcag cagc agca gcag cagt agta gtat tatc atca tcag cagc agcc gcca ccac caca acag cagc agcc gcca ccac cacc accg ccgc cgcc gccg ccgc cgca gcag cagc agca gcag cagg aggt ggtg gtgt tgtt gttg ttgc tgcc gccc cccc ccca ccag cagc agcc gcca ccac caca acag cagc agcc gccc ccca ccag cagc agca gcat catc atca tcaa caag aagt agta gtat tatg atga tgag gagc agcc gccc cccg ccgg cggc ggcc gcca ccag cagt agtc gtcg tcgc cgca gcaa caaa aaaa aaag aaga agaa gaaa aaac aacg acgc cgca gcat catc atct tctt cttg ttgg tggc ggcc gcca ccat catg atgg tggc ggct gctc ctca tcaa caaa aaag aagc agcg gcga cgaa gaat aatg atgt tgtg gtgg tggc ggct gcta ctac tacc acca ccaa caac aacc acct cctc ctca tcag cagg aggt ggtt gttc ttcc tccc ccca ccag cagc agcc gcca ccag cagc agcc gccg ccgt cgtc gtcg tcgt cgtc gtct tctt cttc ttcg tcgg cggc ggcc gcca ccag cagt agtt gttt tttg ttgc tgcc gccg ccgc cgca gcac caca acat catt attc ttcc tccc ccca ccac cacc acca ccaa caag aagc agca gcag cagg agga ggag gagc agcc gcca ccag cagc agcc gccg ccga cgaa gaat aatt attt tttt ttta ttat tatc atcc tccg ccgg cgga ggag gagt agta gtat tatg atgc tgca gcag cagc agct gctg ctgc tgct gctc ctcc tccg ccgc cgcc gccg ccgc cgca gcaa caac aaca acag cagt agtt gtta ttag taga agac gaca acac caca acaa caaa aaag aagc agcg gcgc cgct gctc ctcc tcct cctc ctcc tcct cctg ctgg tggg gggc ggca gcac cacc acct ccta ctac taca acat catc atct tctt cttc ttcg tcgg cggg ggga ggat gatc atca tcag cagg agga ggag gagt agtg gtgt tgtc gtcc tccg ccgc cgct gctc ctct tctc ctcc tccc cccg ccgc cgct gctt cttg ttgc tgct gctc ctca tcat catc atcc tcca ccaa caaa aaag aagc agcg gcga cgag gaga agag gagg aggc ggcc gccc cccc cccc ccct cctc ctct tctg ctgt tgta gtag tagc agct gctc ctcc tccc ccca ccat cata ataa taag aagc agct gcta ctat tatg atgt tgta gtag tagc agcc gccc cccc cccg ccgt cgtc gtct tctg ctgt tgtg gtgg tggc ggct gctc ctcc tccg ccgc cgcc gcca ccat catt atta ttag tagc agcc gccc ccca ccac cact actc ctcc tcca ccaa caag aaga agag gagc agca gcag cagt agtt gttc ttcc tccg ccgc cgca gcat catc atca tcat catc atca tcat catc atcg tcgt cgtc gtcg tcgt cgtc gtcg tcga cgat gata ataa taag aagc agcg gcgc cgct gctg ctgc tgcg gcga cgac gact actg ctgc tgcc gccg ccgc cgca gcag cagc agca gcag cagc agct gctg ctgc tgct gctg ctgc tgca gcag cagc agct gctg ctgc tgca gcag cagc agcg gcgg cggc ggcg gcgg cggc ggcg gcgg cggc ggcc gcca ccag cagc agcg gcgt cgtt gttg ttgg tggt ggtc gtcc tcct cctc ctcc tcca ccat catc atcg tcgt cgtg gtgg tggg gggg gggt ggtc gtcc tcct cctc ctcc tcca ccac caca acag cagg aggt ggtc gtct tcta ctat tatc atcg tcgt cgtc gtca tcag cagc agcc gcca ccat catc atca tcac caca acag cagc agcc gccg ccgc cgcc gcct cctc ctcc tccg ccgg cggg gggc ggca gcag cagc agcg gcgt cgtg gtgg tggg ggga ggac gact acta ctac tacc acca ccag cagg agga ggaa gaag aagc agca gcac cact actc ctca tcag cagc agcc gccg ccgc cgcc gccg ccgc cgcc gccg ccgt cgtc gtcg tcga cgag gagt agtg gtgt tgtg gtgg tggc ggcc gccc cccc cccg ccgc cgca gcat catc atcc tccg ccgc cgca gcat catc atca tcac cacc acca ccac caca acag cagt agtc gtca tcat catg atgg tgga ggac gaca acat catc atca tcat catc atca tcat catc atca tcac cacc acca ccag cagg aggc ggcc gccg ccgg cgga ggaa gaac aaca acac cacc accg ccgc cgct gctg ctgg tggg gggc ggcg gcgg cgga ggat gatc atcg tcgc cgcc gcca ccat catc atca tcat catc atca tcaa caac aacg acgg cggc ggcg gcgg cggc ggcg gcgg cggc ggcc gccg ccgc cgct gctt cttt tttg ttgt tgtt gttg ttgc tgca gcag cagc agcc gccc cccg ccga cgat gata atat tatt attt ttta ttat tatg atgc tgcg gcgc cgca gcaa caag aagg aggc ggcg gcga cgac gaca acat catt attt ttta ttac tacc accg ccgc cgcc gccg ccgg cggc ggcc gccc ccca ccac caca\n",
            "= nnnn nnnn nnnn nnnn nnnn nnnn nnnn nnnn nnnn nnnn nnnn nnnn nnnn nnnn nnnn nnnn nnnn nnnn nnnn nnnn nnnn nnnn nnnn nnnn nnnn nnnn nnnn nnnn nnnn nnnn nnnn nnnn nnnn nnnn nnnn nnnn nnnn nnnn nnnn nnnn nnnn nnnn nnnn nnnn nnnn nnnn nnnn nnnn nnnn nnnn nnnn nnnn nnnn nnnn nnnn nnnn nnnn nnnn nnnn nnnn nnnn nnnn nnnn nnnn nnnn nnnn nnnn nnnn nnnn nnnn nnnn nnnn nnnn nnnn nnnn nnnn nnnn nnnn nnnn nnnn nnnn nnnn nnnn nnnn nnnn nnnn nnnn nnnn nnnn nnnn nnnn nnnn nnnn nnnn nnnn nnnn nnnn nnnn nnnn nnnn nnnn nnnn nnnn nnnn nnnn nnnn nnnn nnnn nnnn nnnn nnnn nnnn nnnn nnnn nnnn nnnn nnnn nnnn nnnn nnnn nnnn nnnn nnnn nnnn nnnn nnnn nnnn nnnn nnnn nnnn nnnn nnnn nnnn nnnn nnnn nnnn nnnn nnnn nnnn nnnn nnnn nnnn nnnn nnnn nnnn nnnn nnnn nnnn nnnn nnnn nnnn nnnn nnnn nnnn nnnn nnnn nnnn nnnn nnnn nnnn nnnn nnnn nnnn nnnn nnnn nnnn nnnn nnnn nnnn nnnn nnnn nnnn nnnn nnnn nnnn nnnn nnnn nnnn nnnn nnnn nnnn nnnn nnnn nnnn nnnn nnnn nnnn nnnn nnnn nnnn nnnn nnnn nnnn nnnn nnnn nnnn nnnn nnnn nnnn nnnn nnnn nnnn nnnn nnnn nnnn nnnn nnnn nnnn nnnn nnnn nnnn nnnn nnnn nnnn nnnn nnnn nnnn nnnn nnnn nnnn nnnn nnnn nnnn nnnn nnnn nnnn nnnn nnnn nnnn nnnn nnnn nnnn nnnn nnnn nnnn nnnr nnrr nrrr rrrr rrrr rrrr rrrr rrrr rrrr rrrr rrrr rrrr rrrr rrrr rrrr rrrr rrrr rrrr rrrr rrrr rrrr rrrr rrrr rrrr rrrr rrrr rrrr rrrr rrrr rrrr rrrr rrrr rrrr rrrr rrrr rrrr rrrr rrrr rrrr rrrr rrrr rrrr rrrr rrrr rrrr rrrr rrrr rrrr rrrr rrrr rrrr rrrr rrrr rrrr rrrr rrrr rrrr rrrr rrrr rrrr rrrr rrrr rrrr rrrr rrrr rrrr rrrr rrrr rrrr rrrr rrrr rrrr rrrr rrrr rrrr rrrr rrrr rrrr rrrr rrrr rrrr rrrr rrrr rrrr rrrr rrrr rrrr rrrr rrrr rrrr rrrr rrrr rrrr rrrr rrrr rrrr rrrr rrrr rrrr rrrr rrrn rrnn rnnn nnnn nnnn nnnn nnnn nnnn nnnn nnnn nnnn nnnn nnnn nnnn nnnn nnnn nnnn nnnn nnnn nnnn nnnn nnnn nnnn nnnn nnnn nnnn nnnn nnnn nnnn nnnn nnnn nnnn nnnn nnnn nnnn nnnn nnnn nnnn nnnn nnnn nnnn nnnn nnnn nnnn nnnn nnnn nnnn nnnn nnnn nnnn nnnn nnnn nnnn nnnn nnnn nnnn nnnn nnnn nnnn nnnn nnnn nnnn nnnn nnnn nnnn nnnn nnnn nnnn nnnn nnnn nnnn nnnn nnnn nnnn nnnn nnnn nnnn nnnn nnnn nnnn nnnn nnnn nnnn nnnn nnnn nnnn nnnn nnnn nnnn nnnn nnnn nnnn nnnn nnnn nnnn nnnn nnnn nnnn nnnn nnnn nnnn nnnn nnnn nnnn nnnn nnnn nnnn nnnn nnnn nnnn nnnn nnnn nnnn nnnn nnnn nnnn nnnn nnnn nnnn nnnn nnnn nnnn nnnn nnnn nnnn nnnn nnnn nnnn nnnn nnnn nnnn nnnn nnnn nnnn nnnn nnnn nnnn nnnn nnnn nnnn nnnn nnnn nnnn nnnn nnnn nnnn nnnn nnnn nnnn nnnn nnnn nnnn nnnn nnnn nnnn nnnn nnnn nnnn nnnn nnnn nnnn nnnn nnnn nnnn nnnn nnnn nnnn nnnn nnnn nnnn nnnn nnnn nnnn nnnn nnnn nnnn nnnn nnnn nnnn nnnn nnnn nnnn nnnn nnnn nnnn nnnn nnnn nnnn nnnn nnnn nnnn nnnn nnnn nnnn nnnn nnnn nnnn nnnn nnnn nnnn nnnn nnnn nnnn nnnn nnnn nnnn nnnn nnnn nnnn nnnn nnnn nnnn nnnn nnnn nnnn nnnn nnnn nnnn nnnn nnnn nnnn nnnn nnnn nnnn nnnn nnnn nnnn nnnn nnnn nnnn nnnn nnnn nnnn nnnn nnnn nnnn nnnn nnnn nnnn nnnn nnnn nnnn nnnn nnnn nnnn nnnn nnnn nnnn nnnn nnnn nnnn nnnn nnnn nnnn nnnn nnnn nnnn nnnn nnnn nnnn nnnn nnnn nnnn nnnn nnnn nnnn nnnn nnnn nnnn nnnn nnnn nnnn nnnn nnnn nnnn nnnn nnnn nnnn nnnn nnnn nnnn nnnn nnnn nnnn nnnn nnnn nnnn nnnn nnnn nnnn nnnn nnnn nnnn nnnn nnnn nnnn nnnn nnnn nnnn nnnn nnnn nnnn nnnn nnnn nnnn nnnn nnnn nnnn nnnn nnnn nnnn nnnn nnnn nnnn nnnn nnnn nnnn nnnn nnnn nnnn nnnn nnnn nnnn nnnn nnnn nnnn nnnn nnnn nnnn nnnn nnnn nnnn nnnn nnnn nnnn nnnn nnnn nnnn nnnn nnnn nnnn nnnn nnnn nnnn nnnn nnnn nnnn nnnn nnnn nnnn nnnn nnnn nnnn nnnn nnnn nnnn nnnn nnnn nnnn nnnn nnnn nnnn nnnn nnnn nnnn nnnn nnnn nnnn nnnn nnnn nnnn nnnn nnnn nnnn nnnn nnnn nnnn nnnn nnnn nnnn nnnn nnnn nnnn nnnn nnnn nnnn nnnn nnnn nnnn nnnn nnnn nnnn nnnn nnnn nnnn nnnn nnnn nnnn nnnn nnnn nnnn nnnn nnnn nnnn nnnn nnnn nnnn nnnn nnnn nnnn nnnn nnnn nnnn nnnn nnnn nnnn nnnn nnnn nnnn nnnn nnnn nnnn nnnn nnnn nnnn nnnn nnnn nnnn nnnn nnnn nnnn nnnn nnnn nnnn nnnn nnnn nnnn nnnn nnnn nnnn nnnn nnnn nnnn nnnn nnnn nnnn nnnn nnnn nnnn nnnn nnnn nnnn nnnn nnnn nnnn nnnn nnnn nnnn nnnn nnnn nnnn nnnn nnnn nnnn nnnn nnnn nnnn nnnn nnnn nnnn nnnn nnnn nnnn nnnn nnnn nnnn nnnn nnnn nnnn nnnn nnnn nnnn nnnn nnnn nnnn nnnn nnnn nnnn nnnn nnnn nnnn nnnn nnnn nnnn nnnn nnnn nnnn nnnn nnnn nnnn nnnn nnnn nnnn nnnn nnnn nnnn nnnn nnnn nnnn nnnn nnnn nnnn nnnn nnnn nnnn nnnn nnnn nnnn nnnn nnnn nnnn nnnn nnnn nnnn nnnn nnnn nnnn nnnn nnnn nnnn nnnn nnnn nnnn nnnn nnnn nnnn nnnn nnnn nnnn nnnn nnnn nnnn nnnn nnnn nnnn nnnn nnnn nnnn nnnn nnnn nnnn nnnn nnnn nnnn nnnn nnnn nnnn nnnn nnnn nnnn nnnn nnnn nnnn nnnn nnnn nnnn nnnn nnnn nnnn nnnn nnnn nnnn nnnn nnnn nnnn nnnn nnnn nnnn nnnn nnnn nnnn nnnn nnnn nnnn nnnn nnnn nnnn nnnn nnnn nnnn nnnn nnnn nnnn nnnn nnnn nnnn nnnn nnnn nnnn nnnn nnnn nnnn nnnn nnnn nnnn nnnn nnnn nnnn nnnn nnnn nnnn nnnn nnnn nnnn nnnn nnnn nnnn nnnn nnnn nnnn nnnn nnnn nnnn nnnn nnnn nnnn nnnn nnnn nnnn nnnn nnnn nnnn nnnn nnnn nnnn nnnn nnnn nnnn nnnn nnnn nnnn nnnn nnnn nnnn nnnn nnnn nnnn nnnn nnnn nnnn nnnn nnnn nnnn nnnn nnnn nnnn nnnn nnnn nnnn nnnn nnnn nnnn\n",
            "< nnnn nnnn nnnn nnnn nnnn nnnn nnnn nnnn nnnn nnnn nnnn nnnn nnnn nnnn nnnn nnnn nnnn nnnn nnnn nnnn nnnn nnnn nnnn nnnn nnnn nnnn nnnn nnnn nnnn nnnn nnnn nnnn nnnn nnnn nnnn nnnn nnnn nnnn nnnn nnnn nnnn nnnn nnnn nnnn nnnn nnnn nnnn nnnn nnnn nnnn nnnn nnnn nnnn nnnn nnnn nnnn nnnn nnnn nnnn nnnn nnnn nnnn nnnn nnnn nnnn nnnn nnnn nnnn nnnn nnnn nnnn nnnn nnnn nnnn nnnn nnnn nnnn nnnn nnnn nnnn nnnn nnnn nnnn nnnn nnnn nnnn nnnn nnnn nnnn nnnn nnnn nnnn nnnn nnnn nnnn nnnn nnnn nnnn nnnn nnnn nnnn nnnn nnnn nnnn nnnn nnnn nnnn nnnn nnnn nnnn nnnn nnnn nnnn nnnn nnnn nnnn nnnn nnnn nnnn nnnn nnnn nnnn nnnn nnnn nnnn nnnn nnnn nnnn nnnn nnnn nnnn nnnn nnnn nnnn nnnn nnnn nnnn nnnn nnnn nnnn nnnn nnnn nnnn nnnn nnnn nnnn nnnn nnnn nnnn nnnn nnnn nnnn nnnn nnnn nnnn nnnn nnnn nnnn nnnn nnnn nnnn nnnn nnnn nnnn nnnn nnnn nnnn nnnn nnnn nnnn nnnn nnnn nnnn nnnn nnnn nnnn nnnn nnnn nnnn nnnn nnnn nnnn nnnn nnnn nnnn nnnn nnnn nnnn nnnn nnnn nnnn nnnn nnnn nnnn nnnn nnnn nnnn nnnn nnnn nnnn nnnn nnnn nnnn nnnn nnnn nnnn nnnn nnnn nnnn nnnn nnnn nnnn nnnn nnnn nnnn nnnn nnnn nnnn nnnn nnnn nnnn nnnn nnnn nnnn nnnn nnnn nnnn nnnn nnnn nnnn nnnn nnnn nnnn nnnn nnnn nnnn nnnn nnnn nnnn nnnn nnnn nnnn nnnn nnnn nnnn nnnn nnnn nnnn nnnn nnnn nnnn nnnn nnnn nnnn nnnn nnnn nnnn nnnn nnnn nnnn nnnn nnnn nnnn nnnn nnnn nnnn nnnn nnnn nnnn nnnn nnnn nnnn nnnn nnnn nnnn nnnn nnnn nnnn nnnn nnnn nnnn nnnn nnnn nnnn nnnn nnnn nnnn nnnn nnnn nnnn nnnn nnnn nnnn nnnn nnnn nnnn nnnn nnnn nnnn nnnn nnnn nnnn nnnn nnnn nnnn nnnn nnnn nnnn nnnn nnnn nnnn nnnn nnnn nnnn nnnn nnnn nnnn nnnn nnnn nnnn nnnn nnnn nnnn nnnn nnnn nnnn nnnn nnnn nnnn nnnn nnnn nnnn nnnn nnnn nnnn nnnn nnnn nnnn nnnn nnnn nnnn nnnn nnnn nnnn nnnn nnnn nnnn nnnn nnnn nnnn nnnn nnnn nnnn nnnn nnnn nnnn nnnn nnnn nnnn nnnn nnnn nnnn nnnn nnnn nnnn nnnn nnnn nnnn nnnn nnnn nnnn nnnn nnnn nnnn nnnn nnnn nnnn nnnn nnnn nnnn nnnn nnnn nnnn nnnn nnnn nnnn nnnn nnnn nnnn nnnn nnnn nnnn nnnn nnnn nnnn nnnn nnnn nnnn nnnn nnnn nnnn nnnn nnnn nnnn nnnn nnnn nnnn nnnn nnnn nnnn nnnn nnnn nnnn nnnn nnnn nnnn nnnn nnnn nnnn nnnn nnnn nnnn nnnn nnnn nnnn nnnn nnnn nnnn nnnn nnnn nnnn nnnn nnnn nnnn nnnn nnnn nnnn nnnn nnnn nnnn nnnn nnnn nnnn nnnn nnnn nnnn nnnn nnnn nnnn nnnn nnnn nnnn nnnn nnnn nnnn nnnn nnnn nnnn nnnn nnnn nnnn nnnn nnnn nnnn nnnn nnnn nnnn nnnn nnnn nnnn nnnn nnnn nnnn nnnn nnnn nnnn nnnn nnnn nnnn nnnn nnnn nnnn nnnn nnnn nnnn nnnn nnnn nnnn nnnn nnnn nnnn nnnn nnnn nnnn nnnn nnnn nnnn nnnn nnnn nnnn nnnn nnnn nnnn nnnn nnnn nnnn nnnn nnnn nnnn nnnn nnnn nnnn nnnn nnnn nnnn nnnn nnnn nnnn nnnn nnnn nnnn nnnn nnnn nnnn nnnn nnnn nnnn nnnn nnnn nnnn nnnn nnnn nnnn nnnn nnnn nnnn nnnn nnnn nnnn nnnn nnnn nnnn nnnn nnnn nnnn nnnn nnnn nnnn nnnn nnnn nnnn nnnn nnnn nnnn nnnn nnnn nnnn nnnn nnnn nnnn nnnn nnnn nnnn nnnn nnnn nnnn nnnn nnnn nnnn nnnn nnnn nnnn nnnn nnnn nnnn nnnn nnnn nnnn nnnn nnnn nnnn nnnn nnnn nnnn nnnn nnnn nnnn nnnn nnnn nnnn nnnn nnnn nnnn nnnn nnnn nnnn nnnn nnnn nnnn nnnn nnnn nnnn nnnn nnnn nnnn nnnn nnnn nnnn nnnn nnnn nnnn nnnn nnnn nnnn nnnn nnnn nnnn nnnn nnnn nnnn nnnn nnnn nnnn nnnn nnnn nnnn nnnn nnnn nnnn nnnn nnnn nnnn nnnn nnnn nnnn nnnn nnnn nnnn nnnn nnnn nnnn nnnn nnnn nnnn nnnn nnnn nnnn nnnn nnnn nnnn nnnn nnnn nnnn nnnn nnnn nnnn nnnn nnnn nnnn nnnn nnnn nnnn nnnn nnnn nnnn nnnn nnnn nnnn nnnn nnnn nnnn nnnn nnnn nnnn nnnn nnnn nnnn nnnn nnnn nnnn nnnn nnnn nnnn nnnn nnnn nnnn nnnn nnnn nnnn nnnn nnnn nnnn nnnn nnnn nnnn nnnn nnnn nnnn nnnn nnnn nnnn nnnn nnnn nnnn nnnn nnnn nnnn nnnn nnnn nnnn nnnn nnnn nnnn nnnn nnnn nnnn nnnn nnnn nnnn nnnn nnnn nnnn nnnn nnnn nnnn nnnn nnnn nnnn nnnn nnnn nnnn nnnn nnnn nnnn nnnn nnnn nnnn nnnn nnnn nnnn nnnn nnnn nnnn nnnn nnnn nnnn nnnn nnnn nnnn nnnn nnnn nnnn nnnn nnnn nnnn nnnn nnnn nnnn nnnn nnnn nnnn nnnn nnnn nnnn nnnn nnnn nnnn nnnn nnnn nnnn nnnn nnnn nnnn nnnn nnnn nnnn nnnn nnnn nnnn nnnn nnnn nnnn nnnn nnnn nnnn nnnn nnnn nnnn nnnn nnnn nnnn nnnn nnnn nnnn nnnn nnnn nnnn nnnn nnnn nnnn nnnn nnnn nnnn nnnn nnnn nnnn nnnn nnnn nnnn nnnn nnnn nnnn nnnn nnnn nnnn nnnn nnnn nnnn nnnn nnnn nnnn nnnn nnnn nnnn nnnn nnnn nnnn nnnn nnnn nnnn nnnn nnnn nnnn nnnn nnnn nnnn nnnn nnnn nnnn nnnn nnnn nnnn nnnn nnnn nnnn nnnn nnnn nnnn nnnn nnnn nnnn nnnn nnnn nnnn nnnn nnnn nnnn nnnn nnnn nnnn nnnn nnnn nnnn nnnn nnnn nnnn nnnn nnnn nnnn nnnn nnnn nnnn nnnn nnnn nnnn nnnn nnnn nnnn nnnn nnnn nnnn nnnn nnnn nnnn nnnn nnnn nnnn nnnn nnnn nnnn nnnn nnnn nnnn nnnn nnnn nnnn nnnn nnnn nnnn nnnn nnnn nnnn nnnn nnnn nnnn nnnn nnnn nnnn nnnn nnnn nnnn nnnn nnnn nnnn nnnn nnnn nnnn nnnn nnnn nnnn nnnn nnnn nnnn nnnn nnnn nnnn nnnn nnnn nnnn nnnn nnnn nnnn nnnn nnnn nnnn nnnn nnnn nnnn nnnn nnnn nnnn nnnn nnnn nnnn nnnn nnnn nnnn nnnn nnnn nnnn nnnn nnnn nnnn nnnn nnnn nnnn nnnn nnnn nnnn nnnn nnnn nnnn nnnn nnnn nnnn nnnn nnnn nnnn nnnn nnnn nnnn nnnn nnnn nnnn nnnn nnnn nnnn nnnn nnnn nnnn nnnn nnnn nnnn nnnn nnnn nnnn nnnn nnnn nnnn nnnn nnnn nnnn nnnn nnnn nnnn nnnn nnnn nnnn nnnn nnnn\n",
            "\n",
            "> tttt tttc ttca tcat catt attt tttt tttc ttca tcaa caag aaga agat gatg atgc tgcc gcca ccag caga agac gaca acat catc atca tcag cagc agct gctg ctgc tgct gctg ctgg tggt ggtc gtcc tccc ccct cctt cttc ttcg tcgg cgga ggaa gaac aact actt cttt tttt tttc ttcc tccc ccct cctg ctgg tggc ggct gctt cttc ttca tcat catc atct tctc ctct tctt cttg ttgc tgcc gcca ccaa caaa aaat aatt attg ttgt tgtt gttc ttcg tcgt cgtt gttg ttgt tgtt gttc ttcg tcgc cgct gctg ctgt tgtc gtct tctg ctgt tgtt gttg ttgg tggt ggtt gttt tttt tttg ttgt tgtt gttg ttgg tggc ggct gctt ctta ttaa taaa aaag aagc agct gctg ctgc tgct gctt cttt tttt tttc ttca tcaa caag aagt agtg gtgg tggc ggct gctt cttt tttc ttct tctg ctgg tggg gggt ggta gtag tagg agga ggaa gaag aagc agct gctg ctgg tggc ggca gcat catt attc ttca tcac cacc accg ccgc cgcg gcgc cgcc gccc ccca ccac cact actt cttc ttct tctg ctgg tggc ggcc gcct cctt cttc ttcg tcgg cggt ggtt gttg ttgg tggg gggt ggtc gtcg tcgg cggt ggtt gttc ttcg tcgg cggc ggct gctg ctgg tggc ggcc gccg ccgt cgtt gttt tttt tttg ttga tgaa gaag aaga agat gata atat tatt attc ttcg tcgc cgct gctt ctta ttat tata ataa taag aagt agtt gttg ttgg tgga ggaa gaaa aaaa aaat aatt atta ttac taca acaa caaa aaac aaca acat catt attt tttt tttt tttg ttgc tgcg gcgt cgta gtat tatt attt tttg ttgc tgcc gcct cctc ctcg tcgg cggc ggcg gcgg cggt ggtt gttg ttgc tgct gctg ctgt tgtt gttc ttct tctg ctgg tggc ggcg gcgg cggt ggtt gttg ttgc tgcc gcct cctt cttg ttga tgac gact actc ctca tcag cagt agtg gtgt tgtc gtct tctg ctgt tgtc gtcg tcgt cgta gtac taca acac caca acat catg atgc tgct gctc ctct tctt cttg ttgt tgtc gtct tctc ctct tctg ctgg tgga ggat gatc atct tctt cttt tttg ttgg tggt ggtt gttg ttgt tgtt gttg ttga tgat gatg atgc tgca gcaa caac aaca acaa caaa aaaa aaag aagc agcc gcca ccag cagc agcg gcgg cggc ggca gcaa caaa aaaa aaat aatc atca tcaa caaa aaat aata ataa taag aagc agca gcaa caac aaca acag cagc agcc gcca ccaa caaa aaaa aaac aaca acat catc atct tctt cttt tttt tttc ttca tcac cacc acca ccag cagc agca gcat catc atcc tcca ccag caga agac gacg acgc cgcc gccg ccga cgat gata atag taga agaa gaat aata ataa taaa aaaa aaac aact actt cttg ttgc tgct gctg ctgc tgca gcag caga agaa gaag aaga agaa gaag aagg aggc ggct gcta ctaa taaa aaag aaga agaa gaag aagc agca gcat catg atgc tgca gcag cagc agcc gccc ccca ccag cagc agcc gcca ccat catc atca tcaa caaa aaaa aaag aagc agcc gccg ccgg cgga ggaa gaaa aaac aact acta ctaa taaa aaaa aaat aatt attt tttt tttg ttgt tgtg gtgg tggc ggca gcag caga agaa gaag aagt agtt gtta ttaa taag aagg aggc ggca gcaa caac aacg acgc cgcg gcgc cgca gcac caca acaa caac aact actt cttg ttgt tgtc gtcg tcga cgat gatt attg ttgt tgtg gtgc tgcg gcgt cgtt gttg ttgc tgcg gcgt cgtt gttg ttgg tggt ggtt gtta ttac tact actc ctcc tccc cccc cccg ccga cgat gatt attt tttg ttgc tgct gctg ctgc tgca gcac cact actg ctgt tgta gtaa taaa aaaa aaaa aaat aatg atgt tgtc gtca tcat catt atta ttat tatc atcc tcct cctt ctta ttat tatt attc ttct tcta ctaa taat aatt attt ttta ttag tagc agct gctt ctta ttaa taaa aaaa aaaa aaaa aaac aacc acca ccat catt attt tttt ttta ttag taga agaa gaac aaca acaa caac aact acta ctaa taat aata atat tata atat tata atag tagt agtg gtgt tgtg gtga tgac gact acta ctat tata ataa taaa aaat aatt attc ttct tctt ctta ttat tatt attg ttgg tggt ggta gtat tatt atta ttaa taat aatc atca tcaa caaa aaat aatc atcg tcgc cgct gctc ctca tcaa caat aatt atta ttaa taaa aaaa aaat aata ataa taaa aaaa aaaa aaat aatt atta ttac taca acat cata atat tatt attt ttta ttag taga agaa gaaa aaat aatg atga tgat gatt attc ttca tcaa caat aata ataa taat aata atat tatc atcg tcgt cgta gtat tata atag taga agaa gaaa aaac aacc acca ccac caca acac cacg acgc cgct gcta ctaa taaa aaaa aaaa aaaa aaat aatc atct tcta ctat tatt attt tttt ttta ttaa taag aagg agga ggaa gaag aagt agta gtaa taaa aaac aact acta ctat tata atat tatt attc ttcc tcca ccat catt atta ttac taca acaa caat aata atat tatg atgt tgta gtac taca acac caca acaa caat aata ataa taaa aaat aatt atta ttat tatt attt tttt tttt tttc ttcc tcca ccag cagt agtg gtgt tgtg gtgc tgcc gcct cctt cttt tttc ttct tctg ctgc tgct gcta ctac tact actc ctct tctc ctct tctt cttt tttt tttt tttt tttt tttg ttgg tggc ggcg gcgg cggt ggtc gtcg tcgc cgca gcag cagt agtg gtgc tgct gctg ctga tgaa gaaa aaac aact actt cttt tttg ttgt tgtt gttt tttt tttt tttc ttcc tcct cctt cttt tttt tttt ttta ttat tata atag taga agag gagt agtt gttt tttt tttt tttc ttct tctt cttc ttcg tcgg cggg gggc ggcc gcct cctt cttt tttt tttt tttc ttcg tcga cgat gatt attt ttta ttat tatt attt tttt tttt tttg ttgc tgct gctt cttg ttgc tgca gcaa caaa aaaa aaaa aaat aatc atcg tcgt cgtg gtgc tgcc gcca ccaa caac aaca acaa caac aact actg ctga tgat gatt attt tttg ttga tgac gact actg ctga tgag gagg agga ggac gact actt cttt tttg ttgc tgcc gccg ccgc cgca gcac cact actc ctcg tcgc cgct gctg ctga tgag gagg aggc ggcg gcgg cggt ggtg gtga tgag gagt agtg gtgg tgga ggaa gaaa aaat aatt attg ttgg tggg gggg ggga ggat gatc atcg tcgg cgga ggaa gaaa aaag aagt agtg gtgg tggg gggg gggt ggtt gttg ttgg tggt ggtg gtgg tggg gggt ggtg gtgt tgtc gtct tctg ctgc\n",
            "= nnnn nnnn nnnn nnnn nnnn nnnn nnnn nnnn nnnn nnnn nnnn nnnn nnnn nnnn nnnn nnnn nnnn nnnn nnnn nnnn nnnn nnnn nnnn nnnn nnnn nnnn nnnn nnnn nnnn nnnn nnnn nnnn nnnn nnnn nnnn nnnn nnnn nnnn nnnn nnnn nnnn nnnn nnnn nnnn nnnn nnnn nnnn nnnn nnnn nnnn nnnn nnnn nnnn nnnn nnnn nnnn nnnn nnnn nnnn nnnn nnnn nnnn nnnn nnnn nnnn nnnn nnnn nnnn nnnn nnnn nnnn nnnn nnnn nnnn nnnn nnnn nnnn nnnn nnnn nnnn nnnn nnnn nnnn nnnn nnnn nnnn nnnn nnnn nnnn nnnn nnnn nnnn nnnn nnnn nnnn nnnn nnnn nnnn nnnn nnnn nnnn nnnn nnnn nnnn nnnn nnnn nnnn nnnn nnnn nnnn nnnn nnnn nnnn nnnn nnnn nnnn nnnn nnnn nnnn nnnn nnnn nnnn nnnn nnnn nnnn nnnn nnnn nnnn nnnn nnnn nnnn nnnn nnnn nnnn nnnn nnnn nnnn nnnn nnnn nnnn nnnn nnnn nnnn nnnn nnnn nnnn nnnn nnnn nnnn nnnn nnnn nnnn nnnn nnnn nnnn nnnn nnnn nnnn nnnn nnnn nnnn nnnn nnnn nnnn nnnn nnnn nnnn nnnn nnnn nnnn nnnn nnnn nnnn nnnn nnnn nnnn nnnn nnnn nnnn nnnn nnnn nnnn nnnn nnnn nnnn nnnn nnnn nnnn nnnn nnnn nnnn nnnn nnnn nnnn nnnn nnnn nnnn nnnn nnnn nnnn nnnn nnnn nnnn nnnn nnnn nnnn nnnn nnnn nnnn nnnn nnnn nnnn nnnn nnnn nnnn nnnn nnnn nnnn nnnn nnnn nnnn nnnn nnnn nnnn nnnn nnnn nnnn nnnn nnnn nnnn nnnn nnnn nnnn nnnn nnnn nnnn nnnn nnnn nnnn nnnn nnnn nnnn nnnn nnnn nnnn nnnn nnnn nnnn nnnn nnnn nnnn nnnn nnnn nnnn nnnn nnnn nnnn nnnn nnnn nnnn nnnn nnnn nnnn nnnn nnnn nnnn nnnn nnnn nnnn nnnn nnnn nnnn nnnn nnnn nnnn nnnn nnnn nnnn nnnn nnnn nnnn nnnn nnnn nnnn nnnn nnnn nnnn nnnn nnnn nnnn nnnn nnnn nnnn nnnn nnnn nnnn nnnn nnnn nnnn nnnn nnnn nnnn nnnn nnnn nnnn nnnn nnnn nnnn nnnn nnnn nnnn nnnn nnnn nnnn nnnn nnnn nnnn nnnn nnnn nnnn nnnn nnnn nnnn nnnn nnnn nnnn nnnn nnnn nnnn nnnn nnnn nnnn nnnn nnnn nnnn nnnn nnnn nnnn nnnn nnnn nnnn nnnn nnnn nnnn nnnn nnnn nnnn nnnn nnnn nnnn nnnn nnnn nnnn nnnn nnnn nnnn nnnn nnnn nnnn nnnn nnnn nnnn nnnn nnnn nnnn nnnn nnnn nnnn nnnn nnnn nnnn nnnn nnnn nnnn nnnn nnnn nnnn nnnn nnnn nnnn nnnn nnnn nnnn nnnn nnnn nnnn nnnn nnnn nnnn nnnn nnnn nnnn nnnn nnnn nnnn nnnn nnnn nnnn nnnn nnnn nnnn nnnn nnnn nnnn nnnn nnnn nnnn nnnn nnnn nnnn nnnn nnnn nnnn nnnn nnnn nnnn nnnn nnnn nnnn nnnn nnnn nnnn nnnn nnnn nnnn nnnn nnnn nnnn nnnn nnnn nnnn nnnn nnnn nnnn nnnn nnnn nnnn nnnn nnnn nnnn nnnn nnnn nnnn nnnn nnnn nnnn nnnn nnnn nnnn nnnn nnnn nnnn nnnn nnnn nnnn nnnn nnnn nnnn nnnn nnnn nnnn nnnn nnnn nnnn nnnn nnnn nnnn nnnn nnnn nnnn nnnn nnnn nnnn nnnn nnnn nnnn nnnn nnnn nnnn nnnn nnnn nnnn nnnn nnnn nnnn nnnn nnnn nnnn nnnn nnnn nnnn nnnn nnnn nnnn nnnn nnnn nnnn nnnn nnnn nnnn nnnn nnnn nnnn nnnn nnnn nnnn nnnn nnnn nnnn nnnn nnnn nnnn nnnn nnnn nnnn nnnn nnnn nnnn nnnn nnnn nnnn nnnn nnnn nnnn nnnn nnnn nnnn nnnn nnnn nnnn nnnn nnnn nnnn nnnn nnnn nnnn nnnn nnnn nnnn nnnn nnnn nnnn nnnn nnnn nnnn nnnn nnnn nnnn nnnn nnnn nnnn nnnn nnnn nnnn nnnn nnnn nnnn nnnn nnnn nnnn nnnn nnnn nnnn nnnn nnnn nnnn nnnn nnnn nnnn nnnn nnnn nnnn nnnn nnnn nnnn nnnn nnnn nnnn nnnn nnnn nnnn nnnn nnnn nnnn nnnn nnnn nnnn nnnn nnnn nnnn nnnn nnnn nnnn nnnn nnnn nnnn nnnn nnnn nnnn nnnn nnnn nnnn nnnn nnnn nnnn nnnn nnnn nnnn nnnn nnnn nnnn nnnn nnnn nnnn nnnn nnnn nnnn nnnn nnnn nnnn nnnn nnnn nnnn nnnn nnnn nnnn nnnn nnnn nnnn nnnn nnnn nnnn nnnn nnnn nnnn nnnn nnnn nnnn nnnn nnnn nnnn nnnn nnnn nnnn nnnn nnnn nnnn nnnn nnnn nnnn nnnn nnnn nnnn nnnn nnnn nnnn nnnn nnnn nnnn nnnn nnnn nnnn nnnn nnnn nnnn nnnn nnnn nnnn nnnn nnnn nnnn nnnn nnnn nnnn nnnn nnnn nnnn nnnn nnnn nnnn nnnn nnnn nnnn nnnn nnnn nnnn nnnn nnnn nnnn nnnn nnnn nnnn nnnn nnnn nnnn nnnn nnnn nnnn nnnn nnnn nnnn nnnn nnnn nnnn nnnn nnnn nnnn nnnn nnnn nnnn nnnn nnnn nnnn nnnn nnnn nnnn nnnn nnnn nnnn nnnn nnnn nnnn nnnn nnnn nnnn nnnn nnnn nnnn nnnn nnnn nnnn nnnn nnnn nnnn nnnn nnnn nnnn nnnn nnnn nnnn nnnn nnnn nnnn nnnn nnnn nnnn nnnn nnnn nnnn nnnn nnnn nnnn nnnn nnnn nnnn nnnn nnnn nnnn nnnn nnnn nnnn nnnn nnnn nnnn nnnn nnnn nnnn nnnn nnnn nnnn nnnn nnnn nnnn nnnn nnnn nnnn nnnn nnnn nnnn nnnn nnnn nnnn nnnn nnnn nnnn nnnn nnnn nnnn nnnn nnnn nnnn nnnn nnnn nnnn nnnn nnnn nnnn nnnn nnnn nnnn nnnn nnnn nnnn nnnn nnnn nnnn nnnn nnnn nnnn nnnn nnnr nnrr nrrr rrrr rrrr rrrr rrrr rrrn rrnn rnnn nnnn nnnn nnnn nnnn nnnn nnnn nnnn nnnn nnnn nnnn nnnn nnnn nnnn nnnn nnnn nnnn nnnr nnrr nrrr rrrr rrrr rrrr rrrr rrrr rrrr rrrr rrrr rrrr rrrr rrrr rrrr rrrr rrrr rrrr rrrr rrrr rrrr rrrr rrrr rrrr rrrr rrrr rrrr rrrr rrrr rrrr rrrr rrrr rrrr rrrr rrrr rrrr rrrr rrrr rrrr rrrr rrrr rrrr rrrr rrrr rrrr rrrr rrrr rrrr rrrr rrrr rrrr rrrr rrrr rrrr rrrn rrnn rnnn nnnn nnnn nnnn nnnn nnnn nnnn nnnn nnnn nnnn nnnn nnnn nnnn nnnn nnnn nnnn nnnn nnnn nnnn nnnn nnnn nnnn nnnn nnnn nnnn nnnn nnnn nnnn nnnn nnnn nnnn nnnn nnnn nnnn nnnn nnnn nnnn nnnn nnnn nnnn nnnn nnnn nnnn nnnn nnnn nnnn nnnn nnnn nnnn nnnn nnnn nnnn nnnn nnnn nnnn nnnn nnnn nnnn nnnn nnnn nnnn nnnn nnnn nnnn nnnn nnnn nnnn nnnn nnnn nnnn nnnn nnnn nnnn nnnn nnnn nnnn nnnn nnnn nnnn nnnn nnnn nnnn nnnn nnnn nnnn nnnn nnnn nnnn nnnn nnnn nnnn nnnn nnnn nnnn nnnn nnnn nnnn nnnn nnnn nnnn nnnn nnnn nnnn nnnn nnnn\n",
            "< nnnn nnnn nnnn nnnn nnnn nnnn nnnn nnnn nnnn nnnn nnnn nnnn nnnn nnnn nnnn nnnn nnnn nnnn nnnn nnnn nnnn nnnn nnnn nnnn nnnn nnnn nnnn nnnn nnnn nnnn nnnn nnnn nnnn nnnn nnnn nnnn nnnn nnnn nnnn nnnn nnnn nnnn nnnn nnnn nnnn nnnn nnnn nnnn nnnn nnnn nnnn nnnn nnnn nnnn nnnn nnnn nnnn nnnn nnnn nnnn nnnn nnnn nnnn nnnn nnnn nnnn nnnn nnnn nnnn nnnn nnnn nnnn nnnn nnnn nnnn nnnn nnnn nnnn nnnn nnnn nnnn nnnn nnnn nnnn nnnn nnnn nnnn nnnn nnnn nnnn nnnn nnnn nnnn nnnn nnnn nnnn nnnn nnnn nnnn nnnn nnnn nnnn nnnn nnnn nnnn nnnn nnnn nnnn nnnn nnnn nnnn nnnn nnnn nnnn nnnn nnnn nnnn nnnn nnnn nnnn nnnn nnnn nnnn nnnn nnnn nnnn nnnn nnnn nnnn nnnn nnnn nnnn nnnn nnnn nnnn nnnn nnnn nnnn nnnn nnnn nnnn nnnn nnnn nnnn nnnn nnnn nnnn nnnn nnnn nnnn nnnn nnnn nnnn nnnn nnnn nnnn nnnn nnnn nnnn nnnn nnnn nnnn nnnn nnnn nnnn nnnn nnnn nnnn nnnn nnnn nnnn nnnn nnnn nnnn nnnn nnnn nnnn nnnn nnnn nnnn nnnn nnnn nnnn nnnn nnnn nnnn nnnn nnnn nnnn nnnn nnnn nnnn nnnn nnnn nnnn nnnn nnnn nnnn nnnn nnnn nnnn nnnn nnnn nnnn nnnn nnnn nnnn nnnn nnnn nnnn nnnn nnnn nnnn nnnn nnnn nnnn nnnn nnnn nnnn nnnn nnnn nnnn nnnn nnnn nnnn nnnn nnnn nnnn nnnn nnnn nnnn nnnn nnnn nnnn nnnn nnnn nnnn nnnn nnnn nnnn nnnn nnnn nnnn nnnn nnnn nnnn nnnn nnnn nnnn nnnn nnnn nnnn nnnn nnnn nnnn nnnn nnnn nnnn nnnn nnnn nnnn nnnn nnnn nnnn nnnn nnnn nnnn nnnn nnnn nnnn nnnn nnnn nnnn nnnn nnnn nnnn nnnn nnnn nnnn nnnn nnnn nnnn nnnn nnnn nnnn nnnn nnnn nnnn nnnn nnnn nnnn nnnn nnnn nnnn nnnn nnnn nnnn nnnn nnnn nnnn nnnn nnnn nnnn nnnn nnnn nnnn nnnn nnnn nnnn nnnn nnnn nnnn nnnn nnnn nnnn nnnn nnnn nnnn nnnn nnnn nnnn nnnn nnnn nnnn nnnn nnnn nnnn nnnn nnnn nnnn nnnn nnnn nnnn nnnn nnnn nnnn nnnn nnnn nnnn nnnn nnnn nnnn nnnn nnnn nnnn nnnn nnnn nnnn nnnn nnnn nnnn nnnn nnnn nnnn nnnn nnnn nnnn nnnn nnnn nnnn nnnn nnnn nnnn nnnn nnnn nnnn nnnn nnnn nnnn nnnn nnnn nnnn nnnn nnnn nnnn nnnn nnnn nnnn nnnn nnnn nnnn nnnn nnnn nnnn nnnn nnnn nnnn nnnn nnnn nnnn nnnn nnnn nnnn nnnn nnnn nnnn nnnn nnnn nnnn nnnn nnnn nnnn nnnn nnnn nnnn nnnn nnnn nnnn nnnn nnnn nnnn nnnn nnnn nnnn nnnn nnnn nnnn nnnn nnnn nnnn nnnn nnnn nnnn nnnn nnnn nnnn nnnn nnnn nnnn nnnn nnnn nnnn nnnn nnnn nnnn nnnn nnnn nnnn nnnn nnnn nnnn nnnn nnnn nnnn nnnn nnnn nnnn nnnn nnnn nnnn nnnn nnnn nnnn nnnn nnnn nnnn nnnn nnnn nnnn nnnn nnnn nnnn nnnn nnnn nnnn nnnn nnnn nnnn nnnn nnnn nnnn nnnn nnnn nnnn nnnn nnnn nnnn nnnn nnnn nnnn nnnn nnnn nnnn nnnn nnnn nnnn nnnn nnnn nnnn nnnn nnnn nnnn nnnn nnnn nnnn nnnn nnnn nnnn nnnn nnnn nnnn nnnn nnnn nnnn nnnn nnnn nnnn nnnn nnnn nnnn nnnn nnnn nnnn nnnn nnnn nnnn nnnn nnnn nnnn nnnn nnnn nnnn nnnn nnnn nnnn nnnn nnnn nnnn nnnn nnnn nnnn nnnn nnnn nnnn nnnn nnnn nnnn nnnn nnnn nnnn nnnn nnnn nnnn nnnn nnnn nnnn nnnn nnnn nnnn nnnn nnnn nnnn nnnn nnnn nnnn nnnn nnnn nnnn nnnn nnnn nnnn nnnn nnnn nnnn nnnn nnnn nnnn nnnn nnnn nnnn nnnn nnnn nnnn nnnn nnnn nnnn nnnn nnnn nnnn nnnn nnnn nnnn nnnn nnnn nnnn nnnn nnnn nnnn nnnn nnnn nnnn nnnn nnnn nnnn nnnn nnnn nnnn nnnn nnnn nnnn nnnn nnnn nnnn nnnn nnnn nnnn nnnn nnnn nnnn nnnn nnnn nnnn nnnn nnnn nnnn nnnn nnnn nnnn nnnn nnnn nnnn nnnn nnnn nnnn nnnn nnnn nnnn nnnn nnnn nnnn nnnn nnnn nnnn nnnn nnnn nnnn nnnn nnnn nnnn nnnn nnnn nnnn nnnn nnnn nnnn nnnn nnnn nnnn nnnn nnnn nnnn nnnn nnnn nnnn nnnn nnnn nnnn nnnn nnnn nnnn nnnn nnnn nnnn nnnn nnnn nnnn nnnn nnnn nnnn nnnn nnnn nnnn nnnn nnnn nnnn nnnn nnnn nnnn nnnn nnnn nnnn nnnn nnnn nnnn nnnn nnnn nnnn nnnn nnnn nnnn nnnn nnnn nnnn nnnn nnnn nnnn nnnn nnnn nnnn nnnn nnnn nnnn nnnn nnnn nnnn nnnn nnnn nnnn nnnn nnnn nnnn nnnn nnnn nnnn nnnn nnnn nnnn nnnn nnnn nnnn nnnn nnnn nnnn nnnn nnnn nnnn nnnn nnnn nnnn nnnn nnnn nnnn nnnn nnnn nnnn nnnn nnnn nnnn nnnn nnnn nnnn nnnn nnnn nnnn nnnn nnnn nnnn nnnn nnnn nnnn nnnn nnnn nnnn nnnn nnnn nnnn nnnn nnnn nnnn nnnn nnnn nnnn nnnn nnnn nnnn nnnn nnnn nnnn nnnn nnnn nnnn nnnn nnnn nnnn nnnn nnnn nnnn nnnn nnnn nnnn nnnn nnnn nnnn nnnn nnnn nnnn nnnn nnnn nnnn nnnn nnnn nnnn nnnn nnnn nnnn nnnn nnnn nnnn nnnn nnnn nnnn nnnn nnnn nnnn nnnn nnnn nnnn nnnn nnnn nnnn nnnn nnnn nnnn nnnn nnnn nnnn nnnn nnnn nnnn nnnn nnnn nnnn nnnn nnnn nnnn nnnn nnnn nnnn nnnn nnnn nnnn nnnn nnnn nnnn nnnn nnnn nnnn nnnn nnnn nnnn nnnn nnnn nnnn nnnn nnnn nnnn nnnn nnnn nnnn nnnn nnnn nnnn nnnn nnnn nnnn nnnn nnnn nnnn nnnn nnnn nnnn nnnn nnnn nnnn nnnn nnnn nnnn nnnn nnnn nnnn nnnn nnnn nnnn nnnn nnnn nnnn nnnn nnnn nnnn nnnn nnnn nnnn nnnn nnnn nnnn nnnn nnnn nnnn nnnn nnnn nnnn nnnn nnnn nnnn nnnn nnnn nnnn nnnn nnnn nnnn nnnn nnnn nnnn nnnn nnnn nnnn nnnn nnnn nnnn nnnn nnnn nnnn nnnn nnnn nnnn nnnn nnnn nnnn nnnn nnnn nnnn nnnn nnnn nnnn nnnn nnnn nnnn nnnn nnnn nnnn nnnn nnnn nnnn nnnn nnnn nnnn nnnn nnnn nnnn nnnn nnnn nnnn nnnn nnnn nnnn nnnn nnnn nnnn nnnn nnnn nnnn nnnn nnnn nnnn nnnn nnnn nnnn nnnn nnnn nnnn nnnn nnnn nnnn nnnn nnnn nnnn nnnn nnnn nnnn nnnn nnnn nnnn nnnn nnnn nnnn nnnn nnnn nnnn nnnn nnnn nnnn nnnn nnnn nnnn nnnn nnnn nnnn nnnn nnnn nnnn nnnn nnnn nnnn nnnn nnnn nnnn nnnn nnnn nnnn nnnn\n",
            "\n"
          ]
        }
      ]
    },
    {
      "cell_type": "code",
      "source": [
        "import matplotlib.pyplot as plt\n",
        "import numpy as np\n",
        "%matplotlib notebook\n",
        "%matplotlib inline\n",
        "output_words, attentions = evaluate(\n",
        "    encoder1, attn_decoder1, repeat_df['Sequence_words_new'][0])\n",
        "plt.matshow(attentions.numpy())\n",
        "plt.show()"
      ],
      "metadata": {
        "colab": {
          "base_uri": "https://localhost:8080/",
          "height": 275
        },
        "id": "NO3vMPp7X2FD",
        "outputId": "16608661-abf3-4abd-c995-ba04f82d9f81"
      },
      "execution_count": 36,
      "outputs": [
        {
          "output_type": "display_data",
          "data": {
            "text/plain": [
              "<Figure size 288x288 with 1 Axes>"
            ],
            "image/png": "[encoded data removed]"
          },
          "metadata": {
            "needs_background": "light"
          }
        }
      ]
    },
    {
      "cell_type": "code",
      "source": [
        ""
      ],
      "metadata": {
        "id": "v6FkFnuWZ5Le"
      },
      "execution_count": null,
      "outputs": []
    }
  ],
  "metadata": {
    "colab": {
      "name": "gene_sequence.ipynb",
      "provenance": []
    },
    "kernelspec": {
      "display_name": "Python 3",
      "name": "python3"
    },
    "language_info": {
      "name": "python"
    },
    "accelerator": "GPU"
  },
  "nbformat": 4,
  "nbformat_minor": 0
}